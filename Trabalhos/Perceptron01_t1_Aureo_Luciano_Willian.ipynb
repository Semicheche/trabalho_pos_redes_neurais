{
 "cells": [
  {
   "attachments": {},
   "cell_type": "markdown",
   "metadata": {
    "id": "9zTelMBgX32Q"
   },
   "source": [
    "Perceptron com a base de dados Wine Recognition\n",
    "--\n",
    "\n",
    "Importaçōes das bibliotecas\n"
   ]
  },
  {
   "cell_type": "code",
   "execution_count": 1,
   "metadata": {
    "colab": {
     "base_uri": "https://localhost:8080/"
    },
    "executionInfo": {
     "elapsed": 458,
     "status": "ok",
     "timestamp": 1682992384365,
     "user": {
      "displayName": "Fabio Alexandre Spanhol",
      "userId": "09187412498449397569"
     },
     "user_tz": 180
    },
    "id": "vJ1jaV0KYDhQ",
    "outputId": "ce650aaf-59e0-4bef-8670-97639a5c4329",
    "tags": []
   },
   "outputs": [
    {
     "name": "stdout",
     "output_type": "stream",
     "text": [
      "numpy:1.24.3\n",
      "pandas:2.0.1\n"
     ]
    }
   ],
   "source": [
    "import numpy as np\n",
    "\n",
    "import pandas as pd\n",
    "\n",
    "import matplotlib.pyplot as plt\n",
    "\n",
    "import seaborn as sns\n",
    "\n",
    "from sklearn.preprocessing import StandardScaler\n",
    "\n",
    "scaler = StandardScaler()\n",
    "# versions\n",
    "print(f'numpy:{np.__version__}\\npandas:{pd.__version__}')\n"
   ]
  },
  {
   "attachments": {},
   "cell_type": "markdown",
   "metadata": {},
   "source": [
    "Primeiramente configurar o pyplot para apresentar nossas imagens."
   ]
  },
  {
   "cell_type": "code",
   "execution_count": 2,
   "metadata": {},
   "outputs": [],
   "source": [
    "plt.style.use('dark_background')  # \"dark\" theme\n",
    "plt.rcParams[\"font.size\"] = 12\n",
    "\n",
    "plt.rcParams[\"figure.figsize\"] = (10, 4)"
   ]
  },
  {
   "cell_type": "code",
   "execution_count": 3,
   "metadata": {
    "id": "56L33GmNRGzh"
   },
   "outputs": [],
   "source": [
    "#CLASSE PERCEPTRON CRIADA NA AULA 01\n",
    "\n",
    "class Perceptron:\n",
    "    \"\"\"\n",
    "    A Perceptron is a type of artificial neural network that can be used for binary classification problems.\n",
    "    \n",
    "    This class implements a Perceptron model using the heaviside activation function and a gradient descent-based\n",
    "    algorithm for training. The model can be used for both training and prediction tasks.\n",
    "    \n",
    "    Parameters:\n",
    "    -----------\n",
    "    learning_rate : float\n",
    "        The learning rate controls the step size of the gradient descent algorithm during training. It determines\n",
    "        how quickly the model learns from the training data. A smaller learning rate may result in slower convergence,\n",
    "        while a larger learning rate may cause the algorithm to overshoot the minimum of the loss function.\n",
    "        \n",
    "    epochs : int\n",
    "        The number of epochs specifies how many times the entire training dataset should be passed through the model\n",
    "        during training. One epoch consists of iterating through all the training examples once. Increasing the number\n",
    "        of epochs may improve the performance of the model, but also increases the training time.\n",
    "    \"\"\"\n",
    "\n",
    "    def __init__(self, learning_rate=0.1, epochs=100):\n",
    "        \"\"\"\n",
    "        Initialize a new Perceptron instance with the specified learning rate and number of epochs.\n",
    "        \n",
    "        Parameters:\n",
    "        -----------\n",
    "        learning_rate : float\n",
    "            The learning rate controls the step size of the gradient descent algorithm during training.\n",
    "            \n",
    "        epochs : int\n",
    "            The number of epochs specifies how many times the entire training dataset should be passed through the\n",
    "            model during training.\n",
    "        \"\"\"      \n",
    "        self.weights = None\n",
    "        self.bias = None\n",
    "        self.learning_rate = learning_rate\n",
    "        self.epochs = epochs\n",
    "\n",
    "\n",
    "    def activation(self, z):\n",
    "        \"\"\"\n",
    "        The activation function computes the output of the Perceptron given its input.\n",
    "        \n",
    "        This implementation uses the heaviside activation function, which returns 1 if the input is greater than or\n",
    "        equal to zero, and 0 otherwise.\n",
    "        \n",
    "        Parameters:\n",
    "        -----------\n",
    "        z : float\n",
    "            The input to the activation function, which is the dot product of the input features and the model weights\n",
    "            plus the bias term.\n",
    "            \n",
    "        Returns:\n",
    "        --------\n",
    "        float\n",
    "            The output of the activation function.\n",
    "        \"\"\"      \n",
    "        return np.heaviside(z, 0) # haviside(z) heaviside -> activation\n",
    "\n",
    "\n",
    "    def fit(self, X, y):\n",
    "        \"\"\"\n",
    "        Train the Perceptron on the provided training data using the gradient descent algorithm.\n",
    "        \n",
    "        This method updates the model weights and bias term using the specified learning rate and number of epochs,\n",
    "        until the algorithm converges or the maximum number of epochs is reached.\n",
    "        \n",
    "        Parameters:\n",
    "        -----------\n",
    "        X : numpy.ndarray\n",
    "            A 2D array of shape (n_samples, n_features) containing the input features for each training example.\n",
    "            \n",
    "        y : numpy.ndarray\n",
    "            A 1D array of shape (n_samples,) containing the target binary class labels for each training example.\n",
    "            The values should be either 0 or 1.\n",
    "            \n",
    "        Returns:\n",
    "        --------\n",
    "        tuple\n",
    "            A tuple containing the trained weights and bias term of the Perceptron.\n",
    "        \"\"\"      \n",
    "        n_features = X.shape[1]\n",
    "        \n",
    "        # Initializing weights and bias\n",
    "        self.weights = np.zeros((n_features))\n",
    "        self.bias = 0\n",
    "        \n",
    "        # Iterating until the number of epochs\n",
    "        for epoch in range(self.epochs):\n",
    "            \n",
    "            # Traversing through the entire training set\n",
    "            for i in range(len(X)):\n",
    "                z = np.dot(X, self.weights) + self.bias # Finding the dot product and adding the bias\n",
    "                y_pred = self.activation(z) # Passing through an activation function\n",
    "                \n",
    "                #Updating weights and bias\n",
    "                self.weights += self.learning_rate * (y[i] - y_pred[i]) * X[i]\n",
    "                self.bias += self.learning_rate * (y[i] - y_pred[i])\n",
    "                \n",
    "        return self.weights, self.bias\n",
    "\n",
    "\n",
    "    def predict(self, X):\n",
    "        \"\"\"\n",
    "        Predicts the binary class label for input data X.\n",
    "          \n",
    "        Parameters:\n",
    "        -----------\n",
    "        X : ndarray, shape (n_samples, n_features)\n",
    "            The input data.\n",
    "        \n",
    "        Returns:\n",
    "        --------\n",
    "        ndarray, shape (n_samples,)\n",
    "            The binary class labels predicted by the perceptron.\n",
    "        \"\"\"\n",
    "        z = np.dot(X, self.weights) + self.bias\n",
    "        return self.activation(z)               "
   ]
  },
  {
   "attachments": {},
   "cell_type": "markdown",
   "metadata": {
    "tags": []
   },
   "source": [
    "_____\n",
    "Importando Datasets\n",
    "--"
   ]
  },
  {
   "cell_type": "code",
   "execution_count": 4,
   "metadata": {
    "colab": {
     "base_uri": "https://localhost:8080/"
    },
    "executionInfo": {
     "elapsed": 1727,
     "status": "ok",
     "timestamp": 1682992405729,
     "user": {
      "displayName": "Fabio Alexandre Spanhol",
      "userId": "09187412498449397569"
     },
     "user_tz": 180
    },
    "id": "-4v5aGCYMXYv",
    "outputId": "4d54a687-3c72-4b82-9851-0946ec72a2f0",
    "tags": []
   },
   "outputs": [
    {
     "name": "stdout",
     "output_type": "stream",
     "text": [
      "dict_keys(['data', 'target', 'frame', 'target_names', 'DESCR', 'feature_names'])\n"
     ]
    }
   ],
   "source": [
    "from sklearn import datasets\n",
    "\n",
    "wine = datasets.load_wine()\n",
    "\n",
    "print(wine.keys())"
   ]
  },
  {
   "attachments": {},
   "cell_type": "markdown",
   "metadata": {},
   "source": [
    "## Criando o Dataframe com pandas"
   ]
  },
  {
   "cell_type": "code",
   "execution_count": 5,
   "metadata": {
    "colab": {
     "base_uri": "https://localhost:8080/",
     "height": 206
    },
    "executionInfo": {
     "elapsed": 256,
     "status": "ok",
     "timestamp": 1682992454236,
     "user": {
      "displayName": "Fabio Alexandre Spanhol",
      "userId": "09187412498449397569"
     },
     "user_tz": 180
    },
    "id": "M6tGN0lJXbjO",
    "outputId": "68c3a3cf-97e7-435e-9f72-753ba2303f53",
    "tags": []
   },
   "outputs": [
    {
     "data": {
      "text/html": [
       "<div>\n",
       "<style scoped>\n",
       "    .dataframe tbody tr th:only-of-type {\n",
       "        vertical-align: middle;\n",
       "    }\n",
       "\n",
       "    .dataframe tbody tr th {\n",
       "        vertical-align: top;\n",
       "    }\n",
       "\n",
       "    .dataframe thead th {\n",
       "        text-align: right;\n",
       "    }\n",
       "</style>\n",
       "<table border=\"1\" class=\"dataframe\">\n",
       "  <thead>\n",
       "    <tr style=\"text-align: right;\">\n",
       "      <th></th>\n",
       "      <th>alcohol</th>\n",
       "      <th>malic_acid</th>\n",
       "      <th>ash</th>\n",
       "      <th>alcalinity_of_ash</th>\n",
       "      <th>magnesium</th>\n",
       "      <th>total_phenols</th>\n",
       "      <th>flavanoids</th>\n",
       "      <th>nonflavanoid_phenols</th>\n",
       "      <th>proanthocyanins</th>\n",
       "      <th>color_intensity</th>\n",
       "      <th>hue</th>\n",
       "      <th>od280/od315_of_diluted_wines</th>\n",
       "      <th>proline</th>\n",
       "      <th>target</th>\n",
       "    </tr>\n",
       "  </thead>\n",
       "  <tbody>\n",
       "    <tr>\n",
       "      <th>0</th>\n",
       "      <td>14.23</td>\n",
       "      <td>1.71</td>\n",
       "      <td>2.43</td>\n",
       "      <td>15.6</td>\n",
       "      <td>127.0</td>\n",
       "      <td>2.80</td>\n",
       "      <td>3.06</td>\n",
       "      <td>0.28</td>\n",
       "      <td>2.29</td>\n",
       "      <td>5.64</td>\n",
       "      <td>1.04</td>\n",
       "      <td>3.92</td>\n",
       "      <td>1065.0</td>\n",
       "      <td>0.0</td>\n",
       "    </tr>\n",
       "    <tr>\n",
       "      <th>1</th>\n",
       "      <td>13.20</td>\n",
       "      <td>1.78</td>\n",
       "      <td>2.14</td>\n",
       "      <td>11.2</td>\n",
       "      <td>100.0</td>\n",
       "      <td>2.65</td>\n",
       "      <td>2.76</td>\n",
       "      <td>0.26</td>\n",
       "      <td>1.28</td>\n",
       "      <td>4.38</td>\n",
       "      <td>1.05</td>\n",
       "      <td>3.40</td>\n",
       "      <td>1050.0</td>\n",
       "      <td>0.0</td>\n",
       "    </tr>\n",
       "    <tr>\n",
       "      <th>2</th>\n",
       "      <td>13.16</td>\n",
       "      <td>2.36</td>\n",
       "      <td>2.67</td>\n",
       "      <td>18.6</td>\n",
       "      <td>101.0</td>\n",
       "      <td>2.80</td>\n",
       "      <td>3.24</td>\n",
       "      <td>0.30</td>\n",
       "      <td>2.81</td>\n",
       "      <td>5.68</td>\n",
       "      <td>1.03</td>\n",
       "      <td>3.17</td>\n",
       "      <td>1185.0</td>\n",
       "      <td>0.0</td>\n",
       "    </tr>\n",
       "    <tr>\n",
       "      <th>3</th>\n",
       "      <td>14.37</td>\n",
       "      <td>1.95</td>\n",
       "      <td>2.50</td>\n",
       "      <td>16.8</td>\n",
       "      <td>113.0</td>\n",
       "      <td>3.85</td>\n",
       "      <td>3.49</td>\n",
       "      <td>0.24</td>\n",
       "      <td>2.18</td>\n",
       "      <td>7.80</td>\n",
       "      <td>0.86</td>\n",
       "      <td>3.45</td>\n",
       "      <td>1480.0</td>\n",
       "      <td>0.0</td>\n",
       "    </tr>\n",
       "    <tr>\n",
       "      <th>4</th>\n",
       "      <td>13.24</td>\n",
       "      <td>2.59</td>\n",
       "      <td>2.87</td>\n",
       "      <td>21.0</td>\n",
       "      <td>118.0</td>\n",
       "      <td>2.80</td>\n",
       "      <td>2.69</td>\n",
       "      <td>0.39</td>\n",
       "      <td>1.82</td>\n",
       "      <td>4.32</td>\n",
       "      <td>1.04</td>\n",
       "      <td>2.93</td>\n",
       "      <td>735.0</td>\n",
       "      <td>0.0</td>\n",
       "    </tr>\n",
       "  </tbody>\n",
       "</table>\n",
       "</div>"
      ],
      "text/plain": [
       "   alcohol  malic_acid   ash  alcalinity_of_ash  magnesium  total_phenols   \n",
       "0    14.23        1.71  2.43               15.6      127.0           2.80  \\\n",
       "1    13.20        1.78  2.14               11.2      100.0           2.65   \n",
       "2    13.16        2.36  2.67               18.6      101.0           2.80   \n",
       "3    14.37        1.95  2.50               16.8      113.0           3.85   \n",
       "4    13.24        2.59  2.87               21.0      118.0           2.80   \n",
       "\n",
       "   flavanoids  nonflavanoid_phenols  proanthocyanins  color_intensity   hue   \n",
       "0        3.06                  0.28             2.29             5.64  1.04  \\\n",
       "1        2.76                  0.26             1.28             4.38  1.05   \n",
       "2        3.24                  0.30             2.81             5.68  1.03   \n",
       "3        3.49                  0.24             2.18             7.80  0.86   \n",
       "4        2.69                  0.39             1.82             4.32  1.04   \n",
       "\n",
       "   od280/od315_of_diluted_wines  proline  target  \n",
       "0                          3.92   1065.0     0.0  \n",
       "1                          3.40   1050.0     0.0  \n",
       "2                          3.17   1185.0     0.0  \n",
       "3                          3.45   1480.0     0.0  \n",
       "4                          2.93    735.0     0.0  "
      ]
     },
     "execution_count": 5,
     "metadata": {},
     "output_type": "execute_result"
    }
   ],
   "source": [
    "df_wine = pd.DataFrame(\n",
    "    data= np.c_[wine['data'], wine['target']],\n",
    "    columns= wine['feature_names'] + ['target']\n",
    "    )\n",
    "\n",
    "df_wine.head(5)"
   ]
  },
  {
   "attachments": {},
   "cell_type": "markdown",
   "metadata": {
    "id": "jNrFDbONX3F1"
   },
   "source": [
    "Como podemos observar, o ``DataFrame``gerado contém 13 Dimensōes que são as informacoes de cada tipo de Vinho. Também há uma coluna ``target`` indicando a codificação numérica de cada Tipo do Vinho Classe 0, 1 e 2\n",
    "\n",
    "Agora Vamos ver a qunatidade Amostras por Classe"
   ]
  },
  {
   "cell_type": "code",
   "execution_count": 6,
   "metadata": {
    "colab": {
     "base_uri": "https://localhost:8080/"
    },
    "executionInfo": {
     "elapsed": 265,
     "status": "ok",
     "timestamp": 1682992539564,
     "user": {
      "displayName": "Fabio Alexandre Spanhol",
      "userId": "09187412498449397569"
     },
     "user_tz": 180
    },
    "id": "GRjxhEh5YBnU",
    "outputId": "ab3acf14-e876-4a2f-fbf1-9622d62aebf6"
   },
   "outputs": [
    {
     "data": {
      "text/plain": [
       "target\n",
       "0.0    59\n",
       "1.0    71\n",
       "2.0    48\n",
       "dtype: int64"
      ]
     },
     "execution_count": 6,
     "metadata": {},
     "output_type": "execute_result"
    }
   ],
   "source": [
    "df_wine.groupby('target').size()"
   ]
  },
  {
   "attachments": {},
   "cell_type": "markdown",
   "metadata": {},
   "source": [
    "Vendo o Shape do Dataframe\n",
    "--"
   ]
  },
  {
   "cell_type": "code",
   "execution_count": 7,
   "metadata": {
    "tags": []
   },
   "outputs": [
    {
     "name": "stdout",
     "output_type": "stream",
     "text": [
      "Shape\n",
      "(178, 14)\n"
     ]
    }
   ],
   "source": [
    "print('Shape')\n",
    "print(df_wine.shape)"
   ]
  },
  {
   "attachments": {},
   "cell_type": "markdown",
   "metadata": {},
   "source": [
    "## Vamos separar as Classe e ver quais tem mais corelacção entre elas"
   ]
  },
  {
   "cell_type": "code",
   "execution_count": 8,
   "metadata": {
    "tags": []
   },
   "outputs": [
    {
     "data": {
      "text/html": [
       "<div>\n",
       "<style scoped>\n",
       "    .dataframe tbody tr th:only-of-type {\n",
       "        vertical-align: middle;\n",
       "    }\n",
       "\n",
       "    .dataframe tbody tr th {\n",
       "        vertical-align: top;\n",
       "    }\n",
       "\n",
       "    .dataframe thead th {\n",
       "        text-align: right;\n",
       "    }\n",
       "</style>\n",
       "<table border=\"1\" class=\"dataframe\">\n",
       "  <thead>\n",
       "    <tr style=\"text-align: right;\">\n",
       "      <th></th>\n",
       "      <th>alcohol</th>\n",
       "      <th>malic_acid</th>\n",
       "      <th>ash</th>\n",
       "      <th>alcalinity_of_ash</th>\n",
       "      <th>magnesium</th>\n",
       "      <th>total_phenols</th>\n",
       "      <th>flavanoids</th>\n",
       "      <th>nonflavanoid_phenols</th>\n",
       "      <th>proanthocyanins</th>\n",
       "      <th>color_intensity</th>\n",
       "      <th>hue</th>\n",
       "      <th>od280/od315_of_diluted_wines</th>\n",
       "      <th>proline</th>\n",
       "      <th>target</th>\n",
       "    </tr>\n",
       "  </thead>\n",
       "  <tbody>\n",
       "    <tr>\n",
       "      <th>130</th>\n",
       "      <td>12.86</td>\n",
       "      <td>1.35</td>\n",
       "      <td>2.32</td>\n",
       "      <td>18.0</td>\n",
       "      <td>122.0</td>\n",
       "      <td>1.51</td>\n",
       "      <td>1.25</td>\n",
       "      <td>0.21</td>\n",
       "      <td>0.94</td>\n",
       "      <td>4.10</td>\n",
       "      <td>0.76</td>\n",
       "      <td>1.29</td>\n",
       "      <td>630.0</td>\n",
       "      <td>2.0</td>\n",
       "    </tr>\n",
       "    <tr>\n",
       "      <th>131</th>\n",
       "      <td>12.88</td>\n",
       "      <td>2.99</td>\n",
       "      <td>2.40</td>\n",
       "      <td>20.0</td>\n",
       "      <td>104.0</td>\n",
       "      <td>1.30</td>\n",
       "      <td>1.22</td>\n",
       "      <td>0.24</td>\n",
       "      <td>0.83</td>\n",
       "      <td>5.40</td>\n",
       "      <td>0.74</td>\n",
       "      <td>1.42</td>\n",
       "      <td>530.0</td>\n",
       "      <td>2.0</td>\n",
       "    </tr>\n",
       "    <tr>\n",
       "      <th>132</th>\n",
       "      <td>12.81</td>\n",
       "      <td>2.31</td>\n",
       "      <td>2.40</td>\n",
       "      <td>24.0</td>\n",
       "      <td>98.0</td>\n",
       "      <td>1.15</td>\n",
       "      <td>1.09</td>\n",
       "      <td>0.27</td>\n",
       "      <td>0.83</td>\n",
       "      <td>5.70</td>\n",
       "      <td>0.66</td>\n",
       "      <td>1.36</td>\n",
       "      <td>560.0</td>\n",
       "      <td>2.0</td>\n",
       "    </tr>\n",
       "    <tr>\n",
       "      <th>133</th>\n",
       "      <td>12.70</td>\n",
       "      <td>3.55</td>\n",
       "      <td>2.36</td>\n",
       "      <td>21.5</td>\n",
       "      <td>106.0</td>\n",
       "      <td>1.70</td>\n",
       "      <td>1.20</td>\n",
       "      <td>0.17</td>\n",
       "      <td>0.84</td>\n",
       "      <td>5.00</td>\n",
       "      <td>0.78</td>\n",
       "      <td>1.29</td>\n",
       "      <td>600.0</td>\n",
       "      <td>2.0</td>\n",
       "    </tr>\n",
       "    <tr>\n",
       "      <th>134</th>\n",
       "      <td>12.51</td>\n",
       "      <td>1.24</td>\n",
       "      <td>2.25</td>\n",
       "      <td>17.5</td>\n",
       "      <td>85.0</td>\n",
       "      <td>2.00</td>\n",
       "      <td>0.58</td>\n",
       "      <td>0.60</td>\n",
       "      <td>1.25</td>\n",
       "      <td>5.45</td>\n",
       "      <td>0.75</td>\n",
       "      <td>1.51</td>\n",
       "      <td>650.0</td>\n",
       "      <td>2.0</td>\n",
       "    </tr>\n",
       "  </tbody>\n",
       "</table>\n",
       "</div>"
      ],
      "text/plain": [
       "     alcohol  malic_acid   ash  alcalinity_of_ash  magnesium  total_phenols   \n",
       "130    12.86        1.35  2.32               18.0      122.0           1.51  \\\n",
       "131    12.88        2.99  2.40               20.0      104.0           1.30   \n",
       "132    12.81        2.31  2.40               24.0       98.0           1.15   \n",
       "133    12.70        3.55  2.36               21.5      106.0           1.70   \n",
       "134    12.51        1.24  2.25               17.5       85.0           2.00   \n",
       "\n",
       "     flavanoids  nonflavanoid_phenols  proanthocyanins  color_intensity   hue   \n",
       "130        1.25                  0.21             0.94             4.10  0.76  \\\n",
       "131        1.22                  0.24             0.83             5.40  0.74   \n",
       "132        1.09                  0.27             0.83             5.70  0.66   \n",
       "133        1.20                  0.17             0.84             5.00  0.78   \n",
       "134        0.58                  0.60             1.25             5.45  0.75   \n",
       "\n",
       "     od280/od315_of_diluted_wines  proline  target  \n",
       "130                          1.29    630.0     2.0  \n",
       "131                          1.42    530.0     2.0  \n",
       "132                          1.36    560.0     2.0  \n",
       "133                          1.29    600.0     2.0  \n",
       "134                          1.51    650.0     2.0  "
      ]
     },
     "execution_count": 8,
     "metadata": {},
     "output_type": "execute_result"
    },
    {
     "data": {
      "image/png": "[encoded data removed]",
      "text/plain": [
       "<Figure size 1000x400 with 1 Axes>"
      ]
     },
     "metadata": {},
     "output_type": "display_data"
    },
    {
     "data": {
      "image/png": "[encoded data removed]",
      "text/plain": [
       "<Figure size 1000x400 with 1 Axes>"
      ]
     },
     "metadata": {},
     "output_type": "display_data"
    },
    {
     "data": {
      "image/png": "[encoded data removed]",
      "text/plain": [
       "<Figure size 1000x400 with 1 Axes>"
      ]
     },
     "metadata": {},
     "output_type": "display_data"
    },
    {
     "data": {
      "image/png": "[encoded data removed]",
      "text/plain": [
       "<Figure size 1000x400 with 1 Axes>"
      ]
     },
     "metadata": {},
     "output_type": "display_data"
    }
   ],
   "source": [
    "class_1 = df_wine[df_wine.target == 0.0]\n",
    "class_2 = df_wine[df_wine.target == 1.0]\n",
    "class_3 = df_wine[df_wine.target == 2.0]\n",
    "\n",
    "ig, ax = plt.subplots()\n",
    "ax.scatter(class_1['alcohol'], class_1['flavanoids'], alpha=0.6, color=\"red\", label=\"Classe 1\")\n",
    "ax.scatter(class_2['alcohol'], class_2['flavanoids'], alpha=0.6, color=\"blue\", label=\"Classe 2\")\n",
    "ax.scatter(class_3['alcohol'], class_3['flavanoids'], alpha=0.6, color=\"yellow\", label=\"Classe 3\")\n",
    "\n",
    "ax.set_xlabel(\"alchool\")\n",
    "ax.set_ylabel(\"flavanoids\")\n",
    "ax.grid()\n",
    "ax.set_title(\"Wine Datasets\")\n",
    "ax.legend()\n",
    "\n",
    "ig, ax = plt.subplots()\n",
    "ax.scatter(class_1['alcohol'], class_1['total_phenols'], alpha=0.6, color=\"red\", label=\"Classe 1\")\n",
    "ax.scatter(class_2['alcohol'], class_2['total_phenols'], alpha=0.6, color=\"blue\", label=\"Classe 2\")\n",
    "ax.scatter(class_3['alcohol'], class_3['total_phenols'], alpha=0.6, color=\"yellow\", label=\"Classe 3\")\n",
    "\n",
    "ax.set_xlabel(\"alcohol\")\n",
    "ax.set_ylabel(\"total_phenols\")\n",
    "ax.grid()\n",
    "ax.set_title(\"Wine Datasets\")\n",
    "ax.legend()\n",
    "\n",
    "ig, ax = plt.subplots()\n",
    "ax.scatter(class_1['ash'], class_1['hue'], alpha=0.6, color=\"red\", label=\"Classe 1\")\n",
    "ax.scatter(class_2['ash'], class_2['hue'], alpha=0.6, color=\"blue\", label=\"Classe 2\")\n",
    "ax.scatter(class_3['ash'], class_3['hue'], alpha=0.6, color=\"yellow\", label=\"Classe 3\")\n",
    "\n",
    "ax.set_xlabel(\"ash\")\n",
    "ax.set_ylabel(\"hue\")\n",
    "ax.grid()\n",
    "ax.set_title(\"Wine Datasets\")\n",
    "ax.legend()\n",
    "\n",
    "\n",
    "ig, ax = plt.subplots()\n",
    "ax.scatter(class_1['total_phenols'], class_1['flavanoids'], alpha=0.6, color=\"red\", label=\"Classe 1\")\n",
    "ax.scatter(class_2['total_phenols'], class_2['flavanoids'], alpha=0.6, color=\"blue\", label=\"Classe 2\")\n",
    "ax.scatter(class_3['total_phenols'], class_3['flavanoids'], alpha=0.6, color=\"yellow\", label=\"Classe 3\")\n",
    "\n",
    "ax.set_xlabel(\"total_phenols\")\n",
    "ax.set_ylabel(\"flavanoids\")\n",
    "ax.grid()\n",
    "ax.set_title(\"Wine Datasets\")\n",
    "ax.legend()\n",
    "class_3.head()"
   ]
  },
  {
   "cell_type": "code",
   "execution_count": 9,
   "metadata": {
    "colab": {
     "base_uri": "https://localhost:8080/",
     "height": 394
    },
    "executionInfo": {
     "elapsed": 265,
     "status": "ok",
     "timestamp": 1682992545406,
     "user": {
      "displayName": "Fabio Alexandre Spanhol",
      "userId": "09187412498449397569"
     },
     "user_tz": 180
    },
    "id": "MnKPn7IK23It",
    "outputId": "77c74943-fe59-4069-b721-293568f88884"
   },
   "outputs": [
    {
     "data": {
      "text/html": [
       "<div>\n",
       "<style scoped>\n",
       "    .dataframe tbody tr th:only-of-type {\n",
       "        vertical-align: middle;\n",
       "    }\n",
       "\n",
       "    .dataframe tbody tr th {\n",
       "        vertical-align: top;\n",
       "    }\n",
       "\n",
       "    .dataframe thead th {\n",
       "        text-align: right;\n",
       "    }\n",
       "</style>\n",
       "<table border=\"1\" class=\"dataframe\">\n",
       "  <thead>\n",
       "    <tr style=\"text-align: right;\">\n",
       "      <th></th>\n",
       "      <th>alcohol</th>\n",
       "      <th>malic_acid</th>\n",
       "      <th>ash</th>\n",
       "      <th>alcalinity_of_ash</th>\n",
       "      <th>magnesium</th>\n",
       "      <th>total_phenols</th>\n",
       "      <th>flavanoids</th>\n",
       "      <th>nonflavanoid_phenols</th>\n",
       "      <th>proanthocyanins</th>\n",
       "      <th>color_intensity</th>\n",
       "      <th>hue</th>\n",
       "      <th>od280/od315_of_diluted_wines</th>\n",
       "      <th>proline</th>\n",
       "      <th>target</th>\n",
       "    </tr>\n",
       "  </thead>\n",
       "  <tbody>\n",
       "    <tr>\n",
       "      <th>count</th>\n",
       "      <td>178.000000</td>\n",
       "      <td>178.000000</td>\n",
       "      <td>178.000000</td>\n",
       "      <td>178.000000</td>\n",
       "      <td>178.000000</td>\n",
       "      <td>178.000000</td>\n",
       "      <td>178.000000</td>\n",
       "      <td>178.000000</td>\n",
       "      <td>178.000000</td>\n",
       "      <td>178.000000</td>\n",
       "      <td>178.000000</td>\n",
       "      <td>178.000000</td>\n",
       "      <td>178.000000</td>\n",
       "      <td>178.000000</td>\n",
       "    </tr>\n",
       "    <tr>\n",
       "      <th>mean</th>\n",
       "      <td>13.000618</td>\n",
       "      <td>2.336348</td>\n",
       "      <td>2.366517</td>\n",
       "      <td>19.494944</td>\n",
       "      <td>99.741573</td>\n",
       "      <td>2.295112</td>\n",
       "      <td>2.029270</td>\n",
       "      <td>0.361854</td>\n",
       "      <td>1.590899</td>\n",
       "      <td>5.058090</td>\n",
       "      <td>0.957449</td>\n",
       "      <td>2.611685</td>\n",
       "      <td>746.893258</td>\n",
       "      <td>0.938202</td>\n",
       "    </tr>\n",
       "    <tr>\n",
       "      <th>std</th>\n",
       "      <td>0.811827</td>\n",
       "      <td>1.117146</td>\n",
       "      <td>0.274344</td>\n",
       "      <td>3.339564</td>\n",
       "      <td>14.282484</td>\n",
       "      <td>0.625851</td>\n",
       "      <td>0.998859</td>\n",
       "      <td>0.124453</td>\n",
       "      <td>0.572359</td>\n",
       "      <td>2.318286</td>\n",
       "      <td>0.228572</td>\n",
       "      <td>0.709990</td>\n",
       "      <td>314.907474</td>\n",
       "      <td>0.775035</td>\n",
       "    </tr>\n",
       "    <tr>\n",
       "      <th>min</th>\n",
       "      <td>11.030000</td>\n",
       "      <td>0.740000</td>\n",
       "      <td>1.360000</td>\n",
       "      <td>10.600000</td>\n",
       "      <td>70.000000</td>\n",
       "      <td>0.980000</td>\n",
       "      <td>0.340000</td>\n",
       "      <td>0.130000</td>\n",
       "      <td>0.410000</td>\n",
       "      <td>1.280000</td>\n",
       "      <td>0.480000</td>\n",
       "      <td>1.270000</td>\n",
       "      <td>278.000000</td>\n",
       "      <td>0.000000</td>\n",
       "    </tr>\n",
       "    <tr>\n",
       "      <th>25%</th>\n",
       "      <td>12.362500</td>\n",
       "      <td>1.602500</td>\n",
       "      <td>2.210000</td>\n",
       "      <td>17.200000</td>\n",
       "      <td>88.000000</td>\n",
       "      <td>1.742500</td>\n",
       "      <td>1.205000</td>\n",
       "      <td>0.270000</td>\n",
       "      <td>1.250000</td>\n",
       "      <td>3.220000</td>\n",
       "      <td>0.782500</td>\n",
       "      <td>1.937500</td>\n",
       "      <td>500.500000</td>\n",
       "      <td>0.000000</td>\n",
       "    </tr>\n",
       "    <tr>\n",
       "      <th>50%</th>\n",
       "      <td>13.050000</td>\n",
       "      <td>1.865000</td>\n",
       "      <td>2.360000</td>\n",
       "      <td>19.500000</td>\n",
       "      <td>98.000000</td>\n",
       "      <td>2.355000</td>\n",
       "      <td>2.135000</td>\n",
       "      <td>0.340000</td>\n",
       "      <td>1.555000</td>\n",
       "      <td>4.690000</td>\n",
       "      <td>0.965000</td>\n",
       "      <td>2.780000</td>\n",
       "      <td>673.500000</td>\n",
       "      <td>1.000000</td>\n",
       "    </tr>\n",
       "    <tr>\n",
       "      <th>75%</th>\n",
       "      <td>13.677500</td>\n",
       "      <td>3.082500</td>\n",
       "      <td>2.557500</td>\n",
       "      <td>21.500000</td>\n",
       "      <td>107.000000</td>\n",
       "      <td>2.800000</td>\n",
       "      <td>2.875000</td>\n",
       "      <td>0.437500</td>\n",
       "      <td>1.950000</td>\n",
       "      <td>6.200000</td>\n",
       "      <td>1.120000</td>\n",
       "      <td>3.170000</td>\n",
       "      <td>985.000000</td>\n",
       "      <td>2.000000</td>\n",
       "    </tr>\n",
       "    <tr>\n",
       "      <th>max</th>\n",
       "      <td>14.830000</td>\n",
       "      <td>5.800000</td>\n",
       "      <td>3.230000</td>\n",
       "      <td>30.000000</td>\n",
       "      <td>162.000000</td>\n",
       "      <td>3.880000</td>\n",
       "      <td>5.080000</td>\n",
       "      <td>0.660000</td>\n",
       "      <td>3.580000</td>\n",
       "      <td>13.000000</td>\n",
       "      <td>1.710000</td>\n",
       "      <td>4.000000</td>\n",
       "      <td>1680.000000</td>\n",
       "      <td>2.000000</td>\n",
       "    </tr>\n",
       "  </tbody>\n",
       "</table>\n",
       "</div>"
      ],
      "text/plain": [
       "          alcohol  malic_acid         ash  alcalinity_of_ash   magnesium   \n",
       "count  178.000000  178.000000  178.000000         178.000000  178.000000  \\\n",
       "mean    13.000618    2.336348    2.366517          19.494944   99.741573   \n",
       "std      0.811827    1.117146    0.274344           3.339564   14.282484   \n",
       "min     11.030000    0.740000    1.360000          10.600000   70.000000   \n",
       "25%     12.362500    1.602500    2.210000          17.200000   88.000000   \n",
       "50%     13.050000    1.865000    2.360000          19.500000   98.000000   \n",
       "75%     13.677500    3.082500    2.557500          21.500000  107.000000   \n",
       "max     14.830000    5.800000    3.230000          30.000000  162.000000   \n",
       "\n",
       "       total_phenols  flavanoids  nonflavanoid_phenols  proanthocyanins   \n",
       "count     178.000000  178.000000            178.000000       178.000000  \\\n",
       "mean        2.295112    2.029270              0.361854         1.590899   \n",
       "std         0.625851    0.998859              0.124453         0.572359   \n",
       "min         0.980000    0.340000              0.130000         0.410000   \n",
       "25%         1.742500    1.205000              0.270000         1.250000   \n",
       "50%         2.355000    2.135000              0.340000         1.555000   \n",
       "75%         2.800000    2.875000              0.437500         1.950000   \n",
       "max         3.880000    5.080000              0.660000         3.580000   \n",
       "\n",
       "       color_intensity         hue  od280/od315_of_diluted_wines      proline   \n",
       "count       178.000000  178.000000                    178.000000   178.000000  \\\n",
       "mean          5.058090    0.957449                      2.611685   746.893258   \n",
       "std           2.318286    0.228572                      0.709990   314.907474   \n",
       "min           1.280000    0.480000                      1.270000   278.000000   \n",
       "25%           3.220000    0.782500                      1.937500   500.500000   \n",
       "50%           4.690000    0.965000                      2.780000   673.500000   \n",
       "75%           6.200000    1.120000                      3.170000   985.000000   \n",
       "max          13.000000    1.710000                      4.000000  1680.000000   \n",
       "\n",
       "           target  \n",
       "count  178.000000  \n",
       "mean     0.938202  \n",
       "std      0.775035  \n",
       "min      0.000000  \n",
       "25%      0.000000  \n",
       "50%      1.000000  \n",
       "75%      2.000000  \n",
       "max      2.000000  "
      ]
     },
     "execution_count": 9,
     "metadata": {},
     "output_type": "execute_result"
    }
   ],
   "source": [
    "df_wine.describe(include = 'all')"
   ]
  },
  {
   "attachments": {},
   "cell_type": "markdown",
   "metadata": {
    "id": "N-h3aofjt9Ky"
   },
   "source": [
    "Preparação do Dataset\n",
    "--\n"
   ]
  },
  {
   "cell_type": "code",
   "execution_count": 10,
   "metadata": {
    "colab": {
     "base_uri": "https://localhost:8080/",
     "height": 300
    },
    "executionInfo": {
     "elapsed": 280,
     "status": "ok",
     "timestamp": 1682992593666,
     "user": {
      "displayName": "Fabio Alexandre Spanhol",
      "userId": "09187412498449397569"
     },
     "user_tz": 180
    },
    "id": "pRg4I6Qo5ETZ",
    "outputId": "91d3288f-a882-4c1c-ad08-1ebb9ea4d64f"
   },
   "outputs": [
    {
     "data": {
      "text/html": [
       "<div>\n",
       "<style scoped>\n",
       "    .dataframe tbody tr th:only-of-type {\n",
       "        vertical-align: middle;\n",
       "    }\n",
       "\n",
       "    .dataframe tbody tr th {\n",
       "        vertical-align: top;\n",
       "    }\n",
       "\n",
       "    .dataframe thead th {\n",
       "        text-align: right;\n",
       "    }\n",
       "</style>\n",
       "<table border=\"1\" class=\"dataframe\">\n",
       "  <thead>\n",
       "    <tr style=\"text-align: right;\">\n",
       "      <th></th>\n",
       "      <th>alcohol</th>\n",
       "      <th>malic_acid</th>\n",
       "      <th>ash</th>\n",
       "      <th>alcalinity_of_ash</th>\n",
       "      <th>magnesium</th>\n",
       "      <th>total_phenols</th>\n",
       "      <th>flavanoids</th>\n",
       "      <th>nonflavanoid_phenols</th>\n",
       "      <th>proanthocyanins</th>\n",
       "      <th>color_intensity</th>\n",
       "      <th>hue</th>\n",
       "      <th>od280/od315_of_diluted_wines</th>\n",
       "      <th>proline</th>\n",
       "    </tr>\n",
       "  </thead>\n",
       "  <tbody>\n",
       "    <tr>\n",
       "      <th>count</th>\n",
       "      <td>178.000000</td>\n",
       "      <td>178.000000</td>\n",
       "      <td>178.000000</td>\n",
       "      <td>178.000000</td>\n",
       "      <td>178.000000</td>\n",
       "      <td>178.000000</td>\n",
       "      <td>178.000000</td>\n",
       "      <td>178.000000</td>\n",
       "      <td>178.000000</td>\n",
       "      <td>178.000000</td>\n",
       "      <td>178.000000</td>\n",
       "      <td>178.000000</td>\n",
       "      <td>178.000000</td>\n",
       "    </tr>\n",
       "    <tr>\n",
       "      <th>mean</th>\n",
       "      <td>13.000618</td>\n",
       "      <td>2.336348</td>\n",
       "      <td>2.366517</td>\n",
       "      <td>19.494944</td>\n",
       "      <td>99.741573</td>\n",
       "      <td>2.295112</td>\n",
       "      <td>2.029270</td>\n",
       "      <td>0.361854</td>\n",
       "      <td>1.590899</td>\n",
       "      <td>5.058090</td>\n",
       "      <td>0.957449</td>\n",
       "      <td>2.611685</td>\n",
       "      <td>746.893258</td>\n",
       "    </tr>\n",
       "    <tr>\n",
       "      <th>std</th>\n",
       "      <td>0.811827</td>\n",
       "      <td>1.117146</td>\n",
       "      <td>0.274344</td>\n",
       "      <td>3.339564</td>\n",
       "      <td>14.282484</td>\n",
       "      <td>0.625851</td>\n",
       "      <td>0.998859</td>\n",
       "      <td>0.124453</td>\n",
       "      <td>0.572359</td>\n",
       "      <td>2.318286</td>\n",
       "      <td>0.228572</td>\n",
       "      <td>0.709990</td>\n",
       "      <td>314.907474</td>\n",
       "    </tr>\n",
       "    <tr>\n",
       "      <th>min</th>\n",
       "      <td>11.030000</td>\n",
       "      <td>0.740000</td>\n",
       "      <td>1.360000</td>\n",
       "      <td>10.600000</td>\n",
       "      <td>70.000000</td>\n",
       "      <td>0.980000</td>\n",
       "      <td>0.340000</td>\n",
       "      <td>0.130000</td>\n",
       "      <td>0.410000</td>\n",
       "      <td>1.280000</td>\n",
       "      <td>0.480000</td>\n",
       "      <td>1.270000</td>\n",
       "      <td>278.000000</td>\n",
       "    </tr>\n",
       "    <tr>\n",
       "      <th>25%</th>\n",
       "      <td>12.362500</td>\n",
       "      <td>1.602500</td>\n",
       "      <td>2.210000</td>\n",
       "      <td>17.200000</td>\n",
       "      <td>88.000000</td>\n",
       "      <td>1.742500</td>\n",
       "      <td>1.205000</td>\n",
       "      <td>0.270000</td>\n",
       "      <td>1.250000</td>\n",
       "      <td>3.220000</td>\n",
       "      <td>0.782500</td>\n",
       "      <td>1.937500</td>\n",
       "      <td>500.500000</td>\n",
       "    </tr>\n",
       "    <tr>\n",
       "      <th>50%</th>\n",
       "      <td>13.050000</td>\n",
       "      <td>1.865000</td>\n",
       "      <td>2.360000</td>\n",
       "      <td>19.500000</td>\n",
       "      <td>98.000000</td>\n",
       "      <td>2.355000</td>\n",
       "      <td>2.135000</td>\n",
       "      <td>0.340000</td>\n",
       "      <td>1.555000</td>\n",
       "      <td>4.690000</td>\n",
       "      <td>0.965000</td>\n",
       "      <td>2.780000</td>\n",
       "      <td>673.500000</td>\n",
       "    </tr>\n",
       "    <tr>\n",
       "      <th>75%</th>\n",
       "      <td>13.677500</td>\n",
       "      <td>3.082500</td>\n",
       "      <td>2.557500</td>\n",
       "      <td>21.500000</td>\n",
       "      <td>107.000000</td>\n",
       "      <td>2.800000</td>\n",
       "      <td>2.875000</td>\n",
       "      <td>0.437500</td>\n",
       "      <td>1.950000</td>\n",
       "      <td>6.200000</td>\n",
       "      <td>1.120000</td>\n",
       "      <td>3.170000</td>\n",
       "      <td>985.000000</td>\n",
       "    </tr>\n",
       "    <tr>\n",
       "      <th>max</th>\n",
       "      <td>14.830000</td>\n",
       "      <td>5.800000</td>\n",
       "      <td>3.230000</td>\n",
       "      <td>30.000000</td>\n",
       "      <td>162.000000</td>\n",
       "      <td>3.880000</td>\n",
       "      <td>5.080000</td>\n",
       "      <td>0.660000</td>\n",
       "      <td>3.580000</td>\n",
       "      <td>13.000000</td>\n",
       "      <td>1.710000</td>\n",
       "      <td>4.000000</td>\n",
       "      <td>1680.000000</td>\n",
       "    </tr>\n",
       "  </tbody>\n",
       "</table>\n",
       "</div>"
      ],
      "text/plain": [
       "          alcohol  malic_acid         ash  alcalinity_of_ash   magnesium   \n",
       "count  178.000000  178.000000  178.000000         178.000000  178.000000  \\\n",
       "mean    13.000618    2.336348    2.366517          19.494944   99.741573   \n",
       "std      0.811827    1.117146    0.274344           3.339564   14.282484   \n",
       "min     11.030000    0.740000    1.360000          10.600000   70.000000   \n",
       "25%     12.362500    1.602500    2.210000          17.200000   88.000000   \n",
       "50%     13.050000    1.865000    2.360000          19.500000   98.000000   \n",
       "75%     13.677500    3.082500    2.557500          21.500000  107.000000   \n",
       "max     14.830000    5.800000    3.230000          30.000000  162.000000   \n",
       "\n",
       "       total_phenols  flavanoids  nonflavanoid_phenols  proanthocyanins   \n",
       "count     178.000000  178.000000            178.000000       178.000000  \\\n",
       "mean        2.295112    2.029270              0.361854         1.590899   \n",
       "std         0.625851    0.998859              0.124453         0.572359   \n",
       "min         0.980000    0.340000              0.130000         0.410000   \n",
       "25%         1.742500    1.205000              0.270000         1.250000   \n",
       "50%         2.355000    2.135000              0.340000         1.555000   \n",
       "75%         2.800000    2.875000              0.437500         1.950000   \n",
       "max         3.880000    5.080000              0.660000         3.580000   \n",
       "\n",
       "       color_intensity         hue  od280/od315_of_diluted_wines      proline  \n",
       "count       178.000000  178.000000                    178.000000   178.000000  \n",
       "mean          5.058090    0.957449                      2.611685   746.893258  \n",
       "std           2.318286    0.228572                      0.709990   314.907474  \n",
       "min           1.280000    0.480000                      1.270000   278.000000  \n",
       "25%           3.220000    0.782500                      1.937500   500.500000  \n",
       "50%           4.690000    0.965000                      2.780000   673.500000  \n",
       "75%           6.200000    1.120000                      3.170000   985.000000  \n",
       "max          13.000000    1.710000                      4.000000  1680.000000  "
      ]
     },
     "execution_count": 10,
     "metadata": {},
     "output_type": "execute_result"
    }
   ],
   "source": [
    "# Droping the target since we only need the measurements\n",
    "\n",
    "X = df_wine.drop(columns = ['target'], axis=1)\n",
    "X.describe(include = 'all')"
   ]
  },
  {
   "attachments": {},
   "cell_type": "markdown",
   "metadata": {},
   "source": [
    "Vamos pegar as colunas de alcool e Flavanoids que tem uma relação interresante com visto antes no grafico acima\n",
    "--"
   ]
  },
  {
   "cell_type": "code",
   "execution_count": 11,
   "metadata": {
    "id": "b0RLlQZL8ZIg"
   },
   "outputs": [],
   "source": [
    "# converting into numpy array and assigning petal length and petal width\n",
    "X = X.to_numpy()[:, (0, 6)]  # 1rd and 5th columns\n",
    "y = df_wine['target'].to_numpy().astype(int)\n"
   ]
  },
  {
   "attachments": {},
   "cell_type": "markdown",
   "metadata": {
    "id": "Y9IbuM6s6Y7L"
   },
   "source": [
    "E depois separar o dataset nos conjuntos de treinamento ($70\\%$) e teste ($30\\%$). Novamente a ``Scikit-learn`` nos auxilia com a função ``train_test_split``."
   ]
  },
  {
   "cell_type": "code",
   "execution_count": 12,
   "metadata": {
    "colab": {
     "base_uri": "https://localhost:8080/"
    },
    "executionInfo": {
     "elapsed": 642,
     "status": "ok",
     "timestamp": 1682992626697,
     "user": {
      "displayName": "Fabio Alexandre Spanhol",
      "userId": "09187412498449397569"
     },
     "user_tz": 180
    },
    "id": "TFRvkl7Euwd9",
    "outputId": "490b4483-9e31-4dba-8e34-ee310d5ba58d"
   },
   "outputs": [
    {
     "name": "stdout",
     "output_type": "stream",
     "text": [
      "Training: 124 instances \n",
      "Test: 54 instances\n",
      "\n",
      "Training shape:(124, 2) \n",
      "First row:[13.49  0.48]\n",
      "\n",
      "Test shape:(54, 2) \n",
      "First row:[13.64  3.03]\n",
      "\n",
      "Labels \n",
      "\ttraining: 124 instances \n",
      "\ttest: 54 instances\n",
      "\n",
      "Labels training shape:(124,) \n",
      "set:[2 1 1 0 1 0 2 1 1 2 0 0 0 2 0 0 1 2 1 0 2 1 0 2 1 1 0 1 0 0 1 0 0 2 1 1 1\n",
      " 0 1 1 1 2 2 0 1 2 2 1 1 0 1 2 2 1 2 1 1 1 0 0 2 0 2 0 0 1 1 0 0 0 1 0 1 2\n",
      " 1 1 1 2 2 1 0 0 1 2 2 0 1 2 2 2 2 1 0 1 0 2 0 0 1 0 0 2 1 0 2 2 0 0 2 2 2\n",
      " 1 1 1 1 1 1 2 0 1 1 0 1 1]\n",
      "\n",
      "Labels test shape:(54,) \n",
      "set:[0 0 2 0 1 0 1 2 1 2 0 2 0 1 0 1 1 1 0 1 0 1 1 2 2 2 1 1 1 0 0 1 2 0 0 0 2\n",
      " 2 1 2 0 1 1 1 2 0 1 1 2 0 1 0 0 2]\n"
     ]
    }
   ],
   "source": [
    "from sklearn.model_selection import train_test_split\n",
    "\n",
    "X_train, X_test, y_train, y_test = train_test_split(X, y, test_size=0.3, random_state=42)\n",
    "\n",
    "print(f'Training: {len(X_train)} instances \\nTest: {len(X_test)} instances')\n",
    "\n",
    "print(f'\\nTraining shape:{X_train.shape} \\nFirst row:{X_train[0]}')\n",
    "print(f'\\nTest shape:{X_test.shape} \\nFirst row:{X_test[0]}')\n",
    "\n",
    "print(f'\\nLabels \\n\\ttraining: {len(y_train)} instances \\n\\ttest: {len(y_test)} instances')\n",
    "print(f'\\nLabels training shape:{y_train.shape} \\nset:{y_train}')\n",
    "print(f'\\nLabels test shape:{y_test.shape} \\nset:{y_test}')\n"
   ]
  },
  {
   "attachments": {},
   "cell_type": "markdown",
   "metadata": {
    "id": "k_GM8XdPynID"
   },
   "source": [
    "Treinamento do Perceptron\n",
    "--\n"
   ]
  },
  {
   "cell_type": "code",
   "execution_count": 13,
   "metadata": {
    "colab": {
     "base_uri": "https://localhost:8080/"
    },
    "executionInfo": {
     "elapsed": 506,
     "status": "ok",
     "timestamp": 1682992649346,
     "user": {
      "displayName": "Fabio Alexandre Spanhol",
      "userId": "09187412498449397569"
     },
     "user_tz": 180
    },
    "id": "w00DX4F3y3L8",
    "outputId": "fc8358c3-687d-4c5b-8c66-543f91960b81"
   },
   "outputs": [
    {
     "data": {
      "text/plain": [
       "(array([ 1.51611, -6.08702]), 0.32500000000000023)"
      ]
     },
     "execution_count": 13,
     "metadata": {},
     "output_type": "execute_result"
    }
   ],
   "source": [
    "perceptron = Perceptron(0.001, 100)\n",
    "\n",
    "perceptron.fit(X_train, y_train)\n"
   ]
  },
  {
   "attachments": {},
   "cell_type": "markdown",
   "metadata": {
    "id": "xmiOo9ZPy7lz"
   },
   "source": [
    "Predição e Avaliação\n",
    "--\n"
   ]
  },
  {
   "cell_type": "code",
   "execution_count": 14,
   "metadata": {
    "id": "eiPNlnF_y_yN"
   },
   "outputs": [],
   "source": [
    "pred = perceptron.predict(X_test)"
   ]
  },
  {
   "attachments": {},
   "cell_type": "markdown",
   "metadata": {
    "id": "BzYE_14xzIv7"
   },
   "source": [
    "Qual foi a acurácia?"
   ]
  },
  {
   "cell_type": "code",
   "execution_count": 15,
   "metadata": {
    "colab": {
     "base_uri": "https://localhost:8080/"
    },
    "executionInfo": {
     "elapsed": 243,
     "status": "ok",
     "timestamp": 1682992735369,
     "user": {
      "displayName": "Fabio Alexandre Spanhol",
      "userId": "09187412498449397569"
     },
     "user_tz": 180
    },
    "id": "b-lsSz_PzPvI",
    "outputId": "3c140021-2bd4-4b15-f30f-c27c447a3d33"
   },
   "outputs": [
    {
     "name": "stdout",
     "output_type": "stream",
     "text": [
      "Accuracy:0.41\n",
      "[[ 2 17  0]\n",
      " [ 1 20  0]\n",
      " [ 0 14  0]]\n"
     ]
    }
   ],
   "source": [
    "from sklearn import metrics\n",
    "from sklearn.metrics import accuracy_score\n",
    "\n",
    "# Accuracy\n",
    "acc = accuracy_score(pred, y_test)\n",
    "print(f'Accuracy:{acc:.2f}')\n",
    "\n",
    "# Confusion matrix\n",
    "print(metrics.confusion_matrix(y_test, pred))"
   ]
  },
  {
   "attachments": {},
   "cell_type": "markdown",
   "metadata": {
    "id": "oHysa636zvQj"
   },
   "source": [
    "Apenas $41\\%$! \n",
    "\n",
    "Ruim para esse *dataset*. \n",
    "\n",
    "Bem, podemos usar a estratégia de tentar ajustar os hiperparâmetros (**hyperparameter tuning**). Por exemplo, aumentar a taxa de aprendizado (*learning rating* ou *epochs*) para digamos 1000."
   ]
  },
  {
   "cell_type": "code",
   "execution_count": 16,
   "metadata": {
    "colab": {
     "base_uri": "https://localhost:8080/"
    },
    "executionInfo": {
     "elapsed": 3621,
     "status": "ok",
     "timestamp": 1682992872324,
     "user": {
      "displayName": "Fabio Alexandre Spanhol",
      "userId": "09187412498449397569"
     },
     "user_tz": 180
    },
    "id": "JIBSNJXrz-g0",
    "outputId": "244d0e8e-3eb6-427d-8765-efcab990cb1e"
   },
   "outputs": [
    {
     "name": "stdout",
     "output_type": "stream",
     "text": [
      "Accuracy:0.39\n",
      "[[ 2 17  0]\n",
      " [ 2 19  0]\n",
      " [ 0 14  0]]\n"
     ]
    }
   ],
   "source": [
    "perceptron = Perceptron(0.001, 1000)\n",
    "\n",
    "perceptron.fit(X_train, y_train)\n",
    "\n",
    "pred = perceptron.predict(X_test)\n",
    "\n",
    "# Accuracy\n",
    "acc = accuracy_score(pred, y_test)\n",
    "print(f'Accuracy:{acc:.2f}')\n",
    "\n",
    "# Confusion matrix\n",
    "print(metrics.confusion_matrix(y_test, pred))"
   ]
  },
  {
   "attachments": {},
   "cell_type": "markdown",
   "metadata": {
    "id": "YzszDvWM0Ouk"
   },
   "source": [
    "Piorou caimos para  $39\\%$!\n",
    "\n",
    "Agora Vamos normalizar as entradas Para tentar melhorar."
   ]
  },
  {
   "cell_type": "code",
   "execution_count": 17,
   "metadata": {
    "colab": {
     "base_uri": "https://localhost:8080/"
    },
    "executionInfo": {
     "elapsed": 241,
     "status": "ok",
     "timestamp": 1682992903422,
     "user": {
      "displayName": "Fabio Alexandre Spanhol",
      "userId": "09187412498449397569"
     },
     "user_tz": 180
    },
    "id": "6AdlVBr4U5Nm",
    "outputId": "1c1c4908-7bde-4a9f-96e6-bef95e9d177a"
   },
   "outputs": [
    {
     "name": "stdout",
     "output_type": "stream",
     "text": [
      "Training: 124 instances \n",
      "Test: 54 instances\n",
      "\n",
      "Training shape:(124, 2) \n",
      "First row:[ 0.62844732 -1.51706225]\n",
      "\n",
      "Test shape:(54, 2) \n",
      "First row:[0.80742634 1.01578048]\n",
      "\n",
      "Labels \n",
      "\ttraining: 124 instances \n",
      "\ttest: 54 instances\n",
      "\n",
      "Labels training shape:(124,) \n",
      "set:[2 1 1 0 1 0 2 1 1 2 0 0 0 2 0 0 1 2 1 0 2 1 0 2 1 1 0 1 0 0 1 0 0 2 1 1 1\n",
      " 0 1 1 1 2 2 0 1 2 2 1 1 0 1 2 2 1 2 1 1 1 0 0 2 0 2 0 0 1 1 0 0 0 1 0 1 2\n",
      " 1 1 1 2 2 1 0 0 1 2 2 0 1 2 2 2 2 1 0 1 0 2 0 0 1 0 0 2 1 0 2 2 0 0 2 2 2\n",
      " 1 1 1 1 1 1 2 0 1 1 0 1 1]\n",
      "\n",
      "Labels test shape:(54,) \n",
      "set:[0 0 2 0 1 0 1 2 1 2 0 2 0 1 0 1 1 1 0 1 0 1 1 2 2 2 1 1 1 0 0 1 2 0 0 0 2\n",
      " 2 1 2 0 1 1 1 2 0 1 1 2 0 1 0 0 2]\n"
     ]
    }
   ],
   "source": [
    "from sklearn.preprocessing import StandardScaler\n",
    "\n",
    "# Normalize the data\n",
    "scaler = StandardScaler()\n",
    "X_train = scaler.fit_transform(X_train)\n",
    "X_test = scaler.transform(X_test)\n",
    "\n",
    "print(f'Training: {len(X_train)} instances \\nTest: {len(X_test)} instances')\n",
    "\n",
    "print(f'\\nTraining shape:{X_train.shape} \\nFirst row:{X_train[0]}')\n",
    "print(f'\\nTest shape:{X_test.shape} \\nFirst row:{X_test[0]}')\n",
    "\n",
    "print(f'\\nLabels \\n\\ttraining: {len(y_train)} instances \\n\\ttest: {len(y_test)} instances')\n",
    "print(f'\\nLabels training shape:{y_train.shape} \\nset:{y_train}')\n",
    "print(f'\\nLabels test shape:{y_test.shape} \\nset:{y_test}')"
   ]
  },
  {
   "cell_type": "code",
   "execution_count": 18,
   "metadata": {
    "colab": {
     "base_uri": "https://localhost:8080/"
    },
    "executionInfo": {
     "elapsed": 239,
     "status": "ok",
     "timestamp": 1682992935972,
     "user": {
      "displayName": "Fabio Alexandre Spanhol",
      "userId": "09187412498449397569"
     },
     "user_tz": 180
    },
    "id": "SNV-mrUFWPw2",
    "outputId": "d89743de-d6bb-4eea-f206-1ce30745c2a2"
   },
   "outputs": [
    {
     "name": "stdout",
     "output_type": "stream",
     "text": [
      "Accuracy:0.63\n",
      "[[15  4  0]\n",
      " [ 2 19  0]\n",
      " [ 0 14  0]]\n"
     ]
    }
   ],
   "source": [
    "perceptron = Perceptron(0.001, 100)\n",
    "\n",
    "perceptron.fit(X_train, y_train)\n",
    "\n",
    "pred = perceptron.predict(X_test)\n",
    "\n",
    "# Accuracy\n",
    "acc = accuracy_score(pred, y_test)\n",
    "print(f'Accuracy:{acc:.2f}')\n",
    "\n",
    "# Confusion matrix\n",
    "print(metrics.confusion_matrix(y_test, pred))"
   ]
  },
  {
   "attachments": {},
   "cell_type": "markdown",
   "metadata": {
    "id": "9xK_fseyW9Pd"
   },
   "source": [
    "$63\\%$ e melhor mas ainda assim esta abaixo do aceitavel"
   ]
  },
  {
   "attachments": {},
   "cell_type": "markdown",
   "metadata": {
    "id": "j2CZaWl1bgfi"
   },
   "source": [
    "Vamos tentar entender como a decisão foi tomada."
   ]
  },
  {
   "cell_type": "code",
   "execution_count": 19,
   "metadata": {
    "colab": {
     "base_uri": "https://localhost:8080/",
     "height": 391
    },
    "executionInfo": {
     "elapsed": 660,
     "status": "ok",
     "timestamp": 1682996771691,
     "user": {
      "displayName": "Fabio Alexandre Spanhol",
      "userId": "09187412498449397569"
     },
     "user_tz": 180
    },
    "id": "7Ib5_6z9Tz71",
    "outputId": "61df866d-cf8b-4fb7-9593-d47c36b72947"
   },
   "outputs": [
    {
     "data": {
      "image/png": "[encoded data removed]",
      "text/plain": [
       "<Figure size 1000x400 with 1 Axes>"
      ]
     },
     "metadata": {},
     "output_type": "display_data"
    }
   ],
   "source": [
    "def make_meshgrid(x, y, h=.02):\n",
    "    \"\"\"\n",
    "    Generate a meshgrid of points based on input data x, y.\n",
    "\n",
    "    Parameters\n",
    "    ----------\n",
    "    x : array-like\n",
    "        Input data for x-axis.\n",
    "    y : array-like\n",
    "        Input data for y-axis.\n",
    "    h : float, optional\n",
    "        Step size for the meshgrid. Default is 0.02.\n",
    "\n",
    "    Returns\n",
    "    -------\n",
    "    xx : ndarray\n",
    "         Meshgrid array for x-axis.\n",
    "    yy : ndarray\n",
    "         Meshgrid array for y-axis.\n",
    "    \"\"\"       \n",
    "    x_min, x_max = x.min() - 1, x.max() + 1\n",
    "    y_min, y_max = y.min() - 1, y.max() + 1\n",
    "    \n",
    "    xx, yy = np.meshgrid(np.arange(x_min, x_max, h), np.arange(y_min, y_max, h))\n",
    "\n",
    "    return xx, yy\n",
    "\n",
    "def plot_contours(ax, clf, xx, yy, **params):\n",
    "    \"\"\"\n",
    "    Plot the decision boundaries of a classifier as contours on a 2D plot.\n",
    "\n",
    "    Parameters\n",
    "    ----------\n",
    "    ax : matplotlib.axes.Axes\n",
    "        The axes on which to draw the contours.\n",
    "    clf : sklearn.base.ClassifierMixin\n",
    "        The classifier to use for predicting the class labels.\n",
    "    xx : numpy.ndarray\n",
    "        The x-coordinates of the points on the plot.\n",
    "    yy : numpy.ndarray\n",
    "        The y-coordinates of the points on the plot.\n",
    "    **params : dict\n",
    "        Additional parameters to pass to the `contourf()` function of the\n",
    "        `matplotlib.axes.Axes` object.\n",
    "\n",
    "    Returns\n",
    "    -------\n",
    "    out : matplotlib.contour.QuadContourSet\n",
    "        The `QuadContourSet` object returned by the `contourf()` function.\n",
    "    \"\"\"    \n",
    "    Z = clf.predict(np.c_[xx.ravel(), yy.ravel()])\n",
    "    Z = Z.reshape(xx.shape)\n",
    "    \n",
    "    out = ax.contourf(xx, yy, Z, **params)\n",
    "\n",
    "    return out\n",
    "\n",
    "fig, ax = plt.subplots()\n",
    "\n",
    "title = 'Decision surface of Perceptron'\n",
    "\n",
    "# Set-up grid for plotting\n",
    "\n",
    "X0, X1 = X_test[:, 0], X_test[:, 1]\n",
    "xx, yy = make_meshgrid(X0, X1)\n",
    "\n",
    "plot_contours(ax, perceptron, xx, yy, cmap=plt.cm.coolwarm, alpha=0.7)\n",
    "\n",
    "scatter = ax.scatter(X0, X1, c=y_test, cmap=plt.cm.coolwarm, s=20, edgecolors='k', alpha = 0.5)\n",
    "\n",
    "ax.set_ylabel('y')\n",
    "ax.set_xlabel('x')\n",
    "\n",
    "ax.set_xticks(())\n",
    "ax.set_yticks(())\n",
    "ax.set_title(title)\n",
    "\n",
    "# produce a legend with the unique colors from the scatter\n",
    "legend1 = ax.legend(*scatter.legend_elements(),\n",
    "                    loc=\"lower left\", title=\"Classes\")\n",
    "ax.add_artist(legend1)\n",
    "\n",
    "\n",
    "plt.show()"
   ]
  },
  {
   "attachments": {},
   "cell_type": "markdown",
   "metadata": {
    "id": "ctak6SaxR3bR"
   },
   "source": [
    "E como se comporta a implementação da ``Scikit-learn``? "
   ]
  },
  {
   "cell_type": "code",
   "execution_count": 20,
   "metadata": {
    "colab": {
     "base_uri": "https://localhost:8080/"
    },
    "executionInfo": {
     "elapsed": 549,
     "status": "ok",
     "timestamp": 1682993084274,
     "user": {
      "displayName": "Fabio Alexandre Spanhol",
      "userId": "09187412498449397569"
     },
     "user_tz": 180
    },
    "id": "yUpzRQ1u-4bZ",
    "outputId": "f4bb80b7-e604-4a78-b948-18985927dfb4"
   },
   "outputs": [
    {
     "name": "stdout",
     "output_type": "stream",
     "text": [
      "Accuracy:0.91\n",
      "[[18  1  0]\n",
      " [ 1 17  3]\n",
      " [ 0  0 14]]\n"
     ]
    }
   ],
   "source": [
    "from sklearn.linear_model import Perceptron\n",
    "\n",
    "sk_perceptron = Perceptron()\n",
    "sk_perceptron.fit(X_train, y_train)\n",
    "sk_perceptron_pred = sk_perceptron.predict(X_test)\n",
    "\n",
    "# Accuracy\n",
    "acc = accuracy_score(sk_perceptron_pred, y_test)\n",
    "print(f'Accuracy:{acc:.2f}')\n",
    "\n",
    "# Confusion matrix\n",
    "print(metrics.confusion_matrix(y_test, sk_perceptron_pred))"
   ]
  },
  {
   "cell_type": "code",
   "execution_count": 21,
   "metadata": {
    "colab": {
     "base_uri": "https://localhost:8080/",
     "height": 391
    },
    "executionInfo": {
     "elapsed": 423,
     "status": "ok",
     "timestamp": 1682997091381,
     "user": {
      "displayName": "Fabio Alexandre Spanhol",
      "userId": "09187412498449397569"
     },
     "user_tz": 180
    },
    "id": "54hddspjSj2D",
    "outputId": "b02216f4-2c9c-4929-edb3-706dacef3549"
   },
   "outputs": [
    {
     "data": {
      "image/png": "[encoded data removed]",
      "text/plain": [
       "<Figure size 1000x400 with 1 Axes>"
      ]
     },
     "metadata": {},
     "output_type": "display_data"
    }
   ],
   "source": [
    "fig, ax = plt.subplots()\n",
    "\n",
    "title = 'Decision surface of Perceptron (sklearn)'\n",
    "\n",
    "# Set-up grid for plotting\n",
    "\n",
    "X0, X1 = X_test[:, 0], X_test[:, 1]\n",
    "xx, yy = make_meshgrid(X0, X1)\n",
    "\n",
    "plot_contours(ax, sk_perceptron, xx, yy, cmap=plt.cm.coolwarm, alpha=0.7)\n",
    "\n",
    "scatter = ax.scatter(X0, X1, c=y_test, cmap=plt.cm.coolwarm, s=20, edgecolors='k', alpha=0.5)\n",
    "\n",
    "ax.set_ylabel('y')\n",
    "ax.set_xlabel('x')\n",
    "\n",
    "ax.set_xticks(())\n",
    "ax.set_yticks(())\n",
    "ax.set_title(title)\n",
    "\n",
    "# produce a legend with the unique colors from the scatter\n",
    "legend1 = ax.legend(*scatter.legend_elements(),\n",
    "                    loc=\"lower left\", title=\"Classes\")\n",
    "ax.add_artist(legend1)\n",
    "\n",
    "plt.show()"
   ]
  },
  {
   "attachments": {},
   "cell_type": "markdown",
   "metadata": {
    "id": "DYr2U8ODS-Pf"
   },
   "source": [
    "Conseguiu $91\\%$! E melhor desempenho entre as interclasse!\n",
    "\n",
    "Modelo mais complexo, como um **SVM**."
   ]
  },
  {
   "cell_type": "code",
   "execution_count": 22,
   "metadata": {
    "colab": {
     "base_uri": "https://localhost:8080/"
    },
    "executionInfo": {
     "elapsed": 253,
     "status": "ok",
     "timestamp": 1682993236309,
     "user": {
      "displayName": "Fabio Alexandre Spanhol",
      "userId": "09187412498449397569"
     },
     "user_tz": 180
    },
    "id": "apVq2nKNTCih",
    "outputId": "7aea13d5-86cc-47f7-e8ae-bb52d4b0c514"
   },
   "outputs": [
    {
     "name": "stdout",
     "output_type": "stream",
     "text": [
      "Accuracy using SVM, RBF kernel: 0.93\n",
      "[[19  0  0]\n",
      " [ 1 18  2]\n",
      " [ 0  1 13]]\n"
     ]
    }
   ],
   "source": [
    "from sklearn.svm import SVC\n",
    "\n",
    "model = SVC(kernel='rbf')\n",
    "model.fit(X_train, y_train)\n",
    "\n",
    "pred = model.predict(X_test)\n",
    "\n",
    "# Accuracy\n",
    "acc = accuracy_score(pred, y_test)\n",
    "print(f'Accuracy using SVM, RBF kernel: {acc:.2f}')\n",
    "\n",
    "# Confusion matrix\n",
    "print(metrics.confusion_matrix(y_test, pred))"
   ]
  },
  {
   "cell_type": "code",
   "execution_count": 23,
   "metadata": {
    "colab": {
     "base_uri": "https://localhost:8080/",
     "height": 391
    },
    "executionInfo": {
     "elapsed": 1213,
     "status": "ok",
     "timestamp": 1682997034158,
     "user": {
      "displayName": "Fabio Alexandre Spanhol",
      "userId": "09187412498449397569"
     },
     "user_tz": 180
    },
    "id": "0f_6IQ1VOi-o",
    "outputId": "1c798b6b-e20e-4fff-ca5f-846d45eac122"
   },
   "outputs": [
    {
     "data": {
      "image/png": "[encoded data removed]",
      "text/plain": [
       "<Figure size 1000x400 with 1 Axes>"
      ]
     },
     "metadata": {},
     "output_type": "display_data"
    }
   ],
   "source": [
    "fig, ax = plt.subplots()\n",
    "\n",
    "\n",
    "title = 'Decision surface of SVC, RBF kernel'\n",
    "\n",
    "# Set-up grid for plotting\n",
    "\n",
    "X0, X1 = X_test[:, 0], X_test[:, 1]\n",
    "xx, yy = make_meshgrid(X0, X1)\n",
    "\n",
    "plot_contours(ax, model, xx, yy, cmap=plt.cm.coolwarm, alpha=0.7)\n",
    "\n",
    "ax.scatter(X0, X1, c=y_test, cmap=plt.cm.coolwarm, s=20, edgecolors='k', alpha=0.5)\n",
    "\n",
    "ax.set_ylabel('y')\n",
    "ax.set_xlabel('x')\n",
    "\n",
    "ax.set_xticks(())\n",
    "ax.set_yticks(())\n",
    "ax.set_title(title)\n",
    "\n",
    "# produce a legend with the unique colors from the scatter\n",
    "legend1 = ax.legend(*scatter.legend_elements(),\n",
    "                    loc=\"lower left\", title=\"Classes\")\n",
    "ax.add_artist(legend1)\n",
    "\n",
    "plt.show()"
   ]
  }
 ],
 "metadata": {
  "colab": {
   "provenance": [
    {
     "file_id": "1QkJf5qEsvYLlrdNlfS0rOm2e9Va9hPpU",
     "timestamp": 1682946536145
    },
    {
     "file_id": "1ITzaCZf5Td30iOUvtAuCweHqmPcRrzNI",
     "timestamp": 1660786880335
    }
   ]
  },
  "kernelspec": {
   "display_name": "Python 3 (ipykernel)",
   "language": "python",
   "name": "python3"
  },
  "language_info": {
   "codemirror_mode": {
    "name": "ipython",
    "version": 3
   },
   "file_extension": ".py",
   "mimetype": "text/x-python",
   "name": "python",
   "nbconvert_exporter": "python",
   "pygments_lexer": "ipython3",
   "version": "3.10.5"
  }
 },
 "nbformat": 4,
 "nbformat_minor": 4
}
