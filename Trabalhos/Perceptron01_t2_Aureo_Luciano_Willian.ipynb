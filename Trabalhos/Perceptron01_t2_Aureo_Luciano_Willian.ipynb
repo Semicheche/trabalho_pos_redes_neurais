{
  "cells": [
    {
      "cell_type": "code",
      "execution_count": 2064,
      "metadata": {
        "colab": {
          "base_uri": "https://localhost:8080/"
        },
        "id": "-bTN7D8gVhK4",
        "outputId": "958db89f-e50a-4026-feab-b669c20abf7a"
      },
      "outputs": [
        {
          "name": "stdout",
          "output_type": "stream",
          "text": [
            "numpy:1.24.3\n",
            "pandas:2.0.1\n"
          ]
        }
      ],
      "source": [
        "import numpy as np\n",
        "\n",
        "import pandas as pd\n",
        "\n",
        "import matplotlib.pyplot as plt\n",
        "\n",
        "from sklearn.linear_model import LinearRegression, LogisticRegression, SGDClassifier\n",
        "\n",
        "from scipy.special import expit, logit\n",
        "from scipy.stats import logistic\n",
        "\n",
        "# versions\n",
        "print(f'numpy:{np.__version__}\\npandas:{pd.__version__}')"
      ]
    },
    {
      "cell_type": "code",
      "execution_count": 2065,
      "metadata": {
        "id": "N5GHVGgSV_F4"
      },
      "outputs": [],
      "source": [
        "class CNN:\n",
        "\n",
        "    def __init__(self, learning_rate=0.1, epochs=100):\n",
        "        self.weights = None\n",
        "        self.bias = None\n",
        "        self.learning_rate = learning_rate\n",
        "        self.epochs = epochs\n",
        "\n",
        "\n",
        "    def activation(self, z, activation_func):\n",
        "        result = None\n",
        "        if activation_func == \"sigmoid\":\n",
        "            result = self.sigmoid(z)\n",
        "        elif activation_func == \"tanh\":\n",
        "            result = np.tanh(z)\n",
        "        else:\n",
        "            result = np.heaviside(z, 0) # haviside(z) heaviside -> activation\n",
        "\n",
        "        return result\n",
        "\n",
        "    def sigmoid(self, x):\n",
        "        return 1.0 / (1.0 + np.exp(-x))\n",
        "\n",
        "    def fit(self, X, y, activation_func=None):\n",
        "        n_features = X.shape[1]\n",
        "\n",
        "        # Initializing weights and bias\n",
        "        self.weights = np.zeros((n_features))\n",
        "        self.bias = 0\n",
        "\n",
        "        # Iterating until the number of epochs\n",
        "        for epoch in range(self.epochs):\n",
        "\n",
        "            # Traversing through the entire training set\n",
        "            for i in range(len(X)):\n",
        "                z = np.dot(X, self.weights) + self.bias # Finding the dot product and adding the bias\n",
        "                y_pred = self.activation(z, activation_func) # Passing through an activation function\n",
        "\n",
        "                #Updating weights and bias\n",
        "                self.weights += self.learning_rate * (y[i] - y_pred[i]) * X[i]\n",
        "                self.bias += self.learning_rate * (y[i] - y_pred[i])\n",
        "            print(f'{epoch}/{self.epochs}')\n",
        "\n",
        "        return self.weights, self.bias\n",
        "\n",
        "\n",
        "    def predict(self, X, activation_func=None):\n",
        "        z = np.dot(X, self.weights) + self.bias\n",
        "        return self.activation(z, activation_func)\n",
        "\n",
        "    def loss_function(self, y_true, y_pred):\n",
        "        diff = np.abs(y_true - y_pred).max()\n",
        "        return np.log1p(diff)"
      ]
    },
    {
      "cell_type": "code",
      "execution_count": 2066,
      "metadata": {
        "colab": {
          "base_uri": "https://localhost:8080/"
        },
        "id": "p56iOyLSWKUE",
        "outputId": "0f1996dd-0397-4718-f8c2-6cbe1e8f331d"
      },
      "outputs": [
        {
          "name": "stdout",
          "output_type": "stream",
          "text": [
            "dict_keys(['data', 'target', 'frame', 'target_names', 'DESCR', 'feature_names', 'filename', 'data_module'])\n"
          ]
        }
      ],
      "source": [
        "from sklearn import datasets\n",
        "\n",
        "iris = datasets.load_iris()  # Loading the dataset iris\n",
        "\n",
        "print(iris.keys())"
      ]
    },
    {
      "cell_type": "code",
      "execution_count": 2067,
      "metadata": {
        "colab": {
          "base_uri": "https://localhost:8080/",
          "height": 206
        },
        "id": "beARmnjLWNFQ",
        "outputId": "6a9b3390-b1fc-4037-f9d1-b3e0c72ed6d4"
      },
      "outputs": [
        {
          "data": {
            "text/html": [
              "<div>\n",
              "<style scoped>\n",
              "    .dataframe tbody tr th:only-of-type {\n",
              "        vertical-align: middle;\n",
              "    }\n",
              "\n",
              "    .dataframe tbody tr th {\n",
              "        vertical-align: top;\n",
              "    }\n",
              "\n",
              "    .dataframe thead th {\n",
              "        text-align: right;\n",
              "    }\n",
              "</style>\n",
              "<table border=\"1\" class=\"dataframe\">\n",
              "  <thead>\n",
              "    <tr style=\"text-align: right;\">\n",
              "      <th></th>\n",
              "      <th>sepal length (cm)</th>\n",
              "      <th>sepal width (cm)</th>\n",
              "      <th>petal length (cm)</th>\n",
              "      <th>petal width (cm)</th>\n",
              "      <th>target</th>\n",
              "    </tr>\n",
              "  </thead>\n",
              "  <tbody>\n",
              "    <tr>\n",
              "      <th>0</th>\n",
              "      <td>5.1</td>\n",
              "      <td>3.5</td>\n",
              "      <td>1.4</td>\n",
              "      <td>0.2</td>\n",
              "      <td>0.0</td>\n",
              "    </tr>\n",
              "    <tr>\n",
              "      <th>1</th>\n",
              "      <td>4.9</td>\n",
              "      <td>3.0</td>\n",
              "      <td>1.4</td>\n",
              "      <td>0.2</td>\n",
              "      <td>0.0</td>\n",
              "    </tr>\n",
              "    <tr>\n",
              "      <th>2</th>\n",
              "      <td>4.7</td>\n",
              "      <td>3.2</td>\n",
              "      <td>1.3</td>\n",
              "      <td>0.2</td>\n",
              "      <td>0.0</td>\n",
              "    </tr>\n",
              "    <tr>\n",
              "      <th>3</th>\n",
              "      <td>4.6</td>\n",
              "      <td>3.1</td>\n",
              "      <td>1.5</td>\n",
              "      <td>0.2</td>\n",
              "      <td>0.0</td>\n",
              "    </tr>\n",
              "    <tr>\n",
              "      <th>4</th>\n",
              "      <td>5.0</td>\n",
              "      <td>3.6</td>\n",
              "      <td>1.4</td>\n",
              "      <td>0.2</td>\n",
              "      <td>0.0</td>\n",
              "    </tr>\n",
              "  </tbody>\n",
              "</table>\n",
              "</div>"
            ],
            "text/plain": [
              "   sepal length (cm)  sepal width (cm)  petal length (cm)  petal width (cm)   \n",
              "0                5.1               3.5                1.4               0.2  \\\n",
              "1                4.9               3.0                1.4               0.2   \n",
              "2                4.7               3.2                1.3               0.2   \n",
              "3                4.6               3.1                1.5               0.2   \n",
              "4                5.0               3.6                1.4               0.2   \n",
              "\n",
              "   target  \n",
              "0     0.0  \n",
              "1     0.0  \n",
              "2     0.0  \n",
              "3     0.0  \n",
              "4     0.0  "
            ]
          },
          "execution_count": 2067,
          "metadata": {},
          "output_type": "execute_result"
        }
      ],
      "source": [
        "iris = pd.DataFrame(\n",
        "    data= np.c_[iris['data'], iris['target']],\n",
        "    columns= iris['feature_names'] + ['target']\n",
        "    )\n",
        "\n",
        "iris.head(5)  # first 5 instances (rows)"
      ]
    },
    {
      "cell_type": "code",
      "execution_count": 2068,
      "metadata": {
        "id": "llxqG1LDWPPj"
      },
      "outputs": [],
      "source": [
        "species = []\n",
        "\n",
        "for i in range(len(iris['target'])):\n",
        "    if iris['target'][i] == 0:\n",
        "        species.append(\"setosa\")\n",
        "    elif iris['target'][i] == 1:\n",
        "        species.append('versicolor')\n",
        "    else:\n",
        "        species.append('virginica')\n",
        "\n",
        "\n",
        "iris['species'] = species"
      ]
    },
    {
      "cell_type": "code",
      "execution_count": 2069,
      "metadata": {
        "colab": {
          "base_uri": "https://localhost:8080/",
          "height": 206
        },
        "id": "1rWpGLdAWRD-",
        "outputId": "daef03b0-506c-417f-89b2-33b840d30942"
      },
      "outputs": [
        {
          "data": {
            "text/html": [
              "<div>\n",
              "<style scoped>\n",
              "    .dataframe tbody tr th:only-of-type {\n",
              "        vertical-align: middle;\n",
              "    }\n",
              "\n",
              "    .dataframe tbody tr th {\n",
              "        vertical-align: top;\n",
              "    }\n",
              "\n",
              "    .dataframe thead th {\n",
              "        text-align: right;\n",
              "    }\n",
              "</style>\n",
              "<table border=\"1\" class=\"dataframe\">\n",
              "  <thead>\n",
              "    <tr style=\"text-align: right;\">\n",
              "      <th></th>\n",
              "      <th>sepal length (cm)</th>\n",
              "      <th>sepal width (cm)</th>\n",
              "      <th>petal length (cm)</th>\n",
              "      <th>petal width (cm)</th>\n",
              "      <th>target</th>\n",
              "      <th>species</th>\n",
              "    </tr>\n",
              "  </thead>\n",
              "  <tbody>\n",
              "    <tr>\n",
              "      <th>0</th>\n",
              "      <td>5.1</td>\n",
              "      <td>3.5</td>\n",
              "      <td>1.4</td>\n",
              "      <td>0.2</td>\n",
              "      <td>0.0</td>\n",
              "      <td>setosa</td>\n",
              "    </tr>\n",
              "    <tr>\n",
              "      <th>1</th>\n",
              "      <td>4.9</td>\n",
              "      <td>3.0</td>\n",
              "      <td>1.4</td>\n",
              "      <td>0.2</td>\n",
              "      <td>0.0</td>\n",
              "      <td>setosa</td>\n",
              "    </tr>\n",
              "    <tr>\n",
              "      <th>2</th>\n",
              "      <td>4.7</td>\n",
              "      <td>3.2</td>\n",
              "      <td>1.3</td>\n",
              "      <td>0.2</td>\n",
              "      <td>0.0</td>\n",
              "      <td>setosa</td>\n",
              "    </tr>\n",
              "    <tr>\n",
              "      <th>3</th>\n",
              "      <td>4.6</td>\n",
              "      <td>3.1</td>\n",
              "      <td>1.5</td>\n",
              "      <td>0.2</td>\n",
              "      <td>0.0</td>\n",
              "      <td>setosa</td>\n",
              "    </tr>\n",
              "    <tr>\n",
              "      <th>4</th>\n",
              "      <td>5.0</td>\n",
              "      <td>3.6</td>\n",
              "      <td>1.4</td>\n",
              "      <td>0.2</td>\n",
              "      <td>0.0</td>\n",
              "      <td>setosa</td>\n",
              "    </tr>\n",
              "  </tbody>\n",
              "</table>\n",
              "</div>"
            ],
            "text/plain": [
              "   sepal length (cm)  sepal width (cm)  petal length (cm)  petal width (cm)   \n",
              "0                5.1               3.5                1.4               0.2  \\\n",
              "1                4.9               3.0                1.4               0.2   \n",
              "2                4.7               3.2                1.3               0.2   \n",
              "3                4.6               3.1                1.5               0.2   \n",
              "4                5.0               3.6                1.4               0.2   \n",
              "\n",
              "   target species  \n",
              "0     0.0  setosa  \n",
              "1     0.0  setosa  \n",
              "2     0.0  setosa  \n",
              "3     0.0  setosa  \n",
              "4     0.0  setosa  "
            ]
          },
          "execution_count": 2069,
          "metadata": {},
          "output_type": "execute_result"
        }
      ],
      "source": [
        "iris.head(5)"
      ]
    },
    {
      "cell_type": "code",
      "execution_count": 2070,
      "metadata": {
        "colab": {
          "base_uri": "https://localhost:8080/"
        },
        "id": "FDqhpHbXWVCU",
        "outputId": "0aad8b0b-ff08-446e-e4ad-887ffc507d65"
      },
      "outputs": [
        {
          "data": {
            "text/plain": [
              "species\n",
              "setosa        50\n",
              "versicolor    50\n",
              "virginica     50\n",
              "dtype: int64"
            ]
          },
          "execution_count": 2070,
          "metadata": {},
          "output_type": "execute_result"
        }
      ],
      "source": [
        "iris.groupby('species').size()"
      ]
    },
    {
      "cell_type": "code",
      "execution_count": 2071,
      "metadata": {
        "colab": {
          "base_uri": "https://localhost:8080/",
          "height": 394
        },
        "id": "Swo8P4i6WW2e",
        "outputId": "4a6183eb-d544-4bb0-8d51-3301c13f8076"
      },
      "outputs": [
        {
          "data": {
            "text/html": [
              "<div>\n",
              "<style scoped>\n",
              "    .dataframe tbody tr th:only-of-type {\n",
              "        vertical-align: middle;\n",
              "    }\n",
              "\n",
              "    .dataframe tbody tr th {\n",
              "        vertical-align: top;\n",
              "    }\n",
              "\n",
              "    .dataframe thead th {\n",
              "        text-align: right;\n",
              "    }\n",
              "</style>\n",
              "<table border=\"1\" class=\"dataframe\">\n",
              "  <thead>\n",
              "    <tr style=\"text-align: right;\">\n",
              "      <th></th>\n",
              "      <th>sepal length (cm)</th>\n",
              "      <th>sepal width (cm)</th>\n",
              "      <th>petal length (cm)</th>\n",
              "      <th>petal width (cm)</th>\n",
              "      <th>target</th>\n",
              "      <th>species</th>\n",
              "    </tr>\n",
              "  </thead>\n",
              "  <tbody>\n",
              "    <tr>\n",
              "      <th>count</th>\n",
              "      <td>150.000000</td>\n",
              "      <td>150.000000</td>\n",
              "      <td>150.000000</td>\n",
              "      <td>150.000000</td>\n",
              "      <td>150.000000</td>\n",
              "      <td>150</td>\n",
              "    </tr>\n",
              "    <tr>\n",
              "      <th>unique</th>\n",
              "      <td>NaN</td>\n",
              "      <td>NaN</td>\n",
              "      <td>NaN</td>\n",
              "      <td>NaN</td>\n",
              "      <td>NaN</td>\n",
              "      <td>3</td>\n",
              "    </tr>\n",
              "    <tr>\n",
              "      <th>top</th>\n",
              "      <td>NaN</td>\n",
              "      <td>NaN</td>\n",
              "      <td>NaN</td>\n",
              "      <td>NaN</td>\n",
              "      <td>NaN</td>\n",
              "      <td>setosa</td>\n",
              "    </tr>\n",
              "    <tr>\n",
              "      <th>freq</th>\n",
              "      <td>NaN</td>\n",
              "      <td>NaN</td>\n",
              "      <td>NaN</td>\n",
              "      <td>NaN</td>\n",
              "      <td>NaN</td>\n",
              "      <td>50</td>\n",
              "    </tr>\n",
              "    <tr>\n",
              "      <th>mean</th>\n",
              "      <td>5.843333</td>\n",
              "      <td>3.057333</td>\n",
              "      <td>3.758000</td>\n",
              "      <td>1.199333</td>\n",
              "      <td>1.000000</td>\n",
              "      <td>NaN</td>\n",
              "    </tr>\n",
              "    <tr>\n",
              "      <th>std</th>\n",
              "      <td>0.828066</td>\n",
              "      <td>0.435866</td>\n",
              "      <td>1.765298</td>\n",
              "      <td>0.762238</td>\n",
              "      <td>0.819232</td>\n",
              "      <td>NaN</td>\n",
              "    </tr>\n",
              "    <tr>\n",
              "      <th>min</th>\n",
              "      <td>4.300000</td>\n",
              "      <td>2.000000</td>\n",
              "      <td>1.000000</td>\n",
              "      <td>0.100000</td>\n",
              "      <td>0.000000</td>\n",
              "      <td>NaN</td>\n",
              "    </tr>\n",
              "    <tr>\n",
              "      <th>25%</th>\n",
              "      <td>5.100000</td>\n",
              "      <td>2.800000</td>\n",
              "      <td>1.600000</td>\n",
              "      <td>0.300000</td>\n",
              "      <td>0.000000</td>\n",
              "      <td>NaN</td>\n",
              "    </tr>\n",
              "    <tr>\n",
              "      <th>50%</th>\n",
              "      <td>5.800000</td>\n",
              "      <td>3.000000</td>\n",
              "      <td>4.350000</td>\n",
              "      <td>1.300000</td>\n",
              "      <td>1.000000</td>\n",
              "      <td>NaN</td>\n",
              "    </tr>\n",
              "    <tr>\n",
              "      <th>75%</th>\n",
              "      <td>6.400000</td>\n",
              "      <td>3.300000</td>\n",
              "      <td>5.100000</td>\n",
              "      <td>1.800000</td>\n",
              "      <td>2.000000</td>\n",
              "      <td>NaN</td>\n",
              "    </tr>\n",
              "    <tr>\n",
              "      <th>max</th>\n",
              "      <td>7.900000</td>\n",
              "      <td>4.400000</td>\n",
              "      <td>6.900000</td>\n",
              "      <td>2.500000</td>\n",
              "      <td>2.000000</td>\n",
              "      <td>NaN</td>\n",
              "    </tr>\n",
              "  </tbody>\n",
              "</table>\n",
              "</div>"
            ],
            "text/plain": [
              "        sepal length (cm)  sepal width (cm)  petal length (cm)   \n",
              "count          150.000000        150.000000         150.000000  \\\n",
              "unique                NaN               NaN                NaN   \n",
              "top                   NaN               NaN                NaN   \n",
              "freq                  NaN               NaN                NaN   \n",
              "mean             5.843333          3.057333           3.758000   \n",
              "std              0.828066          0.435866           1.765298   \n",
              "min              4.300000          2.000000           1.000000   \n",
              "25%              5.100000          2.800000           1.600000   \n",
              "50%              5.800000          3.000000           4.350000   \n",
              "75%              6.400000          3.300000           5.100000   \n",
              "max              7.900000          4.400000           6.900000   \n",
              "\n",
              "        petal width (cm)      target species  \n",
              "count         150.000000  150.000000     150  \n",
              "unique               NaN         NaN       3  \n",
              "top                  NaN         NaN  setosa  \n",
              "freq                 NaN         NaN      50  \n",
              "mean            1.199333    1.000000     NaN  \n",
              "std             0.762238    0.819232     NaN  \n",
              "min             0.100000    0.000000     NaN  \n",
              "25%             0.300000    0.000000     NaN  \n",
              "50%             1.300000    1.000000     NaN  \n",
              "75%             1.800000    2.000000     NaN  \n",
              "max             2.500000    2.000000     NaN  "
            ]
          },
          "execution_count": 2071,
          "metadata": {},
          "output_type": "execute_result"
        }
      ],
      "source": [
        "iris.describe(include = 'all')"
      ]
    },
    {
      "cell_type": "code",
      "execution_count": 2072,
      "metadata": {
        "id": "84kvZL4UWZfJ"
      },
      "outputs": [],
      "source": [
        "plt.style.use('dark_background')  # \"dark\" theme\n",
        "plt.rcParams[\"font.size\"] = 12\n",
        "\n",
        "plt.rcParams[\"figure.figsize\"] = (10, 4)"
      ]
    },
    {
      "cell_type": "code",
      "execution_count": 2073,
      "metadata": {
        "colab": {
          "base_uri": "https://localhost:8080/",
          "height": 419
        },
        "id": "UTiNiwdRWb1x",
        "outputId": "bf93bb33-bcde-4c22-fdb8-7183b2a80970"
      },
      "outputs": [
        {
          "data": {
            "image/png": "[encoded data removed]",
            "text/plain": [
              "<Figure size 1000x400 with 1 Axes>"
            ]
          },
          "metadata": {},
          "output_type": "display_data"
        }
      ],
      "source": [
        "setosa = iris[iris.species == \"setosa\"]\n",
        "versicolor = iris[iris.species=='versicolor']\n",
        "virginica = iris[iris.species=='virginica']\n",
        "\n",
        "fig, ax = plt.subplots()\n",
        "\n",
        "# labels and scatter points\n",
        "ax.scatter(setosa['petal length (cm)'], setosa['petal width (cm)'], label=\"Setosa\", facecolor=\"blue\")\n",
        "ax.scatter(versicolor['petal length (cm)'], versicolor['petal width (cm)'], label=\"Versicolor\", facecolor=\"green\")\n",
        "ax.scatter(virginica['petal length (cm)'], virginica['petal width (cm)'], label=\"Virginica\", facecolor=\"red\")\n",
        "\n",
        "\n",
        "ax.set_xlabel(\"petal length (cm)\")\n",
        "ax.set_ylabel(\"petal width (cm)\")\n",
        "ax.grid()\n",
        "ax.set_title(\"Iris petals\")\n",
        "ax.legend()\n",
        "\n",
        "plt.show();"
      ]
    },
    {
      "cell_type": "code",
      "execution_count": 2074,
      "metadata": {
        "colab": {
          "base_uri": "https://localhost:8080/",
          "height": 419
        },
        "id": "fN5LTQMjWfus",
        "outputId": "5f31fd97-93c7-4526-c99d-c880113eb848"
      },
      "outputs": [
        {
          "data": {
            "image/png": "[encoded data removed]",
            "text/plain": [
              "<Figure size 1000x400 with 1 Axes>"
            ]
          },
          "metadata": {},
          "output_type": "display_data"
        }
      ],
      "source": [
        "fig, ax = plt.subplots()\n",
        "\n",
        "# labels and scatter points\n",
        "ax.scatter(setosa['sepal length (cm)'], setosa['sepal width (cm)'], label=\"Setosa\", facecolor=\"blue\")\n",
        "ax.scatter(versicolor['sepal length (cm)'], versicolor['sepal width (cm)'], label=\"Versicolor\", facecolor=\"green\")\n",
        "ax.scatter(virginica['sepal length (cm)'], virginica['sepal width (cm)'], label=\"Virginica\", facecolor=\"red\")\n",
        "\n",
        "\n",
        "ax.set_xlabel(\"sepal length (cm)\")\n",
        "ax.set_ylabel(\"sepal width (cm)\")\n",
        "ax.grid()\n",
        "ax.set_title(\"Iris sepals\")\n",
        "ax.legend()\n",
        "\n",
        "plt.show();"
      ]
    },
    {
      "cell_type": "code",
      "execution_count": 2075,
      "metadata": {
        "colab": {
          "base_uri": "https://localhost:8080/",
          "height": 300
        },
        "id": "jsziIE9VWjOU",
        "outputId": "6259aced-642a-4faf-9932-ef6f1c908d3b"
      },
      "outputs": [
        {
          "data": {
            "text/html": [
              "<div>\n",
              "<style scoped>\n",
              "    .dataframe tbody tr th:only-of-type {\n",
              "        vertical-align: middle;\n",
              "    }\n",
              "\n",
              "    .dataframe tbody tr th {\n",
              "        vertical-align: top;\n",
              "    }\n",
              "\n",
              "    .dataframe thead th {\n",
              "        text-align: right;\n",
              "    }\n",
              "</style>\n",
              "<table border=\"1\" class=\"dataframe\">\n",
              "  <thead>\n",
              "    <tr style=\"text-align: right;\">\n",
              "      <th></th>\n",
              "      <th>sepal length (cm)</th>\n",
              "      <th>sepal width (cm)</th>\n",
              "      <th>petal length (cm)</th>\n",
              "      <th>petal width (cm)</th>\n",
              "    </tr>\n",
              "  </thead>\n",
              "  <tbody>\n",
              "    <tr>\n",
              "      <th>count</th>\n",
              "      <td>150.000000</td>\n",
              "      <td>150.000000</td>\n",
              "      <td>150.000000</td>\n",
              "      <td>150.000000</td>\n",
              "    </tr>\n",
              "    <tr>\n",
              "      <th>mean</th>\n",
              "      <td>5.843333</td>\n",
              "      <td>3.057333</td>\n",
              "      <td>3.758000</td>\n",
              "      <td>1.199333</td>\n",
              "    </tr>\n",
              "    <tr>\n",
              "      <th>std</th>\n",
              "      <td>0.828066</td>\n",
              "      <td>0.435866</td>\n",
              "      <td>1.765298</td>\n",
              "      <td>0.762238</td>\n",
              "    </tr>\n",
              "    <tr>\n",
              "      <th>min</th>\n",
              "      <td>4.300000</td>\n",
              "      <td>2.000000</td>\n",
              "      <td>1.000000</td>\n",
              "      <td>0.100000</td>\n",
              "    </tr>\n",
              "    <tr>\n",
              "      <th>25%</th>\n",
              "      <td>5.100000</td>\n",
              "      <td>2.800000</td>\n",
              "      <td>1.600000</td>\n",
              "      <td>0.300000</td>\n",
              "    </tr>\n",
              "    <tr>\n",
              "      <th>50%</th>\n",
              "      <td>5.800000</td>\n",
              "      <td>3.000000</td>\n",
              "      <td>4.350000</td>\n",
              "      <td>1.300000</td>\n",
              "    </tr>\n",
              "    <tr>\n",
              "      <th>75%</th>\n",
              "      <td>6.400000</td>\n",
              "      <td>3.300000</td>\n",
              "      <td>5.100000</td>\n",
              "      <td>1.800000</td>\n",
              "    </tr>\n",
              "    <tr>\n",
              "      <th>max</th>\n",
              "      <td>7.900000</td>\n",
              "      <td>4.400000</td>\n",
              "      <td>6.900000</td>\n",
              "      <td>2.500000</td>\n",
              "    </tr>\n",
              "  </tbody>\n",
              "</table>\n",
              "</div>"
            ],
            "text/plain": [
              "       sepal length (cm)  sepal width (cm)  petal length (cm)   \n",
              "count         150.000000        150.000000         150.000000  \\\n",
              "mean            5.843333          3.057333           3.758000   \n",
              "std             0.828066          0.435866           1.765298   \n",
              "min             4.300000          2.000000           1.000000   \n",
              "25%             5.100000          2.800000           1.600000   \n",
              "50%             5.800000          3.000000           4.350000   \n",
              "75%             6.400000          3.300000           5.100000   \n",
              "max             7.900000          4.400000           6.900000   \n",
              "\n",
              "       petal width (cm)  \n",
              "count        150.000000  \n",
              "mean           1.199333  \n",
              "std            0.762238  \n",
              "min            0.100000  \n",
              "25%            0.300000  \n",
              "50%            1.300000  \n",
              "75%            1.800000  \n",
              "max            2.500000  "
            ]
          },
          "execution_count": 2075,
          "metadata": {},
          "output_type": "execute_result"
        }
      ],
      "source": [
        "X = iris.drop(columns = ['target', 'species'], axis=1)\n",
        "X.describe(include = 'all')"
      ]
    },
    {
      "cell_type": "code",
      "execution_count": 2076,
      "metadata": {
        "id": "F4uRtxaSWl8O"
      },
      "outputs": [],
      "source": [
        "X = X.to_numpy()[:, (2, 3)]  # 3rd and 4th columns\n",
        "y = iris['target'].to_numpy().astype(int)"
      ]
    },
    {
      "cell_type": "code",
      "execution_count": 2077,
      "metadata": {
        "colab": {
          "base_uri": "https://localhost:8080/"
        },
        "id": "gkAPNSQkWsf_",
        "outputId": "4bb89643-451f-4254-e795-da1b134debb6"
      },
      "outputs": [
        {
          "name": "stdout",
          "output_type": "stream",
          "text": [
            "Training: 105 instances \n",
            "Test: 45 instances\n",
            "\n",
            "Training shape:(105, 2) \n",
            "First row:[3.7 1. ]\n",
            "\n",
            "Test shape:(45, 2) \n",
            "First row:[4.7 1.2]\n",
            "\n",
            "Labels \n",
            "\ttraining: 105 instances \n",
            "\ttest: 45 instances\n",
            "\n",
            "Labels training shape:(105,) \n",
            "set:[1 2 2 1 2 1 2 1 0 2 1 0 0 0 1 2 0 0 0 1 0 1 2 0 1 2 0 2 2 1 1 2 1 0 1 2 0\n",
            " 0 1 1 0 2 0 0 1 1 2 1 2 2 1 0 0 2 2 0 0 0 1 2 0 2 2 0 1 1 2 1 2 0 2 1 2 1\n",
            " 1 1 0 1 1 0 1 2 2 0 1 2 2 0 2 0 1 2 2 1 2 1 1 2 2 0 1 2 0 1 2]\n",
            "\n",
            "Labels test shape:(45,) \n",
            "set:[1 0 2 1 1 0 1 2 1 1 2 0 0 0 0 1 2 1 1 2 0 2 0 2 2 2 2 2 0 0 0 0 1 0 0 2 1\n",
            " 0 0 0 2 1 1 0 0]\n"
          ]
        }
      ],
      "source": [
        "from sklearn.model_selection import train_test_split\n",
        "\n",
        "X_train, X_test, y_train, y_test = train_test_split(X, y, test_size=0.3, random_state=42)\n",
        "\n",
        "print(f'Training: {len(X_train)} instances \\nTest: {len(X_test)} instances')\n",
        "\n",
        "print(f'\\nTraining shape:{X_train.shape} \\nFirst row:{X_train[0]}')\n",
        "print(f'\\nTest shape:{X_test.shape} \\nFirst row:{X_test[0]}')\n",
        "\n",
        "print(f'\\nLabels \\n\\ttraining: {len(y_train)} instances \\n\\ttest: {len(y_test)} instances')\n",
        "print(f'\\nLabels training shape:{y_train.shape} \\nset:{y_train}')\n",
        "print(f'\\nLabels test shape:{y_test.shape} \\nset:{y_test}')"
      ]
    },
    {
      "attachments": {},
      "cell_type": "markdown",
      "metadata": {},
      "source": [
        "# Sigmoid\n",
        "A maior vantagem que tem sobre outras etapas e funções lineares é sua não linearidade. A função pega qualquer valor entre (- $\\infty$, $\\infty$) varia de 0 a 1 tendo uma forma de S. Também conhecido pelo nome de função logística ou de esmagamento em alguma literatura. A função sigmoide é usada nas camadas de saída do DNN e é usada para saída baseada em probabilidade.\n",
        "\n",
        "Suas principais desvantagens são gradientes úmidos acentuados durante retropropagação, saturação de gradiente, convergência lenta e saída centralizada diferente de zero, fazendo com que as atualizações de gradiente se propaguem em direções diferentes\n",
        "\n",
        "\\begin{align}\n",
        "    f(x) = \\frac{1}{1+e^{-x}}\n",
        "\\end{align}\n"
      ]
    },
    {
      "cell_type": "code",
      "execution_count": 2078,
      "metadata": {},
      "outputs": [
        {
          "data": {
            "image/png": "[encoded data removed]",
            "text/plain": [
              "<Figure size 400x200 with 1 Axes>"
            ]
          },
          "metadata": {},
          "output_type": "display_data"
        }
      ],
      "source": [
        "cnn = CNN()\n",
        "values = np.arange(-10, 10, 0.1)\n",
        "\n",
        "plt.figure(figsize=(4, 2))\n",
        "plt.plot(values, cnn.sigmoid(values))\n",
        "plt.xlabel('x')\n",
        "plt.ylabel('sigmoid(x)')\n",
        "plt.title('Sigmoid Function')\n",
        "plt.show()"
      ]
    },
    {
      "cell_type": "code",
      "execution_count": 2079,
      "metadata": {},
      "outputs": [
        {
          "name": "stdout",
          "output_type": "stream",
          "text": [
            "0/20\n",
            "1/20\n",
            "2/20\n",
            "3/20\n",
            "4/20\n",
            "5/20\n",
            "6/20\n",
            "7/20\n",
            "8/20\n",
            "9/20\n",
            "10/20\n",
            "11/20\n",
            "12/20\n",
            "13/20\n",
            "14/20\n",
            "15/20\n",
            "16/20\n",
            "17/20\n",
            "18/20\n",
            "19/20\n"
          ]
        }
      ],
      "source": [
        "\n",
        "\n",
        "cnn = CNN(0.001, 20)\n",
        "\n",
        "cnn.fit(X_train, y_train, 'sigmoid')\n",
        "pred = cnn.predict(X_test, 'sigmoid')\n",
        "\n",
        "#perceptron.fit(X_train, y_train)"
      ]
    },
    {
      "cell_type": "code",
      "execution_count": 2080,
      "metadata": {
        "id": "_yb1Z86KWw88"
      },
      "outputs": [],
      "source": [
        "pred = cnn.predict(X_test, 'sigmoid')\n",
        "#pred = perceptron.predict(X_test)\n",
        "pred"
      ]
    },
    {
      "cell_type": "code",
      "execution_count": 2081,
      "metadata": {
        "colab": {
          "base_uri": "https://localhost:8080/"
        },
        "id": "g6UHuFZTWz3C",
        "outputId": "6ae90aa4-a9c8-4ead-df35-01433a09cc5d"
      },
      "outputs": [
        {
          "name": "stdout",
          "output_type": "stream",
          "text": [
            "Loss Function:0.69\n"
          ]
        }
      ],
      "source": [
        "from sklearn import metrics\n",
        "from sklearn.metrics import accuracy_score\n",
        "\n",
        "#Accuracy\n",
        "#acc = accuracy_score(pred, y_test)\n",
        "acc = cnn.loss_function(y_test, pred)\n",
        "#Accuracy Before Sigmoid Accuracy:0.29\n",
        "print(f'Loss Function:{acc:.2f}')\n",
        "#Confusion matrix\n",
        "#print(metrics.confusion_matrix(y_test, pred))"
      ]
    },
    {
      "attachments": {},
      "cell_type": "markdown",
      "metadata": {},
      "source": [
        "# TanH Function\n",
        "\n",
        "A função tangente hiperbólica é uma função centrada em zero e seu intervalo está entre -1 a 1\n",
        "\n",
        "- Como esta função é centrada em zero, isso torna mais fácil modelar entradas que possuem valores fortemente negativos, neutros e fortemente positivos\n",
        "\n",
        "- É aconselhável usar a função tanh em vez da função sigmóide se sua saída for diferente de 0 e 1\n",
        "\n",
        "- As funções tanh têm sido usadas principalmente em RNN para processamento de linguagem natural e tarefas de reconhecimento de fala\n",
        "\n",
        "\\begin{align}\n",
        "    f(x) = \\frac{({e^x}-e^{-x})}{(e^x+e^{-x})}\n",
        "\\end{align}"
      ]
    },
    {
      "cell_type": "code",
      "execution_count": 2082,
      "metadata": {},
      "outputs": [
        {
          "data": {
            "image/png": "[encoded data removed]",
            "text/plain": [
              "<Figure size 400x200 with 1 Axes>"
            ]
          },
          "metadata": {},
          "output_type": "display_data"
        }
      ],
      "source": [
        "cnn = CNN()\n",
        "values = np.arange(-10, 10, 0.1)\n",
        "\n",
        "plt.figure(figsize=(4, 2))\n",
        "plt.plot(values, np.tanh(values))\n",
        "plt.xlabel('x')\n",
        "plt.ylabel('tanh(x)')\n",
        "plt.title('TanH Function')\n",
        "plt.show()"
      ]
    },
    {
      "cell_type": "code",
      "execution_count": 2083,
      "metadata": {
        "colab": {
          "base_uri": "https://localhost:8080/"
        },
        "id": "0CKCaDQ7W2sk",
        "outputId": "e9024aa6-0ed9-48b9-8409-8150fe38d97d"
      },
      "outputs": [
        {
          "name": "stdout",
          "output_type": "stream",
          "text": [
            "0/20\n",
            "1/20\n",
            "2/20\n",
            "3/20\n",
            "4/20\n",
            "5/20\n",
            "6/20\n",
            "7/20\n",
            "8/20\n",
            "9/20\n",
            "10/20\n",
            "11/20\n",
            "12/20\n",
            "13/20\n",
            "14/20\n",
            "15/20\n",
            "16/20\n",
            "17/20\n",
            "18/20\n",
            "19/20\n",
            "Loss Function:0.69\n"
          ]
        }
      ],
      "source": [
        "cnn = CNN(0.001, 20)\n",
        "\n",
        "sigmoid = cnn.fit(X_train, y_train, 'tanh')\n",
        "\n",
        "pred = cnn.predict(X_test, 'tanh')\n",
        "\n",
        "# Accuracy\n",
        "#acc = accuracy_score(pred, y_test)\n",
        "acc = cnn.loss_function(y_test, pred)\n",
        "print(f'Loss Function:{acc:.2f}')\n",
        "\n",
        "# Confusion matrix\n",
        "#print(metrics.confusion_matrix(y_test, pred))"
      ]
    },
    {
      "attachments": {},
      "cell_type": "markdown",
      "metadata": {},
      "source": [
        "# Logistic Regression (Scikit-learn)\n",
        "\n",
        "## Com a função de ativação scikit-learn "
      ]
    },
    {
      "cell_type": "code",
      "execution_count": 2084,
      "metadata": {},
      "outputs": [
        {
          "name": "stdout",
          "output_type": "stream",
          "text": [
            "Accuracy: 0.8666666666666667\n"
          ]
        }
      ],
      "source": [
        "clf = LogisticRegression(max_iter=100, solver=\"sag\", tol=1e-1, C=1.0e4 / X_train.shape[0]).fit(X_train, y_train)\n",
        "\n",
        "y_pred = clf.predict(X_test)\n",
        "\n",
        "print(f'Accuracy: {clf.score(X_test, y_test)}')"
      ]
    },
    {
      "cell_type": "code",
      "execution_count": 2085,
      "metadata": {},
      "outputs": [
        {
          "data": {
            "image/png": "[encoded data removed]",
            "text/plain": [
              "<Figure size 1000x400 with 1 Axes>"
            ]
          },
          "metadata": {},
          "output_type": "display_data"
        }
      ],
      "source": [
        "\n",
        "def make_meshgrid(x, y, h=.02):\n",
        "    x_min, x_max = x.min() - 1, x.max() + 1\n",
        "    y_min, y_max = y.min() - 1, y.max() + 1\n",
        "\n",
        "    xx, yy = np.meshgrid(np.arange(x_min, x_max, h), np.arange(y_min, y_max, h))\n",
        "\n",
        "    return xx, yy\n",
        "\n",
        "def plot_contours(ax, clf, xx, yy, **params):  \n",
        "    Z = clf.predict(np.c_[xx.ravel(), yy.ravel()])\n",
        "    Z = Z.reshape(xx.shape)\n",
        "\n",
        "    out = ax.contourf(xx, yy, Z, **params)\n",
        "\n",
        "    return out\n",
        "\n",
        "fig, ax = plt.subplots()\n",
        "\n",
        "X0, X1 = X_test[:, 0], X_test[:, 1]\n",
        "xx, yy = make_meshgrid(X0, X1)\n",
        "\n",
        "title = 'Lgistic Regression SAG'\n",
        "\n",
        "plot_contours(ax, clf, xx, yy, cmap=plt.cm.coolwarm, alpha=0.7)\n",
        "\n",
        "scatter = ax.scatter(X0, X1, c=y_test, cmap=plt.cm.coolwarm, s=20, edgecolors='k', alpha = 0.5)\n",
        "\n",
        "ax.set_ylabel('y')\n",
        "ax.set_xlabel('x')\n",
        "\n",
        "ax.set_xticks(())\n",
        "ax.set_yticks(())\n",
        "ax.set_title(title)\n",
        "\n",
        "legend1 = ax.legend(*scatter.legend_elements(),\n",
        "                    loc=\"lower left\", title=\"Classes\")\n",
        "ax.add_artist(legend1)\n",
        "\n",
        "plt.show()"
      ]
    },
    {
      "cell_type": "code",
      "execution_count": 2086,
      "metadata": {
        "colab": {
          "base_uri": "https://localhost:8080/"
        },
        "id": "p9VO0Sn4W6jz",
        "outputId": "1d5fa02b-a475-47b8-fa16-7fa185e5d773"
      },
      "outputs": [
        {
          "name": "stdout",
          "output_type": "stream",
          "text": [
            "Training: 105 instances \n",
            "Test: 45 instances\n",
            "\n",
            "Training shape:(105, 2) \n",
            "First row:[-0.09951105 -0.32339776]\n",
            "\n",
            "Test shape:(45, 2) \n",
            "First row:[ 0.484213   -0.05282593]\n",
            "\n",
            "Labels \n",
            "\ttraining: 105 instances \n",
            "\ttest: 45 instances\n",
            "\n",
            "Labels training shape:(105,) \n",
            "set:[1 2 2 1 2 1 2 1 0 2 1 0 0 0 1 2 0 0 0 1 0 1 2 0 1 2 0 2 2 1 1 2 1 0 1 2 0\n",
            " 0 1 1 0 2 0 0 1 1 2 1 2 2 1 0 0 2 2 0 0 0 1 2 0 2 2 0 1 1 2 1 2 0 2 1 2 1\n",
            " 1 1 0 1 1 0 1 2 2 0 1 2 2 0 2 0 1 2 2 1 2 1 1 2 2 0 1 2 0 1 2]\n",
            "\n",
            "Labels test shape:(45,) \n",
            "set:[1 0 2 1 1 0 1 2 1 1 2 0 0 0 0 1 2 1 1 2 0 2 0 2 2 2 2 2 0 0 0 0 1 0 0 2 1\n",
            " 0 0 0 2 1 1 0 0]\n"
          ]
        }
      ],
      "source": [
        "from sklearn.preprocessing import StandardScaler\n",
        "\n",
        "# Normalize the data\n",
        "scaler = StandardScaler()\n",
        "X_train = scaler.fit_transform(X_train)\n",
        "X_test = scaler.transform(X_test)\n",
        "\n",
        "print(f'Training: {len(X_train)} instances \\nTest: {len(X_test)} instances')\n",
        "\n",
        "print(f'\\nTraining shape:{X_train.shape} \\nFirst row:{X_train[0]}')\n",
        "print(f'\\nTest shape:{X_test.shape} \\nFirst row:{X_test[0]}')\n",
        "\n",
        "print(f'\\nLabels \\n\\ttraining: {len(y_train)} instances \\n\\ttest: {len(y_test)} instances')\n",
        "print(f'\\nLabels training shape:{y_train.shape} \\nset:{y_train}')\n",
        "print(f'\\nLabels test shape:{y_test.shape} \\nset:{y_test}')"
      ]
    },
    {
      "cell_type": "code",
      "execution_count": 2087,
      "metadata": {
        "colab": {
          "base_uri": "https://localhost:8080/"
        },
        "id": "_Pqb4eh7W9dy",
        "outputId": "ff6b185e-7098-4b07-bbef-f01e256538c6"
      },
      "outputs": [
        {
          "name": "stdout",
          "output_type": "stream",
          "text": [
            "0/10\n",
            "1/10\n",
            "2/10\n",
            "3/10\n",
            "4/10\n",
            "5/10\n",
            "6/10\n",
            "7/10\n",
            "8/10\n",
            "9/10\n",
            "Accuracy:0.79\n"
          ]
        }
      ],
      "source": [
        "cnn = CNN(0.001, 10)\n",
        "\n",
        "cnn.fit(X_train, y_train, 'sigmoid')\n",
        "\n",
        "pred = cnn.predict(X_test, 'sigmoid')\n",
        "\n",
        "# Accuracy\n",
        "#acc = accuracy_score(pred, y_test)\n",
        "acc = cnn.loss_function(y_test, pred)\n",
        "print(f'Accuracy:{acc:.2f}')\n",
        "\n",
        "# Confusion matrix\n",
        "#print(metrics.confusion_matrix(y_test, pred))"
      ]
    }
  ],
  "metadata": {
    "colab": {
      "provenance": []
    },
    "kernelspec": {
      "display_name": "Python 3",
      "name": "python3"
    },
    "language_info": {
      "codemirror_mode": {
        "name": "ipython",
        "version": 3
      },
      "file_extension": ".py",
      "mimetype": "text/x-python",
      "name": "python",
      "nbconvert_exporter": "python",
      "pygments_lexer": "ipython3",
      "version": "3.8.16"
    }
  },
  "nbformat": 4,
  "nbformat_minor": 0
}
