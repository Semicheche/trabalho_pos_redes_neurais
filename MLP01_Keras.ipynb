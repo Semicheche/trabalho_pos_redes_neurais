{
  "cells": [
    {
      "attachments": {},
      "cell_type": "markdown",
      "metadata": {
        "id": "uewo52jbcP2v"
      },
      "source": [
        "# <font color=\"#ff9900\"> **MLP com Keras**</font>\n",
        "---\n",
        "\n",
        "<font color=\"#66ffff\">**Keras**</font> (https://keras.io/) é uma biblioteca de rede neural de código aberto escrita em Python. É projetada para ser amigável ao usuário, modular e extensível, fornecendo uma interface de alto nível para construir e treinar modelos de aprendizado profundo. O Keras é construído em cima de outros *frameworks* populares de aprendizado profundo como ``TensorFlow`` (https://www.tensorflow.org/), Microsoft Cognitive Toolkit -``CNTK`` (https://learn.microsoft.com/en-us/cognitive-toolkit/) e ``Theano`` (https://github.com/Theano/Theano), o que permite que ele aproveite o poder e desempenho desses *frameworks* enquanto fornece uma interface mais acessível e fácil de usar. Tais *frameworks* são o *backend* computacional do Keras.\n",
        "\n",
        "O próprio ``TensorFlow`` vem com uma implementação particular do Keras, ``tf.keras``. Há suporte apenas ao ``TensorFlow`` como *backend*, oferecendo a vatnagem de suporte ao TensorFlow Data API."
      ]
    },
    {
      "attachments": {},
      "cell_type": "markdown",
      "metadata": {
        "id": "T9JA8vQwdum1"
      },
      "source": [
        "Além das bibliotecas ``Numpy``, ``Pandas`` e ``Matplotlib``, vamos utilizar ``keras`` de ``tensorflow``.\n"
      ]
    },
    {
      "cell_type": "code",
      "execution_count": 1,
      "metadata": {
        "colab": {
          "base_uri": "https://localhost:8080/"
        },
        "id": "gd2HmGfK6OGU",
        "outputId": "380f096f-f46e-44c2-857e-316007ac7fe8"
      },
      "outputs": [
        {
          "name": "stderr",
          "output_type": "stream",
          "text": [
            "2023-05-28 14:15:20.370545: I tensorflow/core/platform/cpu_feature_guard.cc:193] This TensorFlow binary is optimized with oneAPI Deep Neural Network Library (oneDNN) to use the following CPU instructions in performance-critical operations:  SSE4.1 SSE4.2 AVX AVX2 FMA\n",
            "To enable them in other operations, rebuild TensorFlow with the appropriate compiler flags.\n"
          ]
        },
        {
          "name": "stdout",
          "output_type": "stream",
          "text": [
            "Keras:2.11.0\n"
          ]
        }
      ],
      "source": [
        "import numpy as np\n",
        "import pandas as pd\n",
        "\n",
        "import matplotlib.pyplot as plt\n",
        "\n",
        "from tensorflow import keras\n",
        "\n",
        "print(f'Keras:{keras.__version__}')  # version"
      ]
    },
    {
      "attachments": {},
      "cell_type": "markdown",
      "metadata": {
        "id": "u3zExrfpg-3o"
      },
      "source": [
        "Criação do Modelo\n",
        "--\n",
        "\n",
        "Vamos criar um modelo simples com duas *hidden layers*. ``Sequential``é um modelo Keras composto de camadas empilhadas e conectadas sequencialmente entre si. \n",
        "\n",
        "> A primeira camada converte a entrada em um *array* 1D. No nosso caso deve receber o *shape* das imagens ($28 \\times 28$), discutidas mais adiante.\n",
        "\n",
        "> A próxima camada é uma camada densa com $300$ neurônios e uma função de ativação. Essa função de ativação <font color=\"#66ffff\">**ReLU**</font> (Rectified Linear Unit) é um *rectifier*. Foi apresentada por Kunihiko Fukushima (1969) no contexto de extração de *visual features* em NNs. Principalmente a partir de 2011 vem sendo amplamente utilizada no treinamento de NNs profundas em substituição às funções *sigmoid* e *hyperbolic tangent*. \n",
        "\n",
        "\n",
        "\\begin{align}\n",
        "  f(x) = x^+ = max(x, 0) = \\left\\{\n",
        "        \\begin{array}{cl}\n",
        "             x & x \\gt 0 \\\\\n",
        "             0 & otherwise             \n",
        "        \\end{array}\n",
        "        \\right.\n",
        "\\end{align}\n",
        "\n",
        "sendo $x$ o neurônio de entrada."
      ]
    },
    {
      "cell_type": "code",
      "execution_count": 2,
      "metadata": {
        "colab": {
          "base_uri": "https://localhost:8080/",
          "height": 291
        },
        "id": "M6sAex2mk6Wg",
        "outputId": "e22f962d-9095-4e12-8d8b-f43a01476076"
      },
      "outputs": [
        {
          "data": {
            "image/png": "[encoded data removed]",
            "text/plain": [
              "<Figure size 300x300 with 1 Axes>"
            ]
          },
          "metadata": {},
          "output_type": "display_data"
        }
      ],
      "source": [
        "def relu(x):\n",
        "    return np.maximum(0, x)\n",
        "\n",
        "x = np.linspace(start = -2, stop = 2, num = 41)\n",
        "\n",
        "fig = plt.figure(figsize=(3, 3))\n",
        "ax = plt.plot(x, relu(x), label='ReLU')\n",
        "\n",
        "plt.legend(loc='upper left')\n",
        "\n",
        "plt.show()"
      ]
    },
    {
      "attachments": {},
      "cell_type": "markdown",
      "metadata": {
        "id": "Dz-_1yyRmOqX"
      },
      "source": [
        "> A próxima camada também é uma densa com 100 neurônios e usa a função ReLU.\n",
        "\n",
        "> Finalmente a última camada também é uma camada densa com 10 neurônios (um por classe do nosso problema). Como as classes são exclusivas, está sendo definida a função de ativação *softmax*."
      ]
    },
    {
      "cell_type": "code",
      "execution_count": 3,
      "metadata": {
        "id": "Isa6bT9b6hd1"
      },
      "outputs": [
        {
          "name": "stderr",
          "output_type": "stream",
          "text": [
            "2023-05-28 14:15:26.538902: I tensorflow/core/platform/cpu_feature_guard.cc:193] This TensorFlow binary is optimized with oneAPI Deep Neural Network Library (oneDNN) to use the following CPU instructions in performance-critical operations:  SSE4.1 SSE4.2 AVX AVX2 FMA\n",
            "To enable them in other operations, rebuild TensorFlow with the appropriate compiler flags.\n"
          ]
        }
      ],
      "source": [
        "model = keras.models.Sequential([\n",
        "    keras.layers.Flatten(input_shape=[28, 28]),\n",
        "    keras.layers.Dense(300, activation=\"relu\"),\n",
        "    keras.layers.Dense(100, activation=\"relu\"),\n",
        "    keras.layers.Dense(10, activation=\"softmax\")\n",
        "])"
      ]
    },
    {
      "attachments": {},
      "cell_type": "markdown",
      "metadata": {
        "id": "Qjo_qFW054iB"
      },
      "source": [
        "> O método ``summary()`` do objeto ``model`` exibe as camadas definidas no modelo. ``None``indica que o parâmetro *batch size* pode ser qualquer."
      ]
    },
    {
      "cell_type": "code",
      "execution_count": 4,
      "metadata": {
        "colab": {
          "base_uri": "https://localhost:8080/"
        },
        "id": "G54ciX5G6vbf",
        "outputId": "79261247-32ca-4b1f-cdbd-9a88520a3979"
      },
      "outputs": [
        {
          "name": "stdout",
          "output_type": "stream",
          "text": [
            "Model: \"sequential\"\n",
            "_________________________________________________________________\n",
            " Layer (type)                Output Shape              Param #   \n",
            "=================================================================\n",
            " flatten (Flatten)           (None, 784)               0         \n",
            "                                                                 \n",
            " dense (Dense)               (None, 300)               235500    \n",
            "                                                                 \n",
            " dense_1 (Dense)             (None, 100)               30100     \n",
            "                                                                 \n",
            " dense_2 (Dense)             (None, 10)                1010      \n",
            "                                                                 \n",
            "=================================================================\n",
            "Total params: 266,610\n",
            "Trainable params: 266,610\n",
            "Non-trainable params: 0\n",
            "_________________________________________________________________\n",
            "None\n"
          ]
        }
      ],
      "source": [
        "print(model.summary())"
      ]
    },
    {
      "attachments": {},
      "cell_type": "markdown",
      "metadata": {
        "id": "7F7wa7zow6Si"
      },
      "source": [
        "As camadas do modelo podem ser acessadas individualmente."
      ]
    },
    {
      "cell_type": "code",
      "execution_count": 5,
      "metadata": {
        "colab": {
          "base_uri": "https://localhost:8080/"
        },
        "id": "AJUSzzKbxAwO",
        "outputId": "506b2fa5-774d-48e3-a7fc-748fab0f6c88"
      },
      "outputs": [
        {
          "name": "stdout",
          "output_type": "stream",
          "text": [
            "[<keras.layers.reshaping.flatten.Flatten object at 0x7fb0b03f43a0>, <keras.layers.core.dense.Dense object at 0x7fb0b03f4d00>, <keras.layers.core.dense.Dense object at 0x7fb0b03e2250>, <keras.layers.core.dense.Dense object at 0x7fb0b03e2100>]\n",
            "\n",
            "First hidden layer name:dense\n"
          ]
        }
      ],
      "source": [
        "print(model.layers)\n",
        "\n",
        "hidden1 = model.layers[1]  # first hidden layer\n",
        "\n",
        "print(f'\\nFirst hidden layer name:{hidden1.name}')"
      ]
    },
    {
      "attachments": {},
      "cell_type": "markdown",
      "metadata": {
        "id": "G5n2BaXAxvBO"
      },
      "source": [
        "E os parâmetros de uma camada pode ser obtidos com ``get_weights``.\n",
        "\n",
        "Perceba os pesos (``weights``) inicializados randomicamente e os termos bias com zero."
      ]
    },
    {
      "cell_type": "code",
      "execution_count": 6,
      "metadata": {
        "colab": {
          "base_uri": "https://localhost:8080/"
        },
        "id": "ubIj4TtAx45d",
        "outputId": "edbc7c1b-f341-4519-894a-295c79fe0551"
      },
      "outputs": [
        {
          "name": "stdout",
          "output_type": "stream",
          "text": [
            "Layer weights shape:\n",
            "(784, 300)\n",
            "\n",
            "Layer weights:\n",
            "[[-0.05949122  0.05628204  0.04647162 ...  0.06621082 -0.01828483\n",
            "  -0.04883857]\n",
            " [-0.05111328 -0.01146158  0.01668871 ... -0.06685057  0.00203086\n",
            "   0.03071825]\n",
            " [ 0.01296921 -0.07395821  0.01117511 ...  0.01675224 -0.025971\n",
            "  -0.03308624]\n",
            " ...\n",
            " [-0.05966388  0.0700316  -0.05779108 ... -0.03364218 -0.06110691\n",
            "  -0.00321479]\n",
            " [ 0.05456896 -0.01161324  0.06436855 ...  0.04700869  0.00291428\n",
            "   0.03283108]\n",
            " [ 0.03777973  0.00152446  0.02273443 ... -0.07327282  0.04587371\n",
            "  -0.02849826]]\n",
            "\n",
            "Layer biases shape:\n",
            "(300,)\n",
            "\n",
            "Biases:\n",
            "[0. 0. 0. 0. 0. 0. 0. 0. 0. 0. 0. 0. 0. 0. 0. 0. 0. 0. 0. 0. 0. 0. 0. 0.\n",
            " 0. 0. 0. 0. 0. 0. 0. 0. 0. 0. 0. 0. 0. 0. 0. 0. 0. 0. 0. 0. 0. 0. 0. 0.\n",
            " 0. 0. 0. 0. 0. 0. 0. 0. 0. 0. 0. 0. 0. 0. 0. 0. 0. 0. 0. 0. 0. 0. 0. 0.\n",
            " 0. 0. 0. 0. 0. 0. 0. 0. 0. 0. 0. 0. 0. 0. 0. 0. 0. 0. 0. 0. 0. 0. 0. 0.\n",
            " 0. 0. 0. 0. 0. 0. 0. 0. 0. 0. 0. 0. 0. 0. 0. 0. 0. 0. 0. 0. 0. 0. 0. 0.\n",
            " 0. 0. 0. 0. 0. 0. 0. 0. 0. 0. 0. 0. 0. 0. 0. 0. 0. 0. 0. 0. 0. 0. 0. 0.\n",
            " 0. 0. 0. 0. 0. 0. 0. 0. 0. 0. 0. 0. 0. 0. 0. 0. 0. 0. 0. 0. 0. 0. 0. 0.\n",
            " 0. 0. 0. 0. 0. 0. 0. 0. 0. 0. 0. 0. 0. 0. 0. 0. 0. 0. 0. 0. 0. 0. 0. 0.\n",
            " 0. 0. 0. 0. 0. 0. 0. 0. 0. 0. 0. 0. 0. 0. 0. 0. 0. 0. 0. 0. 0. 0. 0. 0.\n",
            " 0. 0. 0. 0. 0. 0. 0. 0. 0. 0. 0. 0. 0. 0. 0. 0. 0. 0. 0. 0. 0. 0. 0. 0.\n",
            " 0. 0. 0. 0. 0. 0. 0. 0. 0. 0. 0. 0. 0. 0. 0. 0. 0. 0. 0. 0. 0. 0. 0. 0.\n",
            " 0. 0. 0. 0. 0. 0. 0. 0. 0. 0. 0. 0. 0. 0. 0. 0. 0. 0. 0. 0. 0. 0. 0. 0.\n",
            " 0. 0. 0. 0. 0. 0. 0. 0. 0. 0. 0. 0.]\n"
          ]
        }
      ],
      "source": [
        "weights, biases = hidden1.get_weights()\n",
        "\n",
        "print(f'Layer weights shape:\\n{weights.shape}')\n",
        "print(f'\\nLayer weights:\\n{weights}')\n",
        "\n",
        "print(f'\\nLayer biases shape:\\n{biases.shape}')\n",
        "print(f'\\nBiases:\\n{biases}')"
      ]
    },
    {
      "attachments": {},
      "cell_type": "markdown",
      "metadata": {
        "id": "7UH27Gg0ug7N"
      },
      "source": [
        "---\n",
        "\n",
        "> 💡 **Nota**:\n",
        "É  importante destacar que as camadas densas possuem muitos parâmetros. Vejamos o caso da primeira *hidden layer*: são $784 \\times 300$ pesos mais $300$ termos bias, ou seja, 235 500 parâmetros! 🙀 Essa quantidade enorme de parâmetros permite ao modelo ajustar-se de forma flexível aos dados de entrada, mas pode gerar *overfitting*, principalmente quando a quantidade de instâncias de treinamento é insuficiente.\n",
        "\n",
        "---"
      ]
    },
    {
      "attachments": {},
      "cell_type": "markdown",
      "metadata": {
        "id": "kMBIUqNeiPeP"
      },
      "source": [
        "Importação de um *Dataset* e Análise Exploratória\n",
        "--\n",
        "\n",
        "Vamos usar o *dataset* <font color=\"#ff9900\">**Fashion MNIST** </font> (https://github.com/zalandoresearch/fashion-mnist) que é uma coleção de 70.000 imagens em escala de cinza de itens de vestuário, cada uma com tamanho de $28 \\times 28$ pixels. Foi projetado como um substituto do conjunto de dados MNIST (http://yann.lecun.com/exdb/mnist/) mais tradicional, que contém dígitos manuscritos. Os itens de vestuário Fashion MNIST incluem itens como camisetas, calças, vestidos, tênis e sandálias, entre outros. É um *dataset* mais desafiador do que o MNIST original, pois contém imagens mais complexas e variadas. Também é mais relevante para aplicações do mundo real, pois imita de perto o tipo de imagens que são comumente encontradas em aplicativos de comércio eletrônico e *sites* de compras *on-line*.\n",
        "\n"
      ]
    },
    {
      "cell_type": "code",
      "execution_count": 7,
      "metadata": {
        "id": "1FIQBQOI7CjG"
      },
      "outputs": [],
      "source": [
        "fashion_mnist = keras.datasets.fashion_mnist"
      ]
    },
    {
      "cell_type": "code",
      "execution_count": 8,
      "metadata": {
        "colab": {
          "base_uri": "https://localhost:8080/"
        },
        "id": "PA_GWO7TkIvN",
        "outputId": "c72e85fb-33cf-495a-9a91-f4a18e79a7b8"
      },
      "outputs": [],
      "source": [
        "(X_train_full, y_train_full), (X_test, y_test) = fashion_mnist.load_data()"
      ]
    },
    {
      "attachments": {},
      "cell_type": "markdown",
      "metadata": {
        "id": "T58D2RgPnLNS"
      },
      "source": [
        "Carregada a base, vamos investigar o conteúdo. Cada imagem é representada como um *array* $28 \\times 28$, sendo cada intensidade na faixa $0-255$ ao invés de floats."
      ]
    },
    {
      "cell_type": "code",
      "execution_count": 9,
      "metadata": {
        "colab": {
          "base_uri": "https://localhost:8080/"
        },
        "id": "T9dCTe1HnMFD",
        "outputId": "2edcd825-d98c-43ed-b827-eb676dccfc04"
      },
      "outputs": [
        {
          "name": "stdout",
          "output_type": "stream",
          "text": [
            "Dataset shape:(60000, 28, 28)\n",
            "First instance shape:(28, 28)\n",
            "\n",
            "First instance:\n",
            " [[  0   0   0   0   0   0   0   0   0   0   0   0   0   0   0   0   0   0\n",
            "    0   0   0   0   0   0   0   0   0   0]\n",
            " [  0   0   0   0   0   0   0   0   0   0   0   0   0   0   0   0   0   0\n",
            "    0   0   0   0   0   0   0   0   0   0]\n",
            " [  0   0   0   0   0   0   0   0   0   0   0   0   0   0   0   0   0   0\n",
            "    0   0   0   0   0   0   0   0   0   0]\n",
            " [  0   0   0   0   0   0   0   0   0   0   0   0   1   0   0  13  73   0\n",
            "    0   1   4   0   0   0   0   1   1   0]\n",
            " [  0   0   0   0   0   0   0   0   0   0   0   0   3   0  36 136 127  62\n",
            "   54   0   0   0   1   3   4   0   0   3]\n",
            " [  0   0   0   0   0   0   0   0   0   0   0   0   6   0 102 204 176 134\n",
            "  144 123  23   0   0   0   0  12  10   0]\n",
            " [  0   0   0   0   0   0   0   0   0   0   0   0   0   0 155 236 207 178\n",
            "  107 156 161 109  64  23  77 130  72  15]\n",
            " [  0   0   0   0   0   0   0   0   0   0   0   1   0  69 207 223 218 216\n",
            "  216 163 127 121 122 146 141  88 172  66]\n",
            " [  0   0   0   0   0   0   0   0   0   1   1   1   0 200 232 232 233 229\n",
            "  223 223 215 213 164 127 123 196 229   0]\n",
            " [  0   0   0   0   0   0   0   0   0   0   0   0   0 183 225 216 223 228\n",
            "  235 227 224 222 224 221 223 245 173   0]\n",
            " [  0   0   0   0   0   0   0   0   0   0   0   0   0 193 228 218 213 198\n",
            "  180 212 210 211 213 223 220 243 202   0]\n",
            " [  0   0   0   0   0   0   0   0   0   1   3   0  12 219 220 212 218 192\n",
            "  169 227 208 218 224 212 226 197 209  52]\n",
            " [  0   0   0   0   0   0   0   0   0   0   6   0  99 244 222 220 218 203\n",
            "  198 221 215 213 222 220 245 119 167  56]\n",
            " [  0   0   0   0   0   0   0   0   0   4   0   0  55 236 228 230 228 240\n",
            "  232 213 218 223 234 217 217 209  92   0]\n",
            " [  0   0   1   4   6   7   2   0   0   0   0   0 237 226 217 223 222 219\n",
            "  222 221 216 223 229 215 218 255  77   0]\n",
            " [  0   3   0   0   0   0   0   0   0  62 145 204 228 207 213 221 218 208\n",
            "  211 218 224 223 219 215 224 244 159   0]\n",
            " [  0   0   0   0  18  44  82 107 189 228 220 222 217 226 200 205 211 230\n",
            "  224 234 176 188 250 248 233 238 215   0]\n",
            " [  0  57 187 208 224 221 224 208 204 214 208 209 200 159 245 193 206 223\n",
            "  255 255 221 234 221 211 220 232 246   0]\n",
            " [  3 202 228 224 221 211 211 214 205 205 205 220 240  80 150 255 229 221\n",
            "  188 154 191 210 204 209 222 228 225   0]\n",
            " [ 98 233 198 210 222 229 229 234 249 220 194 215 217 241  65  73 106 117\n",
            "  168 219 221 215 217 223 223 224 229  29]\n",
            " [ 75 204 212 204 193 205 211 225 216 185 197 206 198 213 240 195 227 245\n",
            "  239 223 218 212 209 222 220 221 230  67]\n",
            " [ 48 203 183 194 213 197 185 190 194 192 202 214 219 221 220 236 225 216\n",
            "  199 206 186 181 177 172 181 205 206 115]\n",
            " [  0 122 219 193 179 171 183 196 204 210 213 207 211 210 200 196 194 191\n",
            "  195 191 198 192 176 156 167 177 210  92]\n",
            " [  0   0  74 189 212 191 175 172 175 181 185 188 189 188 193 198 204 209\n",
            "  210 210 211 188 188 194 192 216 170   0]\n",
            " [  2   0   0   0  66 200 222 237 239 242 246 243 244 221 220 193 191 179\n",
            "  182 182 181 176 166 168  99  58   0   0]\n",
            " [  0   0   0   0   0   0   0  40  61  44  72  41  35   0   0   0   0   0\n",
            "    0   0   0   0   0   0   0   0   0   0]\n",
            " [  0   0   0   0   0   0   0   0   0   0   0   0   0   0   0   0   0   0\n",
            "    0   0   0   0   0   0   0   0   0   0]\n",
            " [  0   0   0   0   0   0   0   0   0   0   0   0   0   0   0   0   0   0\n",
            "    0   0   0   0   0   0   0   0   0   0]]\n"
          ]
        }
      ],
      "source": [
        "print(f'Dataset shape:{X_train_full.shape}')\n",
        "\n",
        "print(f'First instance shape:{X_train_full[0].shape}')\n",
        "print(f'\\nFirst instance:\\n {X_train_full[0]}')"
      ]
    },
    {
      "attachments": {},
      "cell_type": "markdown",
      "metadata": {
        "id": "GlgX-MKZFs38"
      },
      "source": [
        "Mas o que é esse *array*? 🤔\n",
        "Vamos exibi-lo como uma imagem usando ``plt.imshow``.\n"
      ]
    },
    {
      "cell_type": "code",
      "execution_count": 10,
      "metadata": {
        "colab": {
          "base_uri": "https://localhost:8080/",
          "height": 430
        },
        "id": "LmG_IpgsFPLZ",
        "outputId": "d906a695-7fb4-4cb8-d47c-9b02d79bb945"
      },
      "outputs": [
        {
          "data": {
            "image/png": "[encoded data removed]",
            "text/plain": [
              "<Figure size 640x480 with 1 Axes>"
            ]
          },
          "metadata": {},
          "output_type": "display_data"
        }
      ],
      "source": [
        "fig = plt.imshow(X_train_full[0], cmap=plt.cm.gray)\n",
        "plt.show()"
      ]
    },
    {
      "attachments": {},
      "cell_type": "markdown",
      "metadata": {
        "id": "cKciEqBenEWM"
      },
      "source": [
        "Super! Parece um tipo de calçado, *ankle boot*. 👢\n",
        "\n",
        "Felizmente temos o rótulo de cada imagem (instância). Vamos mapear o códigos das rótulos para os nomes das classes. Veja em https://github.com/zalandoresearch/fashion-mnist."
      ]
    },
    {
      "cell_type": "code",
      "execution_count": 11,
      "metadata": {
        "id": "44wISqmTm6Fx"
      },
      "outputs": [],
      "source": [
        "class_names = ['T-shirt/top', 'Trouser', 'Pullover', 'Dress', 'Coat',\n",
        "               'Sandal', 'Shirt', 'Sneaker', 'Bag', 'Ankle boot']"
      ]
    },
    {
      "attachments": {},
      "cell_type": "markdown",
      "metadata": {
        "id": "NW05UrH4l8i8"
      },
      "source": [
        "Vamos exibir algumas instâncias. Lembrando que os códigos dos rótulos estão em ``y_train_full``."
      ]
    },
    {
      "cell_type": "code",
      "execution_count": 12,
      "metadata": {
        "colab": {
          "base_uri": "https://localhost:8080/"
        },
        "id": "PKcWaeqQHm_3",
        "outputId": "78f8701f-1424-44dd-a936-8892a6edaee0"
      },
      "outputs": [
        {
          "name": "stdout",
          "output_type": "stream",
          "text": [
            "Class name of first instance: Ankle boot\n"
          ]
        }
      ],
      "source": [
        "print(f'Class name of first instance: {class_names[y_train_full[0]]}')"
      ]
    },
    {
      "attachments": {},
      "cell_type": "markdown",
      "metadata": {
        "id": "tB_wKQMtHyS_"
      },
      "source": [
        "Com isso vamos gerar uma grade para visualizar as 25 primeiras instâncias do dataset ``X_train_full``."
      ]
    },
    {
      "cell_type": "code",
      "execution_count": 13,
      "metadata": {
        "colab": {
          "base_uri": "https://localhost:8080/",
          "height": 595
        },
        "id": "350BaP8xk6PY",
        "outputId": "520c459f-03b3-4f56-a9b4-68ae57637c83"
      },
      "outputs": [
        {
          "data": {
            "image/png": "[encoded data removed]",
            "text/plain": [
              "<Figure size 700x700 with 25 Axes>"
            ]
          },
          "metadata": {},
          "output_type": "display_data"
        }
      ],
      "source": [
        "# import matplotlib.colors as mcolors\n",
        "\n",
        "plt.rc('axes',edgecolor='lavender')\n",
        "\n",
        "fig = plt.figure(figsize=(7, 7))\n",
        "\n",
        "for i in range(25):  # First 25 instances\n",
        "    plt.subplot(5, 5, i + 1)\n",
        "    \n",
        "    plt.xticks([])\n",
        "    plt.yticks([])\n",
        "    plt.grid(False)\n",
        "\n",
        "    plt.imshow(X_train_full[i], cmap=plt.cm.binary)\n",
        "    plt.xlabel(class_names[y_train_full[i]], color='steelblue')\n",
        "\n",
        "plt.show()"
      ]
    },
    {
      "attachments": {},
      "cell_type": "markdown",
      "metadata": {
        "id": "6iCPr67FIcaY"
      },
      "source": [
        "Veja que o *dataset* já veio dividido em treinamento e teste. Mas, vamos criar um conjunto adicional de validação, ``X_valid``, e o respectivo conjunto de *labels* ``y_valid``.\n",
        "\n",
        "E como estamos utilizando uma NN com o algoritmo de treinamento Gradient Descent (GD) devemos normalizar as *features*. Aqui vamos colocar os pixels na escala $0-1$."
      ]
    },
    {
      "cell_type": "code",
      "execution_count": 14,
      "metadata": {
        "id": "HyQIrU9X7guS"
      },
      "outputs": [],
      "source": [
        "X_valid, X_train = X_train_full[:5000] / 255.0, X_train_full[5000:] / 255.0\n",
        "y_valid, y_train = y_train_full[:5000], y_train_full[5000:]"
      ]
    },
    {
      "attachments": {},
      "cell_type": "markdown",
      "metadata": {
        "id": "IqbiqDEjXZCl"
      },
      "source": [
        "Compilação\n",
        "--\n",
        "\n",
        "Antes do modelo ser treinado ele precisa ser compilado através do método ``compile``. Nesse momento especificamos qual será a função *loss* e qual otimizador. Opcinalmente podemos fornecer quais métricas de avaliação desejamos calcular durante o processo de treinamento, como por exemplo ``accuracy``.\n",
        "\n",
        "> A função ``sparse_categorical_crossentropy`` é usada para classes mutuamente exclusivas, i.e., cada instância pertence exatamente a uma classe. No nosso caso, índices exclusivos na faixa de 0 a 9.\n",
        "\n",
        "> Nosso otimizador será Stochastic Gradient Descent (``sgd``). O default do *learning rate* é $0.01$. Assim, opcionalmente pode-ser usar em ``compile`` ``optimizer=keras.optimizers.SGD(lr=eta)``fornecendo em ``eta``o valor de *learning rate* desejado. \n",
        "\n",
        "> Finalmente, em geral, desejamos saber a acurácia do nosso moelo classificador. Assim setamos ``metrics`` para ``accuracy``. \n",
        "\n",
        "\n",
        "Depois de compilado nosso modelo está pronto para ser treinado."
      ]
    },
    {
      "cell_type": "code",
      "execution_count": 15,
      "metadata": {
        "id": "tf7XdLSr7HGf"
      },
      "outputs": [],
      "source": [
        "model.compile(loss=\"sparse_categorical_crossentropy\",\n",
        "              optimizer=\"sgd\",\n",
        "              metrics=[\"accuracy\"])"
      ]
    },
    {
      "attachments": {},
      "cell_type": "markdown",
      "metadata": {
        "id": "-xeUA7e3__yu"
      },
      "source": [
        "Treinamento\n",
        "--\n",
        "\n",
        "Para efetuar o treinamento basta chamar o método ``fit``, especificando o conjunto de treinamento ``X_train``, os respectivos labels ``y_train``, o número de épocas, aqui 30, e os conjuntos de validação. A validação é opcional."
      ]
    },
    {
      "cell_type": "code",
      "execution_count": 16,
      "metadata": {
        "colab": {
          "base_uri": "https://localhost:8080/"
        },
        "id": "tZE360po7RoO",
        "outputId": "b7bb3c56-3d50-413a-b160-31bc255459e8"
      },
      "outputs": [
        {
          "name": "stdout",
          "output_type": "stream",
          "text": [
            "Epoch 1/30\n",
            "1719/1719 [==============================] - 5s 3ms/step - loss: 0.7121 - accuracy: 0.7655 - val_loss: 0.4933 - val_accuracy: 0.8374\n",
            "Epoch 2/30\n",
            "1719/1719 [==============================] - 5s 3ms/step - loss: 0.4850 - accuracy: 0.8301 - val_loss: 0.4322 - val_accuracy: 0.8542\n",
            "Epoch 3/30\n",
            "1719/1719 [==============================] - 5s 3ms/step - loss: 0.4396 - accuracy: 0.8441 - val_loss: 0.4136 - val_accuracy: 0.8614\n",
            "Epoch 4/30\n",
            "1719/1719 [==============================] - 5s 3ms/step - loss: 0.4111 - accuracy: 0.8555 - val_loss: 0.4060 - val_accuracy: 0.8616\n",
            "Epoch 5/30\n",
            "1719/1719 [==============================] - 5s 3ms/step - loss: 0.3926 - accuracy: 0.8611 - val_loss: 0.3754 - val_accuracy: 0.8722\n",
            "Epoch 6/30\n",
            "1719/1719 [==============================] - 5s 3ms/step - loss: 0.3763 - accuracy: 0.8674 - val_loss: 0.3700 - val_accuracy: 0.8704\n",
            "Epoch 7/30\n",
            "1719/1719 [==============================] - 5s 3ms/step - loss: 0.3640 - accuracy: 0.8713 - val_loss: 0.3558 - val_accuracy: 0.8754\n",
            "Epoch 8/30\n",
            "1719/1719 [==============================] - 5s 3ms/step - loss: 0.3524 - accuracy: 0.8765 - val_loss: 0.3540 - val_accuracy: 0.8778\n",
            "Epoch 9/30\n",
            "1719/1719 [==============================] - 5s 3ms/step - loss: 0.3421 - accuracy: 0.8778 - val_loss: 0.3769 - val_accuracy: 0.8662\n",
            "Epoch 10/30\n",
            "1719/1719 [==============================] - 5s 3ms/step - loss: 0.3337 - accuracy: 0.8804 - val_loss: 0.3612 - val_accuracy: 0.8734\n",
            "Epoch 11/30\n",
            "1719/1719 [==============================] - 6s 3ms/step - loss: 0.3247 - accuracy: 0.8839 - val_loss: 0.3289 - val_accuracy: 0.8840\n",
            "Epoch 12/30\n",
            "1719/1719 [==============================] - 5s 3ms/step - loss: 0.3172 - accuracy: 0.8853 - val_loss: 0.3403 - val_accuracy: 0.8776\n",
            "Epoch 13/30\n",
            "1719/1719 [==============================] - 5s 3ms/step - loss: 0.3106 - accuracy: 0.8885 - val_loss: 0.3334 - val_accuracy: 0.8822\n",
            "Epoch 14/30\n",
            "1719/1719 [==============================] - 5s 3ms/step - loss: 0.3036 - accuracy: 0.8892 - val_loss: 0.3393 - val_accuracy: 0.8768\n",
            "Epoch 15/30\n",
            "1719/1719 [==============================] - 5s 3ms/step - loss: 0.2972 - accuracy: 0.8931 - val_loss: 0.3265 - val_accuracy: 0.8806\n",
            "Epoch 16/30\n",
            "1719/1719 [==============================] - 5s 3ms/step - loss: 0.2917 - accuracy: 0.8946 - val_loss: 0.3306 - val_accuracy: 0.8768\n",
            "Epoch 17/30\n",
            "1719/1719 [==============================] - 5s 3ms/step - loss: 0.2858 - accuracy: 0.8963 - val_loss: 0.3429 - val_accuracy: 0.8756\n",
            "Epoch 18/30\n",
            "1719/1719 [==============================] - 5s 3ms/step - loss: 0.2807 - accuracy: 0.8983 - val_loss: 0.3099 - val_accuracy: 0.8882\n",
            "Epoch 19/30\n",
            "1719/1719 [==============================] - 5s 3ms/step - loss: 0.2756 - accuracy: 0.9004 - val_loss: 0.3104 - val_accuracy: 0.8882\n",
            "Epoch 20/30\n",
            "1719/1719 [==============================] - 5s 3ms/step - loss: 0.2701 - accuracy: 0.9021 - val_loss: 0.3236 - val_accuracy: 0.8826\n",
            "Epoch 21/30\n",
            "1719/1719 [==============================] - 5s 3ms/step - loss: 0.2646 - accuracy: 0.9040 - val_loss: 0.3128 - val_accuracy: 0.8874\n",
            "Epoch 22/30\n",
            "1719/1719 [==============================] - 5s 3ms/step - loss: 0.2610 - accuracy: 0.9048 - val_loss: 0.3047 - val_accuracy: 0.8940\n",
            "Epoch 23/30\n",
            "1719/1719 [==============================] - 5s 3ms/step - loss: 0.2560 - accuracy: 0.9060 - val_loss: 0.3068 - val_accuracy: 0.8868\n",
            "Epoch 24/30\n",
            "1719/1719 [==============================] - 5s 3ms/step - loss: 0.2518 - accuracy: 0.9086 - val_loss: 0.2919 - val_accuracy: 0.8928\n",
            "Epoch 25/30\n",
            "1719/1719 [==============================] - 5s 3ms/step - loss: 0.2476 - accuracy: 0.9091 - val_loss: 0.2982 - val_accuracy: 0.8914\n",
            "Epoch 26/30\n",
            "1719/1719 [==============================] - 5s 3ms/step - loss: 0.2431 - accuracy: 0.9125 - val_loss: 0.3243 - val_accuracy: 0.8872\n",
            "Epoch 27/30\n",
            "1719/1719 [==============================] - 5s 3ms/step - loss: 0.2397 - accuracy: 0.9130 - val_loss: 0.2945 - val_accuracy: 0.8922\n",
            "Epoch 28/30\n",
            "1719/1719 [==============================] - 5s 3ms/step - loss: 0.2361 - accuracy: 0.9144 - val_loss: 0.2962 - val_accuracy: 0.8954\n",
            "Epoch 29/30\n",
            "1719/1719 [==============================] - 5s 3ms/step - loss: 0.2317 - accuracy: 0.9169 - val_loss: 0.3018 - val_accuracy: 0.8948\n",
            "Epoch 30/30\n",
            "1719/1719 [==============================] - 5s 3ms/step - loss: 0.2276 - accuracy: 0.9186 - val_loss: 0.3003 - val_accuracy: 0.8880\n"
          ]
        }
      ],
      "source": [
        "history = model.fit(X_train, y_train, epochs=30,\n",
        "                    validation_data=(X_valid, y_valid))"
      ]
    },
    {
      "attachments": {},
      "cell_type": "markdown",
      "metadata": {
        "id": "WtURaIVSAMTd"
      },
      "source": [
        "> Avaliação do Treinamento"
      ]
    },
    {
      "cell_type": "code",
      "execution_count": 17,
      "metadata": {
        "colab": {
          "base_uri": "https://localhost:8080/",
          "height": 451
        },
        "id": "CKjLS0pf85bW",
        "outputId": "e411906a-d0c0-4bdc-bb67-16a58167fc8f"
      },
      "outputs": [
        {
          "data": {
            "image/png": "[encoded data removed]",
            "text/plain": [
              "<Figure size 800x500 with 1 Axes>"
            ]
          },
          "metadata": {},
          "output_type": "display_data"
        }
      ],
      "source": [
        "pd.DataFrame(history.history).plot(figsize=(8, 5))\n",
        "plt.grid(True)\n",
        "plt.gca().set_ylim(0, 1) # set the vertical range to [0-1]\n",
        "\n",
        "plt.show()"
      ]
    },
    {
      "cell_type": "code",
      "execution_count": 18,
      "metadata": {
        "colab": {
          "base_uri": "https://localhost:8080/"
        },
        "id": "xP-GvvbYbs6c",
        "outputId": "8b3f0e16-e035-4216-f088-470461462b53"
      },
      "outputs": [
        {
          "name": "stdout",
          "output_type": "stream",
          "text": [
            "313/313 [==============================] - 1s 2ms/step - loss: 53.9415 - accuracy: 0.8606\n"
          ]
        },
        {
          "data": {
            "text/plain": [
              "[53.941532135009766, 0.8605999946594238]"
            ]
          },
          "execution_count": 18,
          "metadata": {},
          "output_type": "execute_result"
        }
      ],
      "source": [
        "model.evaluate(X_test, y_test)"
      ]
    },
    {
      "attachments": {},
      "cell_type": "markdown",
      "metadata": {
        "id": "418B5LUgBfVG"
      },
      "source": [
        "Conseguimos $84\\%$ no treinamento!😹🥳"
      ]
    },
    {
      "attachments": {},
      "cell_type": "markdown",
      "metadata": {
        "id": "TBNfkvMI3emj"
      },
      "source": [
        "Classificação\n",
        "--\n",
        "\n",
        "Uma vez treinado o modelo podemos fazer predições com o método ``predict``.\n",
        "\n",
        "Vamos ver como o modelo se comporta com as dez primeiras instâncias."
      ]
    },
    {
      "cell_type": "code",
      "execution_count": 19,
      "metadata": {
        "colab": {
          "base_uri": "https://localhost:8080/"
        },
        "id": "Eq8QhSYC33kX",
        "outputId": "70b1e387-99e0-43c9-f5d2-968bd8739b06"
      },
      "outputs": [
        {
          "name": "stdout",
          "output_type": "stream",
          "text": [
            "1/1 [==============================] - 0s 101ms/step\n",
            "Probability scores:\n",
            " [[0. 0. 0. 0. 0. 0. 0. 0. 0. 1.]\n",
            " [0. 0. 1. 0. 0. 0. 0. 0. 0. 0.]\n",
            " [0. 1. 0. 0. 0. 0. 0. 0. 0. 0.]\n",
            " [0. 1. 0. 0. 0. 0. 0. 0. 0. 0.]\n",
            " [0. 0. 0. 0. 0. 0. 1. 0. 0. 0.]\n",
            " [0. 1. 0. 0. 0. 0. 0. 0. 0. 0.]\n",
            " [0. 0. 0. 0. 1. 0. 0. 0. 0. 0.]\n",
            " [0. 0. 0. 0. 0. 0. 1. 0. 0. 0.]\n",
            " [0. 0. 0. 0. 0. 1. 0. 0. 0. 0.]\n",
            " [0. 0. 0. 0. 0. 0. 0. 1. 0. 0.]]\n"
          ]
        }
      ],
      "source": [
        "X_new = X_test[:10]\n",
        "y_proba = model.predict(X_new)\n",
        "\n",
        "print(f'Probability scores:\\n {y_proba.round(2)}')\n"
      ]
    },
    {
      "attachments": {},
      "cell_type": "markdown",
      "metadata": {
        "id": "ILqUHzis6_zP"
      },
      "source": [
        "O modelo estima uma probabilidade por classe.\n",
        "Mas quais são essas classes."
      ]
    },
    {
      "cell_type": "code",
      "execution_count": 20,
      "metadata": {
        "colab": {
          "base_uri": "https://localhost:8080/"
        },
        "id": "V1sKl2QE7C_d",
        "outputId": "2a610efe-01c7-4c20-a3d3-f2217794bf81"
      },
      "outputs": [
        {
          "name": "stdout",
          "output_type": "stream",
          "text": [
            "[9 2 1 1 6 1 4 6 5 7]\n",
            "Predicted classes:\n",
            " ['Ankle boot' 'Pullover' 'Trouser' 'Trouser' 'Shirt' 'Trouser' 'Coat'\n",
            " 'Shirt' 'Sandal' 'Sneaker']\n"
          ]
        }
      ],
      "source": [
        "classes_y = np.argmax(y_proba, axis=1)\n",
        "\n",
        "print(classes_y)\n",
        "\n",
        "print(f'Predicted classes:\\n {np.array(class_names)[classes_y]}')"
      ]
    },
    {
      "cell_type": "code",
      "execution_count": 21,
      "metadata": {
        "colab": {
          "base_uri": "https://localhost:8080/",
          "height": 444
        },
        "id": "46NGBZw586my",
        "outputId": "98139dc0-fd14-4bf7-dac6-1b33053bd79e"
      },
      "outputs": [
        {
          "data": {
            "image/png": "[encoded data removed]",
            "text/plain": [
              "<Figure size 700x700 with 10 Axes>"
            ]
          },
          "metadata": {},
          "output_type": "display_data"
        }
      ],
      "source": [
        "plt.rc('axes',edgecolor='lavender')\n",
        "\n",
        "fig = plt.figure(figsize=(7, 7))\n",
        "\n",
        "for i in range(10):  # First 25 instances\n",
        "    plt.subplot(2, 5, i + 1)\n",
        "    \n",
        "    plt.xticks([])\n",
        "    plt.yticks([])\n",
        "    plt.grid(False)\n",
        "\n",
        "    plt.imshow(X_new[i], cmap=plt.cm.binary)\n",
        "    plt.xlabel(class_names[classes_y[i]], color='steelblue')\n",
        "\n",
        "plt.show()"
      ]
    },
    {
      "attachments": {},
      "cell_type": "markdown",
      "metadata": {
        "id": "DUbVgf0l9lGi"
      },
      "source": [
        "*Les carottes sont cuites!* 🥕🥕🥕 "
      ]
    },
    {
      "attachments": {},
      "cell_type": "markdown",
      "metadata": {
        "id": "fZXq5HQm31F1"
      },
      "source": [
        "---\n",
        "<font color=\"#ffb31a\">Fabio Alexandre **SPANHOL**</font> <faspanhol@gmail.com>\n",
        "\n",
        "<font color=\"#cccccc\">*Updated: May 10th 2023*</font>"
      ]
    }
  ],
  "metadata": {
    "accelerator": "GPU",
    "colab": {
      "gpuType": "T4",
      "provenance": []
    },
    "gpuClass": "standard",
    "kernelspec": {
      "display_name": "Python 3",
      "name": "python3"
    },
    "language_info": {
      "codemirror_mode": {
        "name": "ipython",
        "version": 3
      },
      "file_extension": ".py",
      "mimetype": "text/x-python",
      "name": "python",
      "nbconvert_exporter": "python",
      "pygments_lexer": "ipython3",
      "version": "3.8.16"
    }
  },
  "nbformat": 4,
  "nbformat_minor": 0
}
