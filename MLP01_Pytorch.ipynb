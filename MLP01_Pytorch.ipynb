{
 "cells": [
  {
   "cell_type": "markdown",
   "metadata": {
    "id": "veJFpmPDU_8_"
   },
   "source": [
    "# <font color=\"#ff9900\"> **MLP**</font>\n",
    "---\n",
    "\n",
    "Um <font color=\"#66ffff\">**Perceptron Multicamadas (Multilayer Perceptron - MLP)**</font> é uma classe de rede neural artificial *feedforward*. Um MLP consiste em pelo menos três camadas de nodos: uma camada de entrada (*input*), uma camada oculta (*hidden*) e uma camada de saída (*output*). Com exceção dos nodos de entrada, cada nodo é um neurônio que usa uma **função de ativação não-linear**. MLP utiliza uma técnica de aprendizado supervisionado chamada *backpropagation* para o treinamento. Suas múltiplas camadas e ativação não-linear distinguem MLP de um Perceptron, que é convencionalmente linear. \n",
    "\n",
    "Assim, o MLP pode distinguir dados que não são linearmente separáveis. É aplicável a problemas de regressão e classificação.\n",
    "\n",
    "\n",
    "---\n",
    "\n",
    "> 💡 **Observação**: Para executar a célula de código (aquelas marcadas com `` []``), posicione dentro dela e pressione ``Ctrl``+``Enter``. Deve-se respeitar a **sequência** de execução das células.\n",
    "\n",
    "---"
   ]
  },
  {
   "cell_type": "markdown",
   "metadata": {
    "id": "4xwQ-P0MQIk9"
   },
   "source": [
    "Importação das Bibliotecas\n",
    "--\n",
    "\n",
    "Além das bibliotecas ``Numpy``, ``Pandas`` e ``Matplotlib``, vamos utilizar ``Pytorch``.\n",
    "\n",
    "\n",
    "PyTorch (https://pytorch.org/) é um *framework open source* para aprendizado de máquina usado para construir e treinar redes neurais artificiais. Desenvolvido pela equipe de pesquisa de IA do Facebook, PyTorch é conhecido por sua flexibilidade e facilidade de uso, tornando-se uma escolha muito popular entre pesquisadores e profissionais na comunidade de *deep learning*.\n",
    "\n",
    "Oferece um grafo computacional dinâmico, o que permite iterações mais rápidas e depuração mais intuitiva em comparação com grafos estáticos usados por outros frameworks populares, como ``TensorFlow``. Assim, com PyTorch é possível definir e modificar a arquitetura de NN durante o treinamento, tornando mais fácil experimentar diferentes arquiteturas de modelo e hiperparâmetros.\n",
    "\n",
    "PyTorch também fornece uma ampla gama de ferramentas e utilitários para carregamento de dados, pré-processamento e visualização, tornando-o uma ferramenta abrangente para toda a pipeline de aprendizado de máquina. \n"
   ]
  },
  {
   "cell_type": "code",
   "execution_count": 46,
   "metadata": {
    "colab": {
     "base_uri": "https://localhost:8080/"
    },
    "executionInfo": {
     "elapsed": 401,
     "status": "ok",
     "timestamp": 1683341453044,
     "user": {
      "displayName": "Fabio Alexandre Spanhol",
      "userId": "09187412498449397569"
     },
     "user_tz": 180
    },
    "id": "7Y0zwavHvzfO",
    "outputId": "79750e4a-9dc2-4cfd-988d-38295aaad748"
   },
   "outputs": [
    {
     "name": "stdout",
     "output_type": "stream",
     "text": [
      "PyTorch:2.0.0+cu118\n"
     ]
    }
   ],
   "source": [
    "import numpy as np\n",
    "import pandas as pd\n",
    "\n",
    "import matplotlib.pyplot as plt\n",
    "\n",
    "import torch\n",
    "import torch.nn as nn  # classes and functions for building and training NN\n",
    "\n",
    "# version\n",
    "print(f'PyTorch:{torch.__version__}')"
   ]
  },
  {
   "cell_type": "markdown",
   "metadata": {
    "id": "ERvmuQiI5ZEt"
   },
   "source": [
    "Note o ``+cu118`` indicando a versão do *toolkit* CUDA com o qual o PyTorch foi construído. CUDA é uma plataforma de computação paralela e modelo de programação usado para treinar modelos de aprendizado profundo em GPUs."
   ]
  },
  {
   "cell_type": "markdown",
   "metadata": {
    "id": "8nR3cw4VYvXw"
   },
   "source": [
    "\n",
    "E vamos configurar o pyplot para apresentar nossas imagens."
   ]
  },
  {
   "cell_type": "code",
   "execution_count": 22,
   "metadata": {
    "executionInfo": {
     "elapsed": 414,
     "status": "ok",
     "timestamp": 1683338035601,
     "user": {
      "displayName": "Fabio Alexandre Spanhol",
      "userId": "09187412498449397569"
     },
     "user_tz": 180
    },
    "id": "4PG9tq8xTqH2"
   },
   "outputs": [],
   "source": [
    "plt.style.use('dark_background')  # \"dark\" theme\n",
    "plt.rcParams[\"font.size\"] = 12\n",
    "\n",
    "plt.rcParams[\"figure.figsize\"] = (10, 4)"
   ]
  },
  {
   "cell_type": "markdown",
   "metadata": {
    "id": "q5CLe1LvPM8j"
   },
   "source": [
    "Importação de um *Dataset* e Análise Exploratória\n",
    "--\n",
    "\n",
    "``Scikit-learn`` (https://scikit-learn.org/stable/) possui uma série de *datasets built-in* que podem ser usados para testar os modelos de ML, seja com propósitos educacionais ou mesmo de *benchmarking*. Um de tais *datasets* é o Iris, que contém características da planta íris (*Iris sp.*), mostrada a seguir. \n",
    "\n",
    "<img src=\"https://drive.google.com/uc?id=1CFPpZphJaaGNS9rTZKS5wurnkOX0JCbU\" width=\"200\" height=\"auto\">\n",
    "\n",
    "O dataset é originário do <font color=\"#66ffff\">UC Irvine Machine Learning Repository</font> (https://archive.ics.uci.edu/ml/index.php).\n",
    "Os dados consistem em 150 amostras (*samples*) de três espécies de íris. \n",
    "Na verdade, as três espécies são visualmente muito parecidas, mas diferenças em medidas das pétalas e sépalas permitem distinguir as espécies entre si, isto é, **classificar**.\n",
    "\n",
    "Este dataset é um exemplo clássico de aprendizado supervionado. Cada linha representa uma observação ou instância. Como descritor temos o comprimento (*length*) e largura (*width*) da petála (*petal*) e da sépala (*sepal*). A saída esperada é uma das espécies: Iris-setosa, Iris-versicolor ou Iris-virginica. \n",
    "\n",
    "<img src=\"https://drive.google.com/uc?id=16rE8raXoby8NqA0oixGXV8H22BXLf4Fe\" width=\"auto\" height=\"auto\">\n",
    "\n"
   ]
  },
  {
   "cell_type": "code",
   "execution_count": 16,
   "metadata": {
    "colab": {
     "base_uri": "https://localhost:8080/"
    },
    "executionInfo": {
     "elapsed": 437,
     "status": "ok",
     "timestamp": 1683338016887,
     "user": {
      "displayName": "Fabio Alexandre Spanhol",
      "userId": "09187412498449397569"
     },
     "user_tz": 180
    },
    "id": "-4v5aGCYMXYv",
    "outputId": "102538b3-dd1f-45e6-d392-30d026fee509"
   },
   "outputs": [
    {
     "name": "stdout",
     "output_type": "stream",
     "text": [
      "dict_keys(['data', 'target', 'frame', 'target_names', 'DESCR', 'feature_names', 'filename', 'data_module'])\n"
     ]
    }
   ],
   "source": [
    "from sklearn import datasets\n",
    "\n",
    "iris = datasets.load_iris()  # Loading the dataset iris\n",
    "\n",
    "print(iris.keys())\n"
   ]
  },
  {
   "cell_type": "markdown",
   "metadata": {
    "id": "mmjaLxqAXcHf"
   },
   "source": [
    "Para realizarmos uma exploração, vamos converter o ``array`` numpy em um ``DataFrame`` Pandas, selecionando alguns campos de interesse."
   ]
  },
  {
   "cell_type": "code",
   "execution_count": 17,
   "metadata": {
    "colab": {
     "base_uri": "https://localhost:8080/",
     "height": 206
    },
    "executionInfo": {
     "elapsed": 13,
     "status": "ok",
     "timestamp": 1683338019144,
     "user": {
      "displayName": "Fabio Alexandre Spanhol",
      "userId": "09187412498449397569"
     },
     "user_tz": 180
    },
    "id": "M6tGN0lJXbjO",
    "outputId": "24cb772b-58a2-4427-8423-2cdf5559ed0c"
   },
   "outputs": [
    {
     "data": {
      "text/html": [
       "\n",
       "  <div id=\"df-fbed2be4-a6b3-4e9d-9250-130b8e9ee635\">\n",
       "    <div class=\"colab-df-container\">\n",
       "      <div>\n",
       "<style scoped>\n",
       "    .dataframe tbody tr th:only-of-type {\n",
       "        vertical-align: middle;\n",
       "    }\n",
       "\n",
       "    .dataframe tbody tr th {\n",
       "        vertical-align: top;\n",
       "    }\n",
       "\n",
       "    .dataframe thead th {\n",
       "        text-align: right;\n",
       "    }\n",
       "</style>\n",
       "<table border=\"1\" class=\"dataframe\">\n",
       "  <thead>\n",
       "    <tr style=\"text-align: right;\">\n",
       "      <th></th>\n",
       "      <th>sepal length (cm)</th>\n",
       "      <th>sepal width (cm)</th>\n",
       "      <th>petal length (cm)</th>\n",
       "      <th>petal width (cm)</th>\n",
       "      <th>target</th>\n",
       "    </tr>\n",
       "  </thead>\n",
       "  <tbody>\n",
       "    <tr>\n",
       "      <th>0</th>\n",
       "      <td>5.1</td>\n",
       "      <td>3.5</td>\n",
       "      <td>1.4</td>\n",
       "      <td>0.2</td>\n",
       "      <td>0.0</td>\n",
       "    </tr>\n",
       "    <tr>\n",
       "      <th>1</th>\n",
       "      <td>4.9</td>\n",
       "      <td>3.0</td>\n",
       "      <td>1.4</td>\n",
       "      <td>0.2</td>\n",
       "      <td>0.0</td>\n",
       "    </tr>\n",
       "    <tr>\n",
       "      <th>2</th>\n",
       "      <td>4.7</td>\n",
       "      <td>3.2</td>\n",
       "      <td>1.3</td>\n",
       "      <td>0.2</td>\n",
       "      <td>0.0</td>\n",
       "    </tr>\n",
       "    <tr>\n",
       "      <th>3</th>\n",
       "      <td>4.6</td>\n",
       "      <td>3.1</td>\n",
       "      <td>1.5</td>\n",
       "      <td>0.2</td>\n",
       "      <td>0.0</td>\n",
       "    </tr>\n",
       "    <tr>\n",
       "      <th>4</th>\n",
       "      <td>5.0</td>\n",
       "      <td>3.6</td>\n",
       "      <td>1.4</td>\n",
       "      <td>0.2</td>\n",
       "      <td>0.0</td>\n",
       "    </tr>\n",
       "  </tbody>\n",
       "</table>\n",
       "</div>\n",
       "      <button class=\"colab-df-convert\" onclick=\"convertToInteractive('df-fbed2be4-a6b3-4e9d-9250-130b8e9ee635')\"\n",
       "              title=\"Convert this dataframe to an interactive table.\"\n",
       "              style=\"display:none;\">\n",
       "        \n",
       "  <svg xmlns=\"http://www.w3.org/2000/svg\" height=\"24px\"viewBox=\"0 0 24 24\"\n",
       "       width=\"24px\">\n",
       "    <path d=\"M0 0h24v24H0V0z\" fill=\"none\"/>\n",
       "    <path d=\"M18.56 5.44l.94 2.06.94-2.06 2.06-.94-2.06-.94-.94-2.06-.94 2.06-2.06.94zm-11 1L8.5 8.5l.94-2.06 2.06-.94-2.06-.94L8.5 2.5l-.94 2.06-2.06.94zm10 10l.94 2.06.94-2.06 2.06-.94-2.06-.94-.94-2.06-.94 2.06-2.06.94z\"/><path d=\"M17.41 7.96l-1.37-1.37c-.4-.4-.92-.59-1.43-.59-.52 0-1.04.2-1.43.59L10.3 9.45l-7.72 7.72c-.78.78-.78 2.05 0 2.83L4 21.41c.39.39.9.59 1.41.59.51 0 1.02-.2 1.41-.59l7.78-7.78 2.81-2.81c.8-.78.8-2.07 0-2.86zM5.41 20L4 18.59l7.72-7.72 1.47 1.35L5.41 20z\"/>\n",
       "  </svg>\n",
       "      </button>\n",
       "      \n",
       "  <style>\n",
       "    .colab-df-container {\n",
       "      display:flex;\n",
       "      flex-wrap:wrap;\n",
       "      gap: 12px;\n",
       "    }\n",
       "\n",
       "    .colab-df-convert {\n",
       "      background-color: #E8F0FE;\n",
       "      border: none;\n",
       "      border-radius: 50%;\n",
       "      cursor: pointer;\n",
       "      display: none;\n",
       "      fill: #1967D2;\n",
       "      height: 32px;\n",
       "      padding: 0 0 0 0;\n",
       "      width: 32px;\n",
       "    }\n",
       "\n",
       "    .colab-df-convert:hover {\n",
       "      background-color: #E2EBFA;\n",
       "      box-shadow: 0px 1px 2px rgba(60, 64, 67, 0.3), 0px 1px 3px 1px rgba(60, 64, 67, 0.15);\n",
       "      fill: #174EA6;\n",
       "    }\n",
       "\n",
       "    [theme=dark] .colab-df-convert {\n",
       "      background-color: #3B4455;\n",
       "      fill: #D2E3FC;\n",
       "    }\n",
       "\n",
       "    [theme=dark] .colab-df-convert:hover {\n",
       "      background-color: #434B5C;\n",
       "      box-shadow: 0px 1px 3px 1px rgba(0, 0, 0, 0.15);\n",
       "      filter: drop-shadow(0px 1px 2px rgba(0, 0, 0, 0.3));\n",
       "      fill: #FFFFFF;\n",
       "    }\n",
       "  </style>\n",
       "\n",
       "      <script>\n",
       "        const buttonEl =\n",
       "          document.querySelector('#df-fbed2be4-a6b3-4e9d-9250-130b8e9ee635 button.colab-df-convert');\n",
       "        buttonEl.style.display =\n",
       "          google.colab.kernel.accessAllowed ? 'block' : 'none';\n",
       "\n",
       "        async function convertToInteractive(key) {\n",
       "          const element = document.querySelector('#df-fbed2be4-a6b3-4e9d-9250-130b8e9ee635');\n",
       "          const dataTable =\n",
       "            await google.colab.kernel.invokeFunction('convertToInteractive',\n",
       "                                                     [key], {});\n",
       "          if (!dataTable) return;\n",
       "\n",
       "          const docLinkHtml = 'Like what you see? Visit the ' +\n",
       "            '<a target=\"_blank\" href=https://colab.research.google.com/notebooks/data_table.ipynb>data table notebook</a>'\n",
       "            + ' to learn more about interactive tables.';\n",
       "          element.innerHTML = '';\n",
       "          dataTable['output_type'] = 'display_data';\n",
       "          await google.colab.output.renderOutput(dataTable, element);\n",
       "          const docLink = document.createElement('div');\n",
       "          docLink.innerHTML = docLinkHtml;\n",
       "          element.appendChild(docLink);\n",
       "        }\n",
       "      </script>\n",
       "    </div>\n",
       "  </div>\n",
       "  "
      ],
      "text/plain": [
       "   sepal length (cm)  sepal width (cm)  petal length (cm)  petal width (cm)  \\\n",
       "0                5.1               3.5                1.4               0.2   \n",
       "1                4.9               3.0                1.4               0.2   \n",
       "2                4.7               3.2                1.3               0.2   \n",
       "3                4.6               3.1                1.5               0.2   \n",
       "4                5.0               3.6                1.4               0.2   \n",
       "\n",
       "   target  \n",
       "0     0.0  \n",
       "1     0.0  \n",
       "2     0.0  \n",
       "3     0.0  \n",
       "4     0.0  "
      ]
     },
     "execution_count": 17,
     "metadata": {},
     "output_type": "execute_result"
    }
   ],
   "source": [
    "iris = pd.DataFrame(\n",
    "    data= np.c_[iris['data'], iris['target']],\n",
    "    columns= iris['feature_names'] + ['target']\n",
    "    )\n",
    "\n",
    "iris.head(5)  # first 5 instances (rows)"
   ]
  },
  {
   "cell_type": "markdown",
   "metadata": {
    "id": "jNrFDbONX3F1"
   },
   "source": [
    "Como podemos observar, o ``DataFrame``gerado contém o comprimento (``length``) e largura (``width``) em centímetors das sépala (``sepal``) e pétala (``petal``), respectivamente. Também há uma coluna ``target`` indicando a codificação numérica de cada espécie (classe): Setosa(0), Versicolor(1) e Virginica(2)."
   ]
  },
  {
   "cell_type": "markdown",
   "metadata": {
    "id": "-QXEg8CYYLm3"
   },
   "source": [
    "Vamos adicionar o nome da classe (espécie) para fins de visualizaçãp/"
   ]
  },
  {
   "cell_type": "code",
   "execution_count": 18,
   "metadata": {
    "executionInfo": {
     "elapsed": 402,
     "status": "ok",
     "timestamp": 1683338023227,
     "user": {
      "displayName": "Fabio Alexandre Spanhol",
      "userId": "09187412498449397569"
     },
     "user_tz": 180
    },
    "id": "LgTR9_TXX4TP"
   },
   "outputs": [],
   "source": [
    "species = []\n",
    "\n",
    "for i in range(len(iris['target'])):\n",
    "    if iris['target'][i] == 0:\n",
    "        species.append(\"setosa\")\n",
    "    elif iris['target'][i] == 1:\n",
    "        species.append('versicolor')\n",
    "    else:\n",
    "        species.append('virginica')\n",
    "\n",
    "\n",
    "iris['species'] = species"
   ]
  },
  {
   "cell_type": "markdown",
   "metadata": {
    "id": "3conu0HGpIvU"
   },
   "source": [
    "Exibindo novamente 5 linhas."
   ]
  },
  {
   "cell_type": "code",
   "execution_count": 19,
   "metadata": {
    "colab": {
     "base_uri": "https://localhost:8080/",
     "height": 206
    },
    "executionInfo": {
     "elapsed": 415,
     "status": "ok",
     "timestamp": 1683338026034,
     "user": {
      "displayName": "Fabio Alexandre Spanhol",
      "userId": "09187412498449397569"
     },
     "user_tz": 180
    },
    "id": "LBCcAKEgYT-j",
    "outputId": "c3a05e5e-e5c4-4a76-cd82-f6ca5cc88e5e"
   },
   "outputs": [
    {
     "data": {
      "text/html": [
       "\n",
       "  <div id=\"df-89c25382-9249-49f0-81e3-e71189b1af2c\">\n",
       "    <div class=\"colab-df-container\">\n",
       "      <div>\n",
       "<style scoped>\n",
       "    .dataframe tbody tr th:only-of-type {\n",
       "        vertical-align: middle;\n",
       "    }\n",
       "\n",
       "    .dataframe tbody tr th {\n",
       "        vertical-align: top;\n",
       "    }\n",
       "\n",
       "    .dataframe thead th {\n",
       "        text-align: right;\n",
       "    }\n",
       "</style>\n",
       "<table border=\"1\" class=\"dataframe\">\n",
       "  <thead>\n",
       "    <tr style=\"text-align: right;\">\n",
       "      <th></th>\n",
       "      <th>sepal length (cm)</th>\n",
       "      <th>sepal width (cm)</th>\n",
       "      <th>petal length (cm)</th>\n",
       "      <th>petal width (cm)</th>\n",
       "      <th>target</th>\n",
       "      <th>species</th>\n",
       "    </tr>\n",
       "  </thead>\n",
       "  <tbody>\n",
       "    <tr>\n",
       "      <th>0</th>\n",
       "      <td>5.1</td>\n",
       "      <td>3.5</td>\n",
       "      <td>1.4</td>\n",
       "      <td>0.2</td>\n",
       "      <td>0.0</td>\n",
       "      <td>setosa</td>\n",
       "    </tr>\n",
       "    <tr>\n",
       "      <th>1</th>\n",
       "      <td>4.9</td>\n",
       "      <td>3.0</td>\n",
       "      <td>1.4</td>\n",
       "      <td>0.2</td>\n",
       "      <td>0.0</td>\n",
       "      <td>setosa</td>\n",
       "    </tr>\n",
       "    <tr>\n",
       "      <th>2</th>\n",
       "      <td>4.7</td>\n",
       "      <td>3.2</td>\n",
       "      <td>1.3</td>\n",
       "      <td>0.2</td>\n",
       "      <td>0.0</td>\n",
       "      <td>setosa</td>\n",
       "    </tr>\n",
       "    <tr>\n",
       "      <th>3</th>\n",
       "      <td>4.6</td>\n",
       "      <td>3.1</td>\n",
       "      <td>1.5</td>\n",
       "      <td>0.2</td>\n",
       "      <td>0.0</td>\n",
       "      <td>setosa</td>\n",
       "    </tr>\n",
       "    <tr>\n",
       "      <th>4</th>\n",
       "      <td>5.0</td>\n",
       "      <td>3.6</td>\n",
       "      <td>1.4</td>\n",
       "      <td>0.2</td>\n",
       "      <td>0.0</td>\n",
       "      <td>setosa</td>\n",
       "    </tr>\n",
       "  </tbody>\n",
       "</table>\n",
       "</div>\n",
       "      <button class=\"colab-df-convert\" onclick=\"convertToInteractive('df-89c25382-9249-49f0-81e3-e71189b1af2c')\"\n",
       "              title=\"Convert this dataframe to an interactive table.\"\n",
       "              style=\"display:none;\">\n",
       "        \n",
       "  <svg xmlns=\"http://www.w3.org/2000/svg\" height=\"24px\"viewBox=\"0 0 24 24\"\n",
       "       width=\"24px\">\n",
       "    <path d=\"M0 0h24v24H0V0z\" fill=\"none\"/>\n",
       "    <path d=\"M18.56 5.44l.94 2.06.94-2.06 2.06-.94-2.06-.94-.94-2.06-.94 2.06-2.06.94zm-11 1L8.5 8.5l.94-2.06 2.06-.94-2.06-.94L8.5 2.5l-.94 2.06-2.06.94zm10 10l.94 2.06.94-2.06 2.06-.94-2.06-.94-.94-2.06-.94 2.06-2.06.94z\"/><path d=\"M17.41 7.96l-1.37-1.37c-.4-.4-.92-.59-1.43-.59-.52 0-1.04.2-1.43.59L10.3 9.45l-7.72 7.72c-.78.78-.78 2.05 0 2.83L4 21.41c.39.39.9.59 1.41.59.51 0 1.02-.2 1.41-.59l7.78-7.78 2.81-2.81c.8-.78.8-2.07 0-2.86zM5.41 20L4 18.59l7.72-7.72 1.47 1.35L5.41 20z\"/>\n",
       "  </svg>\n",
       "      </button>\n",
       "      \n",
       "  <style>\n",
       "    .colab-df-container {\n",
       "      display:flex;\n",
       "      flex-wrap:wrap;\n",
       "      gap: 12px;\n",
       "    }\n",
       "\n",
       "    .colab-df-convert {\n",
       "      background-color: #E8F0FE;\n",
       "      border: none;\n",
       "      border-radius: 50%;\n",
       "      cursor: pointer;\n",
       "      display: none;\n",
       "      fill: #1967D2;\n",
       "      height: 32px;\n",
       "      padding: 0 0 0 0;\n",
       "      width: 32px;\n",
       "    }\n",
       "\n",
       "    .colab-df-convert:hover {\n",
       "      background-color: #E2EBFA;\n",
       "      box-shadow: 0px 1px 2px rgba(60, 64, 67, 0.3), 0px 1px 3px 1px rgba(60, 64, 67, 0.15);\n",
       "      fill: #174EA6;\n",
       "    }\n",
       "\n",
       "    [theme=dark] .colab-df-convert {\n",
       "      background-color: #3B4455;\n",
       "      fill: #D2E3FC;\n",
       "    }\n",
       "\n",
       "    [theme=dark] .colab-df-convert:hover {\n",
       "      background-color: #434B5C;\n",
       "      box-shadow: 0px 1px 3px 1px rgba(0, 0, 0, 0.15);\n",
       "      filter: drop-shadow(0px 1px 2px rgba(0, 0, 0, 0.3));\n",
       "      fill: #FFFFFF;\n",
       "    }\n",
       "  </style>\n",
       "\n",
       "      <script>\n",
       "        const buttonEl =\n",
       "          document.querySelector('#df-89c25382-9249-49f0-81e3-e71189b1af2c button.colab-df-convert');\n",
       "        buttonEl.style.display =\n",
       "          google.colab.kernel.accessAllowed ? 'block' : 'none';\n",
       "\n",
       "        async function convertToInteractive(key) {\n",
       "          const element = document.querySelector('#df-89c25382-9249-49f0-81e3-e71189b1af2c');\n",
       "          const dataTable =\n",
       "            await google.colab.kernel.invokeFunction('convertToInteractive',\n",
       "                                                     [key], {});\n",
       "          if (!dataTable) return;\n",
       "\n",
       "          const docLinkHtml = 'Like what you see? Visit the ' +\n",
       "            '<a target=\"_blank\" href=https://colab.research.google.com/notebooks/data_table.ipynb>data table notebook</a>'\n",
       "            + ' to learn more about interactive tables.';\n",
       "          element.innerHTML = '';\n",
       "          dataTable['output_type'] = 'display_data';\n",
       "          await google.colab.output.renderOutput(dataTable, element);\n",
       "          const docLink = document.createElement('div');\n",
       "          docLink.innerHTML = docLinkHtml;\n",
       "          element.appendChild(docLink);\n",
       "        }\n",
       "      </script>\n",
       "    </div>\n",
       "  </div>\n",
       "  "
      ],
      "text/plain": [
       "   sepal length (cm)  sepal width (cm)  petal length (cm)  petal width (cm)  \\\n",
       "0                5.1               3.5                1.4               0.2   \n",
       "1                4.9               3.0                1.4               0.2   \n",
       "2                4.7               3.2                1.3               0.2   \n",
       "3                4.6               3.1                1.5               0.2   \n",
       "4                5.0               3.6                1.4               0.2   \n",
       "\n",
       "   target species  \n",
       "0     0.0  setosa  \n",
       "1     0.0  setosa  \n",
       "2     0.0  setosa  \n",
       "3     0.0  setosa  \n",
       "4     0.0  setosa  "
      ]
     },
     "execution_count": 19,
     "metadata": {},
     "output_type": "execute_result"
    }
   ],
   "source": [
    "iris.head(5)"
   ]
  },
  {
   "cell_type": "markdown",
   "metadata": {
    "id": "V5bq2Q82pQBh"
   },
   "source": [
    "Obtendo um sumário da distribuição das instâncias."
   ]
  },
  {
   "cell_type": "code",
   "execution_count": 20,
   "metadata": {
    "colab": {
     "base_uri": "https://localhost:8080/"
    },
    "executionInfo": {
     "elapsed": 406,
     "status": "ok",
     "timestamp": 1683338029299,
     "user": {
      "displayName": "Fabio Alexandre Spanhol",
      "userId": "09187412498449397569"
     },
     "user_tz": 180
    },
    "id": "GRjxhEh5YBnU",
    "outputId": "5adc924b-6f9b-45d3-f33e-bbc2a2c9757a"
   },
   "outputs": [
    {
     "data": {
      "text/plain": [
       "species\n",
       "setosa        50\n",
       "versicolor    50\n",
       "virginica     50\n",
       "dtype: int64"
      ]
     },
     "execution_count": 20,
     "metadata": {},
     "output_type": "execute_result"
    }
   ],
   "source": [
    "iris.groupby('species').size()\n"
   ]
  },
  {
   "cell_type": "code",
   "execution_count": 21,
   "metadata": {
    "colab": {
     "base_uri": "https://localhost:8080/",
     "height": 394
    },
    "executionInfo": {
     "elapsed": 478,
     "status": "ok",
     "timestamp": 1683338032300,
     "user": {
      "displayName": "Fabio Alexandre Spanhol",
      "userId": "09187412498449397569"
     },
     "user_tz": 180
    },
    "id": "MnKPn7IK23It",
    "outputId": "a1838b76-b4b0-4f8b-b5ea-efa3f4c1e4cb"
   },
   "outputs": [
    {
     "data": {
      "text/html": [
       "\n",
       "  <div id=\"df-02b80db6-e46f-4f98-93bf-2dc5dac67523\">\n",
       "    <div class=\"colab-df-container\">\n",
       "      <div>\n",
       "<style scoped>\n",
       "    .dataframe tbody tr th:only-of-type {\n",
       "        vertical-align: middle;\n",
       "    }\n",
       "\n",
       "    .dataframe tbody tr th {\n",
       "        vertical-align: top;\n",
       "    }\n",
       "\n",
       "    .dataframe thead th {\n",
       "        text-align: right;\n",
       "    }\n",
       "</style>\n",
       "<table border=\"1\" class=\"dataframe\">\n",
       "  <thead>\n",
       "    <tr style=\"text-align: right;\">\n",
       "      <th></th>\n",
       "      <th>sepal length (cm)</th>\n",
       "      <th>sepal width (cm)</th>\n",
       "      <th>petal length (cm)</th>\n",
       "      <th>petal width (cm)</th>\n",
       "      <th>target</th>\n",
       "      <th>species</th>\n",
       "    </tr>\n",
       "  </thead>\n",
       "  <tbody>\n",
       "    <tr>\n",
       "      <th>count</th>\n",
       "      <td>150.000000</td>\n",
       "      <td>150.000000</td>\n",
       "      <td>150.000000</td>\n",
       "      <td>150.000000</td>\n",
       "      <td>150.000000</td>\n",
       "      <td>150</td>\n",
       "    </tr>\n",
       "    <tr>\n",
       "      <th>unique</th>\n",
       "      <td>NaN</td>\n",
       "      <td>NaN</td>\n",
       "      <td>NaN</td>\n",
       "      <td>NaN</td>\n",
       "      <td>NaN</td>\n",
       "      <td>3</td>\n",
       "    </tr>\n",
       "    <tr>\n",
       "      <th>top</th>\n",
       "      <td>NaN</td>\n",
       "      <td>NaN</td>\n",
       "      <td>NaN</td>\n",
       "      <td>NaN</td>\n",
       "      <td>NaN</td>\n",
       "      <td>setosa</td>\n",
       "    </tr>\n",
       "    <tr>\n",
       "      <th>freq</th>\n",
       "      <td>NaN</td>\n",
       "      <td>NaN</td>\n",
       "      <td>NaN</td>\n",
       "      <td>NaN</td>\n",
       "      <td>NaN</td>\n",
       "      <td>50</td>\n",
       "    </tr>\n",
       "    <tr>\n",
       "      <th>mean</th>\n",
       "      <td>5.843333</td>\n",
       "      <td>3.057333</td>\n",
       "      <td>3.758000</td>\n",
       "      <td>1.199333</td>\n",
       "      <td>1.000000</td>\n",
       "      <td>NaN</td>\n",
       "    </tr>\n",
       "    <tr>\n",
       "      <th>std</th>\n",
       "      <td>0.828066</td>\n",
       "      <td>0.435866</td>\n",
       "      <td>1.765298</td>\n",
       "      <td>0.762238</td>\n",
       "      <td>0.819232</td>\n",
       "      <td>NaN</td>\n",
       "    </tr>\n",
       "    <tr>\n",
       "      <th>min</th>\n",
       "      <td>4.300000</td>\n",
       "      <td>2.000000</td>\n",
       "      <td>1.000000</td>\n",
       "      <td>0.100000</td>\n",
       "      <td>0.000000</td>\n",
       "      <td>NaN</td>\n",
       "    </tr>\n",
       "    <tr>\n",
       "      <th>25%</th>\n",
       "      <td>5.100000</td>\n",
       "      <td>2.800000</td>\n",
       "      <td>1.600000</td>\n",
       "      <td>0.300000</td>\n",
       "      <td>0.000000</td>\n",
       "      <td>NaN</td>\n",
       "    </tr>\n",
       "    <tr>\n",
       "      <th>50%</th>\n",
       "      <td>5.800000</td>\n",
       "      <td>3.000000</td>\n",
       "      <td>4.350000</td>\n",
       "      <td>1.300000</td>\n",
       "      <td>1.000000</td>\n",
       "      <td>NaN</td>\n",
       "    </tr>\n",
       "    <tr>\n",
       "      <th>75%</th>\n",
       "      <td>6.400000</td>\n",
       "      <td>3.300000</td>\n",
       "      <td>5.100000</td>\n",
       "      <td>1.800000</td>\n",
       "      <td>2.000000</td>\n",
       "      <td>NaN</td>\n",
       "    </tr>\n",
       "    <tr>\n",
       "      <th>max</th>\n",
       "      <td>7.900000</td>\n",
       "      <td>4.400000</td>\n",
       "      <td>6.900000</td>\n",
       "      <td>2.500000</td>\n",
       "      <td>2.000000</td>\n",
       "      <td>NaN</td>\n",
       "    </tr>\n",
       "  </tbody>\n",
       "</table>\n",
       "</div>\n",
       "      <button class=\"colab-df-convert\" onclick=\"convertToInteractive('df-02b80db6-e46f-4f98-93bf-2dc5dac67523')\"\n",
       "              title=\"Convert this dataframe to an interactive table.\"\n",
       "              style=\"display:none;\">\n",
       "        \n",
       "  <svg xmlns=\"http://www.w3.org/2000/svg\" height=\"24px\"viewBox=\"0 0 24 24\"\n",
       "       width=\"24px\">\n",
       "    <path d=\"M0 0h24v24H0V0z\" fill=\"none\"/>\n",
       "    <path d=\"M18.56 5.44l.94 2.06.94-2.06 2.06-.94-2.06-.94-.94-2.06-.94 2.06-2.06.94zm-11 1L8.5 8.5l.94-2.06 2.06-.94-2.06-.94L8.5 2.5l-.94 2.06-2.06.94zm10 10l.94 2.06.94-2.06 2.06-.94-2.06-.94-.94-2.06-.94 2.06-2.06.94z\"/><path d=\"M17.41 7.96l-1.37-1.37c-.4-.4-.92-.59-1.43-.59-.52 0-1.04.2-1.43.59L10.3 9.45l-7.72 7.72c-.78.78-.78 2.05 0 2.83L4 21.41c.39.39.9.59 1.41.59.51 0 1.02-.2 1.41-.59l7.78-7.78 2.81-2.81c.8-.78.8-2.07 0-2.86zM5.41 20L4 18.59l7.72-7.72 1.47 1.35L5.41 20z\"/>\n",
       "  </svg>\n",
       "      </button>\n",
       "      \n",
       "  <style>\n",
       "    .colab-df-container {\n",
       "      display:flex;\n",
       "      flex-wrap:wrap;\n",
       "      gap: 12px;\n",
       "    }\n",
       "\n",
       "    .colab-df-convert {\n",
       "      background-color: #E8F0FE;\n",
       "      border: none;\n",
       "      border-radius: 50%;\n",
       "      cursor: pointer;\n",
       "      display: none;\n",
       "      fill: #1967D2;\n",
       "      height: 32px;\n",
       "      padding: 0 0 0 0;\n",
       "      width: 32px;\n",
       "    }\n",
       "\n",
       "    .colab-df-convert:hover {\n",
       "      background-color: #E2EBFA;\n",
       "      box-shadow: 0px 1px 2px rgba(60, 64, 67, 0.3), 0px 1px 3px 1px rgba(60, 64, 67, 0.15);\n",
       "      fill: #174EA6;\n",
       "    }\n",
       "\n",
       "    [theme=dark] .colab-df-convert {\n",
       "      background-color: #3B4455;\n",
       "      fill: #D2E3FC;\n",
       "    }\n",
       "\n",
       "    [theme=dark] .colab-df-convert:hover {\n",
       "      background-color: #434B5C;\n",
       "      box-shadow: 0px 1px 3px 1px rgba(0, 0, 0, 0.15);\n",
       "      filter: drop-shadow(0px 1px 2px rgba(0, 0, 0, 0.3));\n",
       "      fill: #FFFFFF;\n",
       "    }\n",
       "  </style>\n",
       "\n",
       "      <script>\n",
       "        const buttonEl =\n",
       "          document.querySelector('#df-02b80db6-e46f-4f98-93bf-2dc5dac67523 button.colab-df-convert');\n",
       "        buttonEl.style.display =\n",
       "          google.colab.kernel.accessAllowed ? 'block' : 'none';\n",
       "\n",
       "        async function convertToInteractive(key) {\n",
       "          const element = document.querySelector('#df-02b80db6-e46f-4f98-93bf-2dc5dac67523');\n",
       "          const dataTable =\n",
       "            await google.colab.kernel.invokeFunction('convertToInteractive',\n",
       "                                                     [key], {});\n",
       "          if (!dataTable) return;\n",
       "\n",
       "          const docLinkHtml = 'Like what you see? Visit the ' +\n",
       "            '<a target=\"_blank\" href=https://colab.research.google.com/notebooks/data_table.ipynb>data table notebook</a>'\n",
       "            + ' to learn more about interactive tables.';\n",
       "          element.innerHTML = '';\n",
       "          dataTable['output_type'] = 'display_data';\n",
       "          await google.colab.output.renderOutput(dataTable, element);\n",
       "          const docLink = document.createElement('div');\n",
       "          docLink.innerHTML = docLinkHtml;\n",
       "          element.appendChild(docLink);\n",
       "        }\n",
       "      </script>\n",
       "    </div>\n",
       "  </div>\n",
       "  "
      ],
      "text/plain": [
       "        sepal length (cm)  sepal width (cm)  petal length (cm)  \\\n",
       "count          150.000000        150.000000         150.000000   \n",
       "unique                NaN               NaN                NaN   \n",
       "top                   NaN               NaN                NaN   \n",
       "freq                  NaN               NaN                NaN   \n",
       "mean             5.843333          3.057333           3.758000   \n",
       "std              0.828066          0.435866           1.765298   \n",
       "min              4.300000          2.000000           1.000000   \n",
       "25%              5.100000          2.800000           1.600000   \n",
       "50%              5.800000          3.000000           4.350000   \n",
       "75%              6.400000          3.300000           5.100000   \n",
       "max              7.900000          4.400000           6.900000   \n",
       "\n",
       "        petal width (cm)      target species  \n",
       "count         150.000000  150.000000     150  \n",
       "unique               NaN         NaN       3  \n",
       "top                  NaN         NaN  setosa  \n",
       "freq                 NaN         NaN      50  \n",
       "mean            1.199333    1.000000     NaN  \n",
       "std             0.762238    0.819232     NaN  \n",
       "min             0.100000    0.000000     NaN  \n",
       "25%             0.300000    0.000000     NaN  \n",
       "50%             1.300000    1.000000     NaN  \n",
       "75%             1.800000    2.000000     NaN  \n",
       "max             2.500000    2.000000     NaN  "
      ]
     },
     "execution_count": 21,
     "metadata": {},
     "output_type": "execute_result"
    }
   ],
   "source": [
    "iris.describe(include = 'all')"
   ]
  },
  {
   "cell_type": "markdown",
   "metadata": {
    "id": "N-h3aofjt9Ky"
   },
   "source": [
    "Preparação do Dataset\n",
    "--\n",
    "\n"
   ]
  },
  {
   "cell_type": "code",
   "execution_count": 23,
   "metadata": {
    "colab": {
     "base_uri": "https://localhost:8080/",
     "height": 300
    },
    "executionInfo": {
     "elapsed": 410,
     "status": "ok",
     "timestamp": 1683338038024,
     "user": {
      "displayName": "Fabio Alexandre Spanhol",
      "userId": "09187412498449397569"
     },
     "user_tz": 180
    },
    "id": "pRg4I6Qo5ETZ",
    "outputId": "44d16d2e-7e29-4b6d-a71c-c399f3c087ee"
   },
   "outputs": [
    {
     "data": {
      "text/html": [
       "\n",
       "  <div id=\"df-373107ee-bd1f-4703-9619-053ea34e33bc\">\n",
       "    <div class=\"colab-df-container\">\n",
       "      <div>\n",
       "<style scoped>\n",
       "    .dataframe tbody tr th:only-of-type {\n",
       "        vertical-align: middle;\n",
       "    }\n",
       "\n",
       "    .dataframe tbody tr th {\n",
       "        vertical-align: top;\n",
       "    }\n",
       "\n",
       "    .dataframe thead th {\n",
       "        text-align: right;\n",
       "    }\n",
       "</style>\n",
       "<table border=\"1\" class=\"dataframe\">\n",
       "  <thead>\n",
       "    <tr style=\"text-align: right;\">\n",
       "      <th></th>\n",
       "      <th>sepal length (cm)</th>\n",
       "      <th>sepal width (cm)</th>\n",
       "      <th>petal length (cm)</th>\n",
       "      <th>petal width (cm)</th>\n",
       "    </tr>\n",
       "  </thead>\n",
       "  <tbody>\n",
       "    <tr>\n",
       "      <th>count</th>\n",
       "      <td>150.000000</td>\n",
       "      <td>150.000000</td>\n",
       "      <td>150.000000</td>\n",
       "      <td>150.000000</td>\n",
       "    </tr>\n",
       "    <tr>\n",
       "      <th>mean</th>\n",
       "      <td>5.843333</td>\n",
       "      <td>3.057333</td>\n",
       "      <td>3.758000</td>\n",
       "      <td>1.199333</td>\n",
       "    </tr>\n",
       "    <tr>\n",
       "      <th>std</th>\n",
       "      <td>0.828066</td>\n",
       "      <td>0.435866</td>\n",
       "      <td>1.765298</td>\n",
       "      <td>0.762238</td>\n",
       "    </tr>\n",
       "    <tr>\n",
       "      <th>min</th>\n",
       "      <td>4.300000</td>\n",
       "      <td>2.000000</td>\n",
       "      <td>1.000000</td>\n",
       "      <td>0.100000</td>\n",
       "    </tr>\n",
       "    <tr>\n",
       "      <th>25%</th>\n",
       "      <td>5.100000</td>\n",
       "      <td>2.800000</td>\n",
       "      <td>1.600000</td>\n",
       "      <td>0.300000</td>\n",
       "    </tr>\n",
       "    <tr>\n",
       "      <th>50%</th>\n",
       "      <td>5.800000</td>\n",
       "      <td>3.000000</td>\n",
       "      <td>4.350000</td>\n",
       "      <td>1.300000</td>\n",
       "    </tr>\n",
       "    <tr>\n",
       "      <th>75%</th>\n",
       "      <td>6.400000</td>\n",
       "      <td>3.300000</td>\n",
       "      <td>5.100000</td>\n",
       "      <td>1.800000</td>\n",
       "    </tr>\n",
       "    <tr>\n",
       "      <th>max</th>\n",
       "      <td>7.900000</td>\n",
       "      <td>4.400000</td>\n",
       "      <td>6.900000</td>\n",
       "      <td>2.500000</td>\n",
       "    </tr>\n",
       "  </tbody>\n",
       "</table>\n",
       "</div>\n",
       "      <button class=\"colab-df-convert\" onclick=\"convertToInteractive('df-373107ee-bd1f-4703-9619-053ea34e33bc')\"\n",
       "              title=\"Convert this dataframe to an interactive table.\"\n",
       "              style=\"display:none;\">\n",
       "        \n",
       "  <svg xmlns=\"http://www.w3.org/2000/svg\" height=\"24px\"viewBox=\"0 0 24 24\"\n",
       "       width=\"24px\">\n",
       "    <path d=\"M0 0h24v24H0V0z\" fill=\"none\"/>\n",
       "    <path d=\"M18.56 5.44l.94 2.06.94-2.06 2.06-.94-2.06-.94-.94-2.06-.94 2.06-2.06.94zm-11 1L8.5 8.5l.94-2.06 2.06-.94-2.06-.94L8.5 2.5l-.94 2.06-2.06.94zm10 10l.94 2.06.94-2.06 2.06-.94-2.06-.94-.94-2.06-.94 2.06-2.06.94z\"/><path d=\"M17.41 7.96l-1.37-1.37c-.4-.4-.92-.59-1.43-.59-.52 0-1.04.2-1.43.59L10.3 9.45l-7.72 7.72c-.78.78-.78 2.05 0 2.83L4 21.41c.39.39.9.59 1.41.59.51 0 1.02-.2 1.41-.59l7.78-7.78 2.81-2.81c.8-.78.8-2.07 0-2.86zM5.41 20L4 18.59l7.72-7.72 1.47 1.35L5.41 20z\"/>\n",
       "  </svg>\n",
       "      </button>\n",
       "      \n",
       "  <style>\n",
       "    .colab-df-container {\n",
       "      display:flex;\n",
       "      flex-wrap:wrap;\n",
       "      gap: 12px;\n",
       "    }\n",
       "\n",
       "    .colab-df-convert {\n",
       "      background-color: #E8F0FE;\n",
       "      border: none;\n",
       "      border-radius: 50%;\n",
       "      cursor: pointer;\n",
       "      display: none;\n",
       "      fill: #1967D2;\n",
       "      height: 32px;\n",
       "      padding: 0 0 0 0;\n",
       "      width: 32px;\n",
       "    }\n",
       "\n",
       "    .colab-df-convert:hover {\n",
       "      background-color: #E2EBFA;\n",
       "      box-shadow: 0px 1px 2px rgba(60, 64, 67, 0.3), 0px 1px 3px 1px rgba(60, 64, 67, 0.15);\n",
       "      fill: #174EA6;\n",
       "    }\n",
       "\n",
       "    [theme=dark] .colab-df-convert {\n",
       "      background-color: #3B4455;\n",
       "      fill: #D2E3FC;\n",
       "    }\n",
       "\n",
       "    [theme=dark] .colab-df-convert:hover {\n",
       "      background-color: #434B5C;\n",
       "      box-shadow: 0px 1px 3px 1px rgba(0, 0, 0, 0.15);\n",
       "      filter: drop-shadow(0px 1px 2px rgba(0, 0, 0, 0.3));\n",
       "      fill: #FFFFFF;\n",
       "    }\n",
       "  </style>\n",
       "\n",
       "      <script>\n",
       "        const buttonEl =\n",
       "          document.querySelector('#df-373107ee-bd1f-4703-9619-053ea34e33bc button.colab-df-convert');\n",
       "        buttonEl.style.display =\n",
       "          google.colab.kernel.accessAllowed ? 'block' : 'none';\n",
       "\n",
       "        async function convertToInteractive(key) {\n",
       "          const element = document.querySelector('#df-373107ee-bd1f-4703-9619-053ea34e33bc');\n",
       "          const dataTable =\n",
       "            await google.colab.kernel.invokeFunction('convertToInteractive',\n",
       "                                                     [key], {});\n",
       "          if (!dataTable) return;\n",
       "\n",
       "          const docLinkHtml = 'Like what you see? Visit the ' +\n",
       "            '<a target=\"_blank\" href=https://colab.research.google.com/notebooks/data_table.ipynb>data table notebook</a>'\n",
       "            + ' to learn more about interactive tables.';\n",
       "          element.innerHTML = '';\n",
       "          dataTable['output_type'] = 'display_data';\n",
       "          await google.colab.output.renderOutput(dataTable, element);\n",
       "          const docLink = document.createElement('div');\n",
       "          docLink.innerHTML = docLinkHtml;\n",
       "          element.appendChild(docLink);\n",
       "        }\n",
       "      </script>\n",
       "    </div>\n",
       "  </div>\n",
       "  "
      ],
      "text/plain": [
       "       sepal length (cm)  sepal width (cm)  petal length (cm)  \\\n",
       "count         150.000000        150.000000         150.000000   \n",
       "mean            5.843333          3.057333           3.758000   \n",
       "std             0.828066          0.435866           1.765298   \n",
       "min             4.300000          2.000000           1.000000   \n",
       "25%             5.100000          2.800000           1.600000   \n",
       "50%             5.800000          3.000000           4.350000   \n",
       "75%             6.400000          3.300000           5.100000   \n",
       "max             7.900000          4.400000           6.900000   \n",
       "\n",
       "       petal width (cm)  \n",
       "count        150.000000  \n",
       "mean           1.199333  \n",
       "std            0.762238  \n",
       "min            0.100000  \n",
       "25%            0.300000  \n",
       "50%            1.300000  \n",
       "75%            1.800000  \n",
       "max            2.500000  "
      ]
     },
     "execution_count": 23,
     "metadata": {},
     "output_type": "execute_result"
    }
   ],
   "source": [
    "# Droping the target and species since we only need the measurements\n",
    "X = iris.drop(columns = ['target', 'species'], axis=1)\n",
    "X.describe(include = 'all')"
   ]
  },
  {
   "cell_type": "markdown",
   "metadata": {
    "id": "86CWEwefH1NA"
   },
   "source": [
    "Vamos tentar classificar as três espécies. Antes de mais nada vamos converter para *numpy arrays*."
   ]
  },
  {
   "cell_type": "code",
   "execution_count": 24,
   "metadata": {
    "executionInfo": {
     "elapsed": 404,
     "status": "ok",
     "timestamp": 1683338041208,
     "user": {
      "displayName": "Fabio Alexandre Spanhol",
      "userId": "09187412498449397569"
     },
     "user_tz": 180
    },
    "id": "b0RLlQZL8ZIg"
   },
   "outputs": [],
   "source": [
    "# converting into numpy array \n",
    "X = X.to_numpy()[: , :]  \n",
    "y = iris['target'].to_numpy().astype(int)"
   ]
  },
  {
   "cell_type": "markdown",
   "metadata": {
    "id": "Y9IbuM6s6Y7L"
   },
   "source": [
    "E depois separar o dataset nos conjuntos de treinamento ($70\\%$) e teste ($30\\%$). Novamente a ``Scikit-learn`` nos auxilia com a função ``train_test_split``."
   ]
  },
  {
   "cell_type": "code",
   "execution_count": 26,
   "metadata": {
    "colab": {
     "base_uri": "https://localhost:8080/"
    },
    "executionInfo": {
     "elapsed": 406,
     "status": "ok",
     "timestamp": 1683338059022,
     "user": {
      "displayName": "Fabio Alexandre Spanhol",
      "userId": "09187412498449397569"
     },
     "user_tz": 180
    },
    "id": "TFRvkl7Euwd9",
    "outputId": "88208a63-716c-42e1-8de7-c7734a7b0f2d"
   },
   "outputs": [
    {
     "name": "stdout",
     "output_type": "stream",
     "text": [
      "Training: 105 instances \n",
      "Test: 45 instances\n",
      "\n",
      "Training shape:(105, 4) \n",
      "First row:[5.5 2.4 3.7 1. ]\n",
      "\n",
      "Test shape:(45, 4) \n",
      "First row:[6.1 2.8 4.7 1.2]\n",
      "\n",
      "Labels \n",
      "\ttraining: 105 instances \n",
      "\ttest: 45 instances\n",
      "\n",
      "Labels training shape:(105,) \n",
      "set:[1 2 2 1 2 1 2 1 0 2 1 0 0 0 1 2 0 0 0 1 0 1 2 0 1 2 0 2 2 1 1 2 1 0 1 2 0\n",
      " 0 1 1 0 2 0 0 1 1 2 1 2 2 1 0 0 2 2 0 0 0 1 2 0 2 2 0 1 1 2 1 2 0 2 1 2 1\n",
      " 1 1 0 1 1 0 1 2 2 0 1 2 2 0 2 0 1 2 2 1 2 1 1 2 2 0 1 2 0 1 2]\n",
      "\n",
      "Labels test shape:(45,) \n",
      "set:[1 0 2 1 1 0 1 2 1 1 2 0 0 0 0 1 2 1 1 2 0 2 0 2 2 2 2 2 0 0 0 0 1 0 0 2 1\n",
      " 0 0 0 2 1 1 0 0]\n"
     ]
    }
   ],
   "source": [
    "from sklearn.model_selection import train_test_split\n",
    "\n",
    "X_train, X_test, y_train, y_test = train_test_split(X, y, test_size=0.3, random_state=42)\n",
    "\n",
    "print(f'Training: {len(X_train)} instances \\nTest: {len(X_test)} instances')\n",
    "\n",
    "print(f'\\nTraining shape:{X_train.shape} \\nFirst row:{X_train[0]}')\n",
    "print(f'\\nTest shape:{X_test.shape} \\nFirst row:{X_test[0]}')\n",
    "\n",
    "print(f'\\nLabels \\n\\ttraining: {len(y_train)} instances \\n\\ttest: {len(y_test)} instances')\n",
    "print(f'\\nLabels training shape:{y_train.shape} \\nset:{y_train}')\n",
    "print(f'\\nLabels test shape:{y_test.shape} \\nset:{y_test}')\n"
   ]
  },
  {
   "cell_type": "markdown",
   "metadata": {
    "id": "5AP1guh7uVsV"
   },
   "source": [
    "Escalar os Dados\n",
    "--\n",
    "\n",
    "Escalar os dados é uma etapa importante de pré-processamento em *machine learning*. Benefícios:\n",
    "\n",
    "1) Prevenção de viés.\n",
    "2) Aceleração da convergência.\n",
    "3) Redução da instabilidade numérica:\n"
   ]
  },
  {
   "cell_type": "code",
   "execution_count": 27,
   "metadata": {
    "executionInfo": {
     "elapsed": 575,
     "status": "ok",
     "timestamp": 1683338108646,
     "user": {
      "displayName": "Fabio Alexandre Spanhol",
      "userId": "09187412498449397569"
     },
     "user_tz": 180
    },
    "id": "KvkT8tYduZwv"
   },
   "outputs": [],
   "source": [
    "from sklearn.preprocessing import StandardScaler\n",
    "\n",
    "scaler = StandardScaler()\n",
    "\n",
    "# computes the mean and std dev of the data and scales the data using these values.\n",
    "X_train = scaler.fit_transform(X_train)  \n",
    "\n",
    "X_test = scaler.transform(X_test)"
   ]
  },
  {
   "cell_type": "markdown",
   "metadata": {
    "id": "k_GM8XdPynID"
   },
   "source": [
    "Conversão para Torch Tensor\n",
    "--\n",
    "\n",
    "\n"
   ]
  },
  {
   "cell_type": "markdown",
   "metadata": {
    "id": "LKBOEDtd8hO9"
   },
   "source": [
    "**Torch Tensor**  é a estrutura de dados fundamental no PyTorch. \n",
    "\n",
    "Tensores são *arrays* multi-dimensionais que podem ser usados para cálculos e *backpropagation* durante o treinamento. Eles são os blocos básicos para criar e manipular modelos de aprendizado profundo no PyTorch.\n"
   ]
  },
  {
   "cell_type": "code",
   "execution_count": 28,
   "metadata": {
    "executionInfo": {
     "elapsed": 400,
     "status": "ok",
     "timestamp": 1683338125639,
     "user": {
      "displayName": "Fabio Alexandre Spanhol",
      "userId": "09187412498449397569"
     },
     "user_tz": 180
    },
    "id": "6gVIp9T8uiyQ"
   },
   "outputs": [],
   "source": [
    "X_train = torch.FloatTensor(X_train)  # Float\n",
    "X_test = torch.FloatTensor(X_test)\n",
    "\n",
    "y_train = torch.LongTensor(y_train)  # 64-bit integer\n",
    "y_test = torch.LongTensor(y_test)"
   ]
  },
  {
   "cell_type": "markdown",
   "metadata": {
    "id": "rB4CYdpguLmy"
   },
   "source": [
    "NN\n",
    "--\n"
   ]
  },
  {
   "cell_type": "code",
   "execution_count": 47,
   "metadata": {
    "executionInfo": {
     "elapsed": 403,
     "status": "ok",
     "timestamp": 1683342307703,
     "user": {
      "displayName": "Fabio Alexandre Spanhol",
      "userId": "09187412498449397569"
     },
     "user_tz": 180
    },
    "id": "w00DX4F3y3L8"
   },
   "outputs": [],
   "source": [
    "class NeuralNetworkClassificationModel(nn.Module):\n",
    "    \"\"\"\n",
    "    A neural network classification model for predicting the class of input data.\n",
    "    \n",
    "    Parameters\n",
    "    ----------\n",
    "    input_dim : int\n",
    "        The dimension of the input features.\n",
    "    output_dim : int\n",
    "        The number of classes in the output.\n",
    "    \n",
    "    Attributes\n",
    "    ----------\n",
    "    input_layer : torch.nn.Linear\n",
    "        The input layer of the neural network.\n",
    "    hidden_layer1 : torch.nn.Linear\n",
    "        The first hidden layer of the neural network.\n",
    "    output_layer : torch.nn.Linear\n",
    "        The output layer of the neural network.\n",
    "    relu : torch.nn.ReLU\n",
    "        The ReLU activation function.\n",
    "    \n",
    "    Methods\n",
    "    -------\n",
    "    forward(x)\n",
    "        Performs a forward pass of the neural network given an input tensor x.\n",
    "    \"\"\"  \n",
    "    def __init__(self,input_dim,output_dim):\n",
    "        super(NeuralNetworkClassificationModel,self).__init__()\n",
    "\n",
    "        self.input_layer    = nn.Linear(input_dim, 128)\n",
    "        self.hidden_layer1  = nn.Linear(128, 64)\n",
    "        self.output_layer   = nn.Linear(64, output_dim)\n",
    "        self.relu = nn.ReLU()\n",
    "    \n",
    "    \n",
    "    def forward(self, x):\n",
    "        \"\"\"\n",
    "        Performs a forward pass of the neural network given an input tensor x.\n",
    "        \n",
    "        Parameters\n",
    "        ----------\n",
    "        x : torch.Tensor\n",
    "            The input tensor of shape (batch_size, input_dim).\n",
    "        \n",
    "        Returns\n",
    "        -------\n",
    "        out : torch.Tensor\n",
    "            The output tensor of shape (batch_size, output_dim).\n",
    "        \"\"\"      \n",
    "        out =  self.relu(self.input_layer(x))\n",
    "        out =  self.relu(self.hidden_layer1(out))\n",
    "        out =  self.output_layer(out)\n",
    "        return out\n"
   ]
  },
  {
   "cell_type": "markdown",
   "metadata": {
    "id": "kVkGVOivxk85"
   },
   "source": [
    "Criação do modelo."
   ]
  },
  {
   "cell_type": "code",
   "execution_count": 48,
   "metadata": {
    "executionInfo": {
     "elapsed": 571,
     "status": "ok",
     "timestamp": 1683342312534,
     "user": {
      "displayName": "Fabio Alexandre Spanhol",
      "userId": "09187412498449397569"
     },
     "user_tz": 180
    },
    "id": "Gvny91ahxpDV"
   },
   "outputs": [],
   "source": [
    "input_dim  = 4   # We have 4 inputs: sepal_length, sepal_width, petal_length, petal_width\n",
    "output_dim = 3  # We have 3 inputs: 3 categories setosa,versicolor and virginica\n",
    "\n",
    "model = NeuralNetworkClassificationModel(input_dim, output_dim)"
   ]
  },
  {
   "cell_type": "markdown",
   "metadata": {
    "id": "or45sQ4OyAXR"
   },
   "source": [
    "Otimizador\n",
    "--\n",
    "\n",
    "Vamos configurar um otimizador no PyTorch.\n",
    "\n",
    "Como já vimos, algoritmos de otimização são usados para ajustar os pesos e vieses de uma NN durante o treinamento, a fim de minimizar a função de *loss*. \n",
    "\n",
    "\n",
    "- ``learning_rate`` é um hiperparâmetro que determina o quanto os pesos e vieses são ajustados em cada iteração do algoritmo de otimização. É um valor escalar escolhido tipicamente entre 0.0001 e 0.1, dependendo do problema.\n",
    "\n",
    "- ``nn.CrossEntropyLoss()`` é uma função de perda usada para problemas de classificação multiclasse, que é nosso caso aqui. Ela recebe a saída do modelo e as etiquetas verdadeiras como entrada, e calcula a diferença entre as probabilidades de classe previstas e as probabilidades de classe verdadeiras. O objetivo do algoritmo de otimização é minimizar essa função de perda.\n",
    "\n",
    "- ``torch.optim.Adam()`` é um otimizador que usa uma taxa de aprendizagem adaptativa. Ele recebe os parâmetros do modelo como entrada e define a taxa de aprendizagem usando o parâmetro ``lr``. O otimizador usa o gradiente da função de perda em relação aos parâmetros do modelo para atualizar os pesos e vieses durante o treinamento.\n"
   ]
  },
  {
   "cell_type": "code",
   "execution_count": 49,
   "metadata": {
    "executionInfo": {
     "elapsed": 402,
     "status": "ok",
     "timestamp": 1683342317548,
     "user": {
      "displayName": "Fabio Alexandre Spanhol",
      "userId": "09187412498449397569"
     },
     "user_tz": 180
    },
    "id": "JyHTKd7ryGr_"
   },
   "outputs": [],
   "source": [
    "# creating our optimizer and loss function object\n",
    "learning_rate = 0.01\n",
    "\n",
    "criterion = nn.CrossEntropyLoss()\n",
    "\n",
    "optimizer = torch.optim.Adam(model.parameters(),lr=learning_rate)"
   ]
  },
  {
   "cell_type": "markdown",
   "metadata": {
    "id": "xmiOo9ZPy7lz"
   },
   "source": [
    "Treinamento\n",
    "--\n",
    "\n",
    "Vamos criar uma função para receber os parâmetros e realizar o treinamento efetivamente."
   ]
  },
  {
   "cell_type": "code",
   "execution_count": 51,
   "metadata": {
    "executionInfo": {
     "elapsed": 410,
     "status": "ok",
     "timestamp": 1683342495591,
     "user": {
      "displayName": "Fabio Alexandre Spanhol",
      "userId": "09187412498449397569"
     },
     "user_tz": 180
    },
    "id": "eiPNlnF_y_yN"
   },
   "outputs": [],
   "source": [
    "def train_NN(model, optimizer, criterion, X_train, y_train, X_test, y_test, num_epochs, train_losses, test_losses):\n",
    "    \"\"\"\n",
    "    Train a neural network model for classification.\n",
    "\n",
    "    Parameters:\n",
    "    -----------\n",
    "    model : torch.nn.Module\n",
    "        A PyTorch neural network model.\n",
    "    optimizer : torch.optim.Optimizer\n",
    "        The optimization algorithm used to update the model parameters.\n",
    "    criterion : torch.nn.modules.loss._Loss\n",
    "        The loss function used to calculate the difference between the predicted and actual outputs.\n",
    "    X_train : numpy.ndarray\n",
    "        The training input data.\n",
    "    y_train : numpy.ndarray\n",
    "        The training output data.\n",
    "    X_test : numpy.ndarray\n",
    "        The testing input data.\n",
    "    y_test : numpy.ndarray\n",
    "        The testing output data.\n",
    "    num_epochs : int\n",
    "        The number of epochs to train the model.\n",
    "    train_losses : numpy.ndarray\n",
    "        An array to store the training losses for each epoch.\n",
    "    test_losses : numpy.ndarray\n",
    "        An array to store the testing losses for each epoch.\n",
    "\n",
    "    Returns:\n",
    "    --------\n",
    "    None\n",
    "    \"\"\"  \n",
    "    for epoch in range(num_epochs):\n",
    "        #clear out the gradients from the last step loss.backward()\n",
    "        optimizer.zero_grad()\n",
    "        \n",
    "        #forward feed\n",
    "        output_train = model(X_train)\n",
    "\n",
    "        #calculate the loss\n",
    "        loss_train = criterion(output_train, y_train)\n",
    "        \n",
    "        #backward propagation: calculate gradients\n",
    "        loss_train.backward()\n",
    "\n",
    "        #update the weights\n",
    "        optimizer.step()\n",
    "\n",
    "        \n",
    "        output_test = model(X_test)\n",
    "        loss_test = criterion(output_test,y_test)\n",
    "\n",
    "        train_losses[epoch] = loss_train.item()\n",
    "        test_losses[epoch] = loss_test.item()\n",
    "\n",
    "        if (epoch + 1) % 50 == 0:\n",
    "            print(f\"Epoch {epoch+1}/{num_epochs}, Train Loss: {loss_train.item():.4f}, Test Loss: {loss_test.item():.4f}\")"
   ]
  },
  {
   "cell_type": "markdown",
   "metadata": {
    "id": "BzYE_14xzIv7"
   },
   "source": [
    "Definição dos parâmetros para a função ``train_NN``."
   ]
  },
  {
   "cell_type": "code",
   "execution_count": 52,
   "metadata": {
    "executionInfo": {
     "elapsed": 419,
     "status": "ok",
     "timestamp": 1683342499999,
     "user": {
      "displayName": "Fabio Alexandre Spanhol",
      "userId": "09187412498449397569"
     },
     "user_tz": 180
    },
    "id": "n_iPFjTZyiqq"
   },
   "outputs": [],
   "source": [
    "num_epochs = 1000\n",
    "train_losses = np.zeros(num_epochs)\n",
    "test_losses  = np.zeros(num_epochs)"
   ]
  },
  {
   "cell_type": "markdown",
   "metadata": {
    "id": "3X8ubdNIyo9s"
   },
   "source": [
    "Treinamento efetivo chamando a função ``train_NN``."
   ]
  },
  {
   "cell_type": "code",
   "execution_count": 53,
   "metadata": {
    "colab": {
     "base_uri": "https://localhost:8080/"
    },
    "executionInfo": {
     "elapsed": 2510,
     "status": "ok",
     "timestamp": 1683342516133,
     "user": {
      "displayName": "Fabio Alexandre Spanhol",
      "userId": "09187412498449397569"
     },
     "user_tz": 180
    },
    "id": "b7hQP_2iyw2P",
    "outputId": "09469163-a0c9-42ed-e6e1-562b3e0819fa"
   },
   "outputs": [
    {
     "name": "stdout",
     "output_type": "stream",
     "text": [
      "Epoch 50/1000, Train Loss: 0.0310, Test Loss: 0.0038\n",
      "Epoch 100/1000, Train Loss: 0.0025, Test Loss: 0.0988\n",
      "Epoch 150/1000, Train Loss: 0.0005, Test Loss: 0.1345\n",
      "Epoch 200/1000, Train Loss: 0.0003, Test Loss: 0.1447\n",
      "Epoch 250/1000, Train Loss: 0.0002, Test Loss: 0.1511\n",
      "Epoch 300/1000, Train Loss: 0.0001, Test Loss: 0.1393\n",
      "Epoch 350/1000, Train Loss: 0.0001, Test Loss: 0.1390\n",
      "Epoch 400/1000, Train Loss: 0.0001, Test Loss: 0.1437\n",
      "Epoch 450/1000, Train Loss: 0.0001, Test Loss: 0.1471\n",
      "Epoch 500/1000, Train Loss: 0.0000, Test Loss: 0.1492\n",
      "Epoch 550/1000, Train Loss: 0.0000, Test Loss: 0.1516\n",
      "Epoch 600/1000, Train Loss: 0.0000, Test Loss: 0.1556\n",
      "Epoch 650/1000, Train Loss: 0.0000, Test Loss: 0.1580\n",
      "Epoch 700/1000, Train Loss: 0.0000, Test Loss: 0.1597\n",
      "Epoch 750/1000, Train Loss: 0.0000, Test Loss: 0.1616\n",
      "Epoch 800/1000, Train Loss: 0.0000, Test Loss: 0.1629\n",
      "Epoch 850/1000, Train Loss: 0.0000, Test Loss: 0.1638\n",
      "Epoch 900/1000, Train Loss: 0.0000, Test Loss: 0.1651\n",
      "Epoch 950/1000, Train Loss: 0.0000, Test Loss: 0.1657\n",
      "Epoch 1000/1000, Train Loss: 0.0000, Test Loss: 0.1663\n"
     ]
    }
   ],
   "source": [
    "train_NN(model, optimizer, criterion, X_train, y_train, X_test, y_test, num_epochs, train_losses, test_losses)"
   ]
  },
  {
   "cell_type": "markdown",
   "metadata": {
    "id": "v3JCNNxHy_y-"
   },
   "source": [
    "Avaliando a convergência.\n",
    "\n",
    "``train_losses`` e ``test_losses``são *arrays* que contêm os valores obtidos turando o treinamento e teste da NN, respectivamente.\n"
   ]
  },
  {
   "cell_type": "code",
   "execution_count": 54,
   "metadata": {
    "colab": {
     "base_uri": "https://localhost:8080/",
     "height": 834
    },
    "executionInfo": {
     "elapsed": 553,
     "status": "ok",
     "timestamp": 1683342522833,
     "user": {
      "displayName": "Fabio Alexandre Spanhol",
      "userId": "09187412498449397569"
     },
     "user_tz": 180
    },
    "id": "BP9k4nBPy--7",
    "outputId": "a1bc5e32-91c5-4273-bf1e-fdc108b5460e"
   },
   "outputs": [
    {
     "data": {
      "image/png": "[encoded data removed]",
      "text/plain": [
       "<Figure size 1000x1000 with 1 Axes>"
      ]
     },
     "metadata": {},
     "output_type": "display_data"
    }
   ],
   "source": [
    "plt.figure(figsize=(10,10))\n",
    "\n",
    "plt.plot(train_losses, label='train loss')\n",
    "plt.plot(test_losses, label='test loss')\n",
    "\n",
    "plt.legend()\n",
    "plt.show()"
   ]
  },
  {
   "cell_type": "markdown",
   "metadata": {
    "id": "pxme8nP6zgtO"
   },
   "source": [
    "Predição\n",
    "--\n",
    "\n",
    "As predições de treino e teste são geradas utilizando o modelo treinado, que é passado através do conjunto de dados de treino e teste. \n",
    "\n",
    "O bloco de código com ``torch.no_grad()`` é usado para desativar o rastreamento de gradientes, o que economiza memória e aumenta a eficiência da inferência. Isso porque durante a inferência, não há necessidade de calcular gradientes, já que não há ajuste de parâmetros. Portanto, o bloco de código é usado para reduzir a sobrecarga computacional. \n"
   ]
  },
  {
   "cell_type": "code",
   "execution_count": 55,
   "metadata": {
    "executionInfo": {
     "elapsed": 406,
     "status": "ok",
     "timestamp": 1683342952353,
     "user": {
      "displayName": "Fabio Alexandre Spanhol",
      "userId": "09187412498449397569"
     },
     "user_tz": 180
    },
    "id": "lPXznygPzfT7"
   },
   "outputs": [],
   "source": [
    "predictions_train = []\n",
    "predictions_test =  []\n",
    "\n",
    "with torch.no_grad():\n",
    "    predictions_train = model(X_train)\n",
    "    predictions_test = model(X_test)"
   ]
  },
  {
   "cell_type": "markdown",
   "metadata": {
    "id": "MrJPvqlCD-_D"
   },
   "source": [
    "As previsões geradas são armazenadas em ``predictions_train`` e ``predictions_test``.\n",
    "\n",
    "Vamos dar uma olhada no menor conjunto (``predictions_test``) e o respectivo rótulo (``y_test``)."
   ]
  },
  {
   "cell_type": "code",
   "execution_count": 57,
   "metadata": {
    "colab": {
     "base_uri": "https://localhost:8080/"
    },
    "executionInfo": {
     "elapsed": 413,
     "status": "ok",
     "timestamp": 1683342969980,
     "user": {
      "displayName": "Fabio Alexandre Spanhol",
      "userId": "09187412498449397569"
     },
     "user_tz": 180
    },
    "id": "JufrJbgkzxPM",
    "outputId": "673b231f-31c2-4cef-9a83-5ca12e6c6110"
   },
   "outputs": [
    {
     "name": "stdout",
     "output_type": "stream",
     "text": [
      "tensor([[ -6.8433,   9.2925,  -6.0378],\n",
      "        [ 32.5827,  20.6370, -68.2381],\n",
      "        [-31.1401, -28.8806,  40.6833],\n",
      "        [ -6.4000,   9.8512,  -6.6397],\n",
      "        [ -9.5212,   5.6237,  -1.8664],\n",
      "        [ 27.6086,  16.1418, -56.7743],\n",
      "        [  1.2141,  16.3946, -20.0695],\n",
      "        [-15.4521, -10.0211,  15.7994],\n",
      "        [-15.5408,   6.3444,   0.6554],\n",
      "        [ -2.9522,  18.6848, -17.2708],\n",
      "        [-10.8617,  -2.2234,   6.4593],\n",
      "        [ 28.0940,   8.3246, -49.5335],\n",
      "        [ 31.2003,  17.6997, -63.3960],\n",
      "        [ 28.4865,   9.7391, -51.3437],\n",
      "        [ 34.8878,  18.9019, -69.0438],\n",
      "        [ -1.3548,  14.4411, -15.3271],\n",
      "        [-19.3380, -15.9152,  24.1085],\n",
      "        [ -5.7873,  15.9200, -13.2989],\n",
      "        [ -5.1155,  14.6607, -11.8671],\n",
      "        [-20.6554, -17.2328,  25.7434],\n",
      "        [ 29.1333,   9.5085, -51.6117],\n",
      "        [-11.1061,  -2.2243,   7.1322],\n",
      "        [ 28.6686,  14.3787, -55.9704],\n",
      "        [-19.7461, -15.4094,  23.6879],\n",
      "        [ -4.6760,   0.5490,  -6.9262],\n",
      "        [-17.5897, -13.1788,  20.6390],\n",
      "        [-21.8273, -13.4950,  22.8015],\n",
      "        [-18.0262, -15.6354,  22.5003],\n",
      "        [ 26.3556,   8.7532, -47.5317],\n",
      "        [ 27.5605,   9.2038, -49.3737],\n",
      "        [ 37.2313,  14.7281, -67.8873],\n",
      "        [ 43.5362,  24.2442, -88.3202],\n",
      "        [ -2.4149,  17.7963, -17.5364],\n",
      "        [ 31.2913,  13.0392, -58.0102],\n",
      "        [ 31.5420,   8.1476, -53.4733],\n",
      "        [-16.7649,  -1.2359,   8.6639],\n",
      "        [ -1.8289,  16.4780, -16.5602],\n",
      "        [ 31.2710,  16.3019, -61.7696],\n",
      "        [ 33.7100,  17.0151, -65.6795],\n",
      "        [ 41.1625,  21.9701, -81.1892],\n",
      "        [-15.2728,  -3.6502,  10.3539],\n",
      "        [  2.5894,  13.5926, -19.4082],\n",
      "        [ -4.4268,  14.7556, -12.6515],\n",
      "        [ 35.8867,  20.1703, -72.3102],\n",
      "        [ 33.3080,  19.0332, -67.2756]])\n",
      "tensor([1, 0, 2, 1, 1, 0, 1, 2, 1, 1, 2, 0, 0, 0, 0, 1, 2, 1, 1, 2, 0, 2, 0, 2,\n",
      "        2, 2, 2, 2, 0, 0, 0, 0, 1, 0, 0, 2, 1, 0, 0, 0, 2, 1, 1, 0, 0])\n"
     ]
    }
   ],
   "source": [
    "# Check how the predicted outputs look like \n",
    "print(predictions_test)  \n",
    "\n",
    "print(y_test)"
   ]
  },
  {
   "cell_type": "markdown",
   "metadata": {
    "id": "9hEmVoRwEl0c"
   },
   "source": [
    " Acurácia do Modelo\n",
    "--"
   ]
  },
  {
   "cell_type": "code",
   "execution_count": 62,
   "metadata": {
    "executionInfo": {
     "elapsed": 423,
     "status": "ok",
     "timestamp": 1683343654629,
     "user": {
      "displayName": "Fabio Alexandre Spanhol",
      "userId": "09187412498449397569"
     },
     "user_tz": 180
    },
    "id": "ZNfw7oll0Ebt"
   },
   "outputs": [],
   "source": [
    "# taking argmax to compare with y_train or y_test\n",
    "\n",
    "def get_accuracy_multiclass(pred_arr, original_arr):\n",
    "    \n",
    "    if len(pred_arr)!=len(original_arr):\n",
    "        return False\n",
    "    \n",
    "    pred_arr = pred_arr.numpy()\n",
    "    original_arr = original_arr.numpy()\n",
    "    final_pred= []\n",
    "\n",
    "    # We'll get something like this in the pred_arr [32.5827,  20.6370, -68.2381]\n",
    "    # so will be taking the index of that argument which has the highest value here 32.5827 which corresponds to 0th index\n",
    "    for i in range(len(pred_arr)):\n",
    "        final_pred.append(np.argmax(pred_arr[i]))\n",
    "    \n",
    "    final_pred = np.array(final_pred)\n",
    "    count = 0\n",
    "    \n",
    "    # A simple comparison between the predicted_arr and the original_arr to get the final accuracy\n",
    "    for i in range(len(original_arr)):\n",
    "        if final_pred[i] == original_arr[i]:\n",
    "            count += 1\n",
    "\n",
    "    return count/len(final_pred), final_pred"
   ]
  },
  {
   "cell_type": "code",
   "execution_count": 63,
   "metadata": {
    "executionInfo": {
     "elapsed": 412,
     "status": "ok",
     "timestamp": 1683343658695,
     "user": {
      "displayName": "Fabio Alexandre Spanhol",
      "userId": "09187412498449397569"
     },
     "user_tz": 180
    },
    "id": "d6TGgiZW0HVX"
   },
   "outputs": [],
   "source": [
    "train_acc, _train_pred = get_accuracy_multiclass(predictions_train, y_train)\n",
    "test_acc, _test_pred  = get_accuracy_multiclass(predictions_test, y_test)"
   ]
  },
  {
   "cell_type": "code",
   "execution_count": 69,
   "metadata": {
    "colab": {
     "base_uri": "https://localhost:8080/"
    },
    "executionInfo": {
     "elapsed": 404,
     "status": "ok",
     "timestamp": 1683343835594,
     "user": {
      "displayName": "Fabio Alexandre Spanhol",
      "userId": "09187412498449397569"
     },
     "user_tz": 180
    },
    "id": "gn0AtFUE0PVi",
    "outputId": "d2846f28-d31e-4b15-cfeb-4d2067f6bf58"
   },
   "outputs": [
    {
     "name": "stdout",
     "output_type": "stream",
     "text": [
      "Training Accuracy: 1.00\n",
      "Test Accuracy: 0.98\n"
     ]
    }
   ],
   "source": [
    "print(f\"Training Accuracy: {train_acc:.2f}\")\n",
    "print(f\"Test Accuracy: {test_acc:.2f}\")"
   ]
  },
  {
   "cell_type": "markdown",
   "metadata": {
    "id": "nn98FYQ60hsq"
   },
   "source": [
    "C'est bon! 🥳 Uma taxa de  98%!"
   ]
  },
  {
   "cell_type": "code",
   "execution_count": 70,
   "metadata": {
    "colab": {
     "base_uri": "https://localhost:8080/"
    },
    "executionInfo": {
     "elapsed": 4,
     "status": "ok",
     "timestamp": 1683343839363,
     "user": {
      "displayName": "Fabio Alexandre Spanhol",
      "userId": "09187412498449397569"
     },
     "user_tz": 180
    },
    "id": "b-lsSz_PzPvI",
    "outputId": "e3679775-41f7-4c35-ba47-41aafb25eba5"
   },
   "outputs": [
    {
     "name": "stdout",
     "output_type": "stream",
     "text": [
      "Accuracy:0.98\n",
      "[[19  0  0]\n",
      " [ 0 13  0]\n",
      " [ 0  1 12]]\n"
     ]
    }
   ],
   "source": [
    "from sklearn import metrics\n",
    "from sklearn.metrics import accuracy_score\n",
    "\n",
    "# Accuracy\n",
    "acc = accuracy_score(_test_pred, y_test)\n",
    "print(f'Accuracy:{acc:.2f}')\n",
    "\n",
    "# Confusion matrix\n",
    "print(metrics.confusion_matrix(y_test, _test_pred))"
   ]
  },
  {
   "cell_type": "markdown",
   "metadata": {
    "id": "19XRuD4nU_9N"
   },
   "source": [
    "---\n",
    "<font color=\"#ffb31a\">Fabio Alexandre **SPANHOL**</font> <faspanhol@gmail.com>\n",
    "\n",
    "<font color=\"#cccccc\">*Updated: May 6th 2023*</font>"
   ]
  }
 ],
 "metadata": {
  "colab": {
   "provenance": [
    {
     "file_id": "1QkJf5qEsvYLlrdNlfS0rOm2e9Va9hPpU",
     "timestamp": 1682946536145
    },
    {
     "file_id": "1ITzaCZf5Td30iOUvtAuCweHqmPcRrzNI",
     "timestamp": 1660786880335
    }
   ]
  },
  "kernelspec": {
   "display_name": "Python 3 (ipykernel)",
   "language": "python",
   "name": "python3"
  },
  "language_info": {
   "codemirror_mode": {
    "name": "ipython",
    "version": 3
   },
   "file_extension": ".py",
   "mimetype": "text/x-python",
   "name": "python",
   "nbconvert_exporter": "python",
   "pygments_lexer": "ipython3",
   "version": "3.10.5"
  }
 },
 "nbformat": 4,
 "nbformat_minor": 4
}
