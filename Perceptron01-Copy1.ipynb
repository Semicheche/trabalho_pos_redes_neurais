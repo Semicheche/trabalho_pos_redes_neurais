{
 "cells": [
  {
   "cell_type": "markdown",
   "metadata": {
    "id": "veJFpmPDU_8_"
   },
   "source": [
    "# <font color=\"#ff9900\"> **Perceptron**</font>\n",
    "---\n",
    "\n",
    "O <font color=\"#66ffff\">**Perceptron**</font> de Rosenblatt (1957) foi a primeira *neural network* (NN) descrita com um algoritmo de treinamento, sendo, apesar de suas limitações, a pedra fundamental das modernas NNs. \n",
    "\n",
    "Essencialmente o modelo perceptron é um **classificador linear**. Isto é, o objetivo é encontrar um **\"hiperplano\"** (uma linha no espaço $2D$, um plano no espaço $3D$ ou outros análogos em espaços superiores) **separando os dados em duas classes**. \n",
    "\n",
    "Definição\n",
    "--\n",
    "Matematicamente um modelo Perceptron pode ser representado como $y = f(w \\cdot x + b)$, sendo que $x$ é um vetor de entrada (*input*) formado de valores reais, $w$ é o vetor de pesos (*weights*), $b$ o termo *bias* e f é a função de ativação. O *bias* é independente da entrada e desloca o limite de decisão da sua origem.\n",
    "\n",
    "A função de ativação $f$ é uma função *threshold* que mapeia as entradas $x$ em um valor de saída que é um valor binário único (1 ou 0), da forma\n",
    "\\begin{align}\n",
    "        f(x) = \\left\\{\n",
    "        \\begin{array}{cl}\n",
    "        1 & if \\ w  \\cdot x + b \\gt 0,  \\\\\n",
    "        0 & otherwise\n",
    "        \\end{array}\n",
    "        \\right.\n",
    "\\end{align}\n",
    "\n",
    "$w \\cdot x$ é o produto escalar (*dot product*), isto é, $ \\sum_{i=1}^m w_i x_i$, onde $m$ é o número de entradas do perceptron.\n",
    "\n",
    "\n",
    "Algoritmo de Aprendizado\n",
    "--\n",
    "O algoritmo de treinamento do Perceptron (de uma camada) foi proposto por Rosenblatt e bastante inspirado na regra Hebb (*Hebbian learning*). Em seu livro *The Organization of Behavior* (1949), Donald Olding Hebb sugeriu que quando um neurônio biológico dispara outro neurônio frequentemente a conexão entre esses dois neurônios é fortalecida.\n",
    "\n",
    "Perceptrons são treinados usando uma variante dessa regra levando em consideração o erro cometido pela rede quando ela faz uma predição. A regra de aprendizado do Perceptron reforça as conexões ajudando a reduzir o erro.\n",
    "\n",
    "O algoritmo de aprendizado pode ser sumarizado nos seguintes passos:\n",
    "\n",
    "1. Inicialize os pesos e *bias* para valores aleatórios pequenos. \n",
    "\n",
    "2. Para cada par entrada-saída $(x, d)$, compute a saída predita $y$ fazendo $f(w \\cdot x + b)$. \n",
    "\n",
    "3. Atualize os pesos e *bias* baseado no erro $e = d - y$ fazendo, $w = w + \\eta \\cdot e \\cdot x $ e $b = b + \\eta \\cdot e$\n",
    "\n",
    "\n",
    "Sendo $\\eta$ a taxa de aprendizado (*learning rate*), uma pequena constante positiva que controla o incremento (*step size*) das atualizações. \n",
    "\n",
    "4. Repita os passos 2 e 3 por um número fixo de iterações ou até o erro convergir.\n",
    "\n",
    "---\n",
    "\n",
    "> 💡 **Observação**: Para executar a célula de código (aquelas marcadas com `` []``), posicione dentro dela e pressione ``Ctrl``+``Enter``. Deve-se respeitar a **sequência** de execução das células.\n",
    "\n",
    "---"
   ]
  },
  {
   "cell_type": "markdown",
   "metadata": {
    "id": "9zTelMBgX32Q"
   },
   "source": [
    "Importação dos Módulos\n",
    "--\n",
    "\n",
    "Antes de mais nada vamos importar as bibliotecas necessárias.\n",
    "\n",
    "A primeira é ``NumPy`` (https://numpy.org/). NumPy é um pacote fundamental para computação científica com Python, sendo uma biblioteca bastante madura otimizada para manipular *arrays* multidimensionais gigantes. Seu desenvolvimento é comunitário e possui licença BSD.\n",
    "\n",
    "Já ``pandas``  (https://pandas.pydata.org/) utilizaremos brevemente para análise exploratório de dados.\n",
    "\n",
    "Finalmente vamos importar a biblioteca para auxiliar na visualização de gráficos. "
   ]
  },
  {
   "cell_type": "code",
   "execution_count": null,
   "metadata": {
    "colab": {
     "base_uri": "https://localhost:8080/"
    },
    "executionInfo": {
     "elapsed": 458,
     "status": "ok",
     "timestamp": 1682992384365,
     "user": {
      "displayName": "Fabio Alexandre Spanhol",
      "userId": "09187412498449397569"
     },
     "user_tz": 180
    },
    "id": "vJ1jaV0KYDhQ",
    "outputId": "ce650aaf-59e0-4bef-8670-97639a5c4329"
   },
   "outputs": [
    {
     "name": "stdout",
     "output_type": "stream",
     "text": [
      "numpy:1.22.4\n",
      "pandas:1.5.3\n"
     ]
    }
   ],
   "source": [
    "import numpy as np\n",
    "\n",
    "import pandas as pd\n",
    "\n",
    "import matplotlib.pyplot as plt\n",
    "\n",
    "# versions\n",
    "print(f'numpy:{np.__version__}\\npandas:{pd.__version__}')\n"
   ]
  },
  {
   "cell_type": "markdown",
   "metadata": {
    "id": "4xwQ-P0MQIk9"
   },
   "source": [
    "Implementação do Perceptron\n",
    "--\n",
    "\n",
    "Vamos implementar uma classe ``Perceptron`` para representar um modelo Perceptron. Inicialmente definimos os atributos constituintes do modelo. Os hiperparâmetros ``learning_rate`` e ``epochs`` são usados no algoritmo de treinamento. A taxa de aprendizagem (``learning_rate``) é usada para limitar a quantidade que cada peso é corrigido cada vez que é atualizado. Já iterações ou épocas (``epochs``) indica o número de vezes para executar passando pelos dados de treinamento enquanto atualiza o peso.\n",
    "\n",
    "```python\n",
    "class Perceptron:\n",
    "    \n",
    "    def __init__(self, learning_rate=0.1, epochs=100):\n",
    "        self.weights = None\n",
    "        self.bias = None\n",
    "        self.learning_rate = learning_rate\n",
    "        self.epochs = epochs\n",
    "```\n"
   ]
  },
  {
   "cell_type": "markdown",
   "metadata": {
    "id": "NdUWgdAxUaXc"
   },
   "source": [
    "Ainda na classe precisamos definir a função de ativação que computa a saída do Perceptron dado uma entrada.\n",
    "\n",
    "Funções de ativação são uma parte essencial dos Perceptrons e redes neurais porque elas permitem que o modelo aprenda e tome decisões com base nos dados de entrada. Elas também ajudam a introduzir não-linearidade no modelo, o que é necessário para aprender relacionamentos mais complexos nos dados.\n",
    "\n",
    "Alguns tipos comuns de funções de ativação usados nos Perceptrons são Sign, o Heaviside, Sigmoid, ReLU, etc.\n",
    "\n",
    "\n",
    "Nesta implementação utilizaremos a função ``heaviside``, que retorna $1$ se a entrada for $ \\ge 0$ e $0$ caso contrário.\n",
    "                \n",
    "\n",
    "```python\n",
    "    # heaviside activation function\n",
    "    def activation(self, z):\n",
    "        return np.heaviside(z, 0) # haviside(z) heaviside -> activation\n",
    "```"
   ]
  },
  {
   "cell_type": "markdown",
   "metadata": {
    "id": "QhSabrXrUWE0"
   },
   "source": [
    "Na sequência o algoritmo de treinamento. Vamos manter a nomenclatura da ``Scikit-learn``, portanto nossa função será chamada ``fit``.\n",
    "\n",
    "O algoritmo de treinamento é chamado **Descida do Gradiente** (*Gradient Descent Algorithm*). Descida do Gradiente é o processo de minimização de uma função seguindo os gradientes da função de custo.\n",
    "\n",
    "Isso envolve conhecer a forma do custo, bem como a derivada, para que a partir de um determinado ponto, você saiba o gradiente e possa mover-se nessa direção, por exemplo, descendo em direção ao valor mínimo.\n",
    "\n",
    "Em ML, podemos usar uma técnica que avalia e atualiza os pesos a cada iteração chamada descida do gradiente estocástico (*stochastic gradient descent*) para minimizar o erro de um modelo em nossos dados de treinamento.\n",
    "\n",
    "Esse algoritmo de otimização funciona baseando-se no fato de que cada instância de treinamento é apresentada ao modelo uma de cada vez. O modelo faz uma previsão para uma instância de treinamento, o erro é calculado e o modelo é atualizado para reduzir o erro na próxima previsão. Assim tal procedimento pode ser usado para encontrar o conjunto de pesos em um modelo que resultem no menor erro para o modelo nos dados de treinamento.\n",
    "\n",
    "\n",
    "\n",
    "```python\n",
    "    def fit(self, X, y):\n",
    "    \n",
    "        n_features = X.shape[1]\n",
    "        \n",
    "        # Initializing weights and bias\n",
    "        self.weights = np.zeros((n_features))\n",
    "        self.bias = 0\n",
    "        \n",
    "        # Iterating until the number of epochs\n",
    "        for epoch in range(self.epochs):\n",
    "            \n",
    "            # Traversing through the entire training set\n",
    "            for i in range(len(X)):\n",
    "                z = np.dot(X, self.weights) + self.bias # Finding the dot product and adding the bias\n",
    "                y_pred = self.activation(z) # Passing through an activation function\n",
    "                \n",
    "                # Updating weights and bias\n",
    "                self.weights += self.learning_rate * (y[i] - y_pred[i]) * X[i]\n",
    "                self.bias += self.learning_rate * (y[i] - y_pred[i])\n",
    "                \n",
    "        return self.weights, self.bias\n",
    "```"
   ]
  },
  {
   "cell_type": "markdown",
   "metadata": {
    "id": "3CCQETsiUocj"
   },
   "source": [
    "Finalmente a predição, no método ``predict``.\n",
    "\n",
    "```python\n",
    "    def predict(self, X):\n",
    "\n",
    "        z = np.dot(X, self.weights) + self.bias\n",
    "        return self.activation(z)\n",
    "```"
   ]
  },
  {
   "cell_type": "markdown",
   "metadata": {
    "id": "0ve71rTSRHML"
   },
   "source": [
    "Juntando tudo e adicionando a documentação interna."
   ]
  },
  {
   "cell_type": "code",
   "execution_count": null,
   "metadata": {
    "id": "56L33GmNRGzh"
   },
   "outputs": [],
   "source": [
    "class Perceptron:\n",
    "    \"\"\"\n",
    "    A Perceptron is a type of artificial neural network that can be used for binary classification problems.\n",
    "    \n",
    "    This class implements a Perceptron model using the heaviside activation function and a gradient descent-based\n",
    "    algorithm for training. The model can be used for both training and prediction tasks.\n",
    "    \n",
    "    Parameters:\n",
    "    -----------\n",
    "    learning_rate : float\n",
    "        The learning rate controls the step size of the gradient descent algorithm during training. It determines\n",
    "        how quickly the model learns from the training data. A smaller learning rate may result in slower convergence,\n",
    "        while a larger learning rate may cause the algorithm to overshoot the minimum of the loss function.\n",
    "        \n",
    "    epochs : int\n",
    "        The number of epochs specifies how many times the entire training dataset should be passed through the model\n",
    "        during training. One epoch consists of iterating through all the training examples once. Increasing the number\n",
    "        of epochs may improve the performance of the model, but also increases the training time.\n",
    "    \"\"\"\n",
    "\n",
    "    def __init__(self, learning_rate=0.1, epochs=100):\n",
    "        \"\"\"\n",
    "        Initialize a new Perceptron instance with the specified learning rate and number of epochs.\n",
    "        \n",
    "        Parameters:\n",
    "        -----------\n",
    "        learning_rate : float\n",
    "            The learning rate controls the step size of the gradient descent algorithm during training.\n",
    "            \n",
    "        epochs : int\n",
    "            The number of epochs specifies how many times the entire training dataset should be passed through the\n",
    "            model during training.\n",
    "        \"\"\"      \n",
    "        self.weights = None\n",
    "        self.bias = None\n",
    "        self.learning_rate = learning_rate\n",
    "        self.epochs = epochs\n",
    "\n",
    "\n",
    "    def activation(self, z):\n",
    "        \"\"\"\n",
    "        The activation function computes the output of the Perceptron given its input.\n",
    "        \n",
    "        This implementation uses the heaviside activation function, which returns 1 if the input is greater than or\n",
    "        equal to zero, and 0 otherwise.\n",
    "        \n",
    "        Parameters:\n",
    "        -----------\n",
    "        z : float\n",
    "            The input to the activation function, which is the dot product of the input features and the model weights\n",
    "            plus the bias term.\n",
    "            \n",
    "        Returns:\n",
    "        --------\n",
    "        float\n",
    "            The output of the activation function.\n",
    "        \"\"\"      \n",
    "        return np.heaviside(z, 0) # haviside(z) heaviside -> activation\n",
    "\n",
    "\n",
    "    def fit(self, X, y):\n",
    "        \"\"\"\n",
    "        Train the Perceptron on the provided training data using the gradient descent algorithm.\n",
    "        \n",
    "        This method updates the model weights and bias term using the specified learning rate and number of epochs,\n",
    "        until the algorithm converges or the maximum number of epochs is reached.\n",
    "        \n",
    "        Parameters:\n",
    "        -----------\n",
    "        X : numpy.ndarray\n",
    "            A 2D array of shape (n_samples, n_features) containing the input features for each training example.\n",
    "            \n",
    "        y : numpy.ndarray\n",
    "            A 1D array of shape (n_samples,) containing the target binary class labels for each training example.\n",
    "            The values should be either 0 or 1.\n",
    "            \n",
    "        Returns:\n",
    "        --------\n",
    "        tuple\n",
    "            A tuple containing the trained weights and bias term of the Perceptron.\n",
    "        \"\"\"      \n",
    "        n_features = X.shape[1]\n",
    "        \n",
    "        # Initializing weights and bias\n",
    "        self.weights = np.zeros((n_features))\n",
    "        self.bias = 0\n",
    "        \n",
    "        # Iterating until the number of epochs\n",
    "        for epoch in range(self.epochs):\n",
    "            \n",
    "            # Traversing through the entire training set\n",
    "            for i in range(len(X)):\n",
    "                z = np.dot(X, self.weights) + self.bias # Finding the dot product and adding the bias\n",
    "                y_pred = self.activation(z) # Passing through an activation function\n",
    "                \n",
    "                #Updating weights and bias\n",
    "                self.weights += self.learning_rate * (y[i] - y_pred[i]) * X[i]\n",
    "                self.bias += self.learning_rate * (y[i] - y_pred[i])\n",
    "                \n",
    "        return self.weights, self.bias\n",
    "\n",
    "\n",
    "    def predict(self, X):\n",
    "        \"\"\"\n",
    "        Predicts the binary class label for input data X.\n",
    "          \n",
    "        Parameters:\n",
    "        -----------\n",
    "        X : ndarray, shape (n_samples, n_features)\n",
    "            The input data.\n",
    "        \n",
    "        Returns:\n",
    "        --------\n",
    "        ndarray, shape (n_samples,)\n",
    "            The binary class labels predicted by the perceptron.\n",
    "        \"\"\"\n",
    "        z = np.dot(X, self.weights) + self.bias\n",
    "        return self.activation(z)               "
   ]
  },
  {
   "cell_type": "markdown",
   "metadata": {
    "id": "q5CLe1LvPM8j"
   },
   "source": [
    "Importação de um *Dataset* e Análise Exploratória\n",
    "--\n",
    "\n",
    "``Scikit-learn`` (https://scikit-learn.org/stable/) possui uma série de *datasets built-in* que podem ser usados para testar os modelos de ML, seja com propósitos educacionais ou mesmo de *benchmarking*. Um de tais *datasets* é o Iris, que contém características da planta íris (*Iris sp.*), mostrada a seguir. \n",
    "\n",
    "<img src=\"https://drive.google.com/uc?id=1CFPpZphJaaGNS9rTZKS5wurnkOX0JCbU\" width=\"200\" height=\"auto\">\n",
    "\n",
    "O dataset é originário do <font color=\"#66ffff\">UC Irvine Machine Learning Repository</font> (https://archive.ics.uci.edu/ml/index.php).\n",
    "Os dados consistem em 150 amostras (*samples*) de três espécies de íris. \n",
    "Na verdade, as três espécies são visualmente muito parecidas, mas diferenças em medidas das pétalas e sépalas permitem distinguir as espécies entre si, isto é, **classificar**.\n",
    "\n",
    "Este dataset é um exemplo clássico de aprendizado supervionado. Cada linha representa uma observação ou instância. Como descritor temos o comprimento (*length*) e largura (*width*) da petála (*petal*) e da sépala (*sepal*). A saída esperada é uma das espécies: Iris-setosa, Iris-versicolor ou Iris-virginica. \n",
    "\n",
    "<img src=\"https://drive.google.com/uc?id=16rE8raXoby8NqA0oixGXV8H22BXLf4Fe\" width=\"auto\" height=\"auto\">\n",
    "\n"
   ]
  },
  {
   "cell_type": "code",
   "execution_count": null,
   "metadata": {
    "colab": {
     "base_uri": "https://localhost:8080/"
    },
    "executionInfo": {
     "elapsed": 1727,
     "status": "ok",
     "timestamp": 1682992405729,
     "user": {
      "displayName": "Fabio Alexandre Spanhol",
      "userId": "09187412498449397569"
     },
     "user_tz": 180
    },
    "id": "-4v5aGCYMXYv",
    "outputId": "4d54a687-3c72-4b82-9851-0946ec72a2f0"
   },
   "outputs": [
    {
     "name": "stdout",
     "output_type": "stream",
     "text": [
      "dict_keys(['data', 'target', 'frame', 'target_names', 'DESCR', 'feature_names', 'filename', 'data_module'])\n"
     ]
    }
   ],
   "source": [
    "from sklearn import datasets\n",
    "\n",
    "iris = datasets.load_iris()  # Loading the dataset iris\n",
    "\n",
    "print(iris.keys())\n"
   ]
  },
  {
   "cell_type": "markdown",
   "metadata": {
    "id": "mmjaLxqAXcHf"
   },
   "source": [
    "Para realizarmos uma exploração, vamos converter o ``array`` numpy em um ``DataFrame`` Pandas, selecionando alguns campos de interesse."
   ]
  },
  {
   "cell_type": "code",
   "execution_count": null,
   "metadata": {
    "colab": {
     "base_uri": "https://localhost:8080/",
     "height": 206
    },
    "executionInfo": {
     "elapsed": 256,
     "status": "ok",
     "timestamp": 1682992454236,
     "user": {
      "displayName": "Fabio Alexandre Spanhol",
      "userId": "09187412498449397569"
     },
     "user_tz": 180
    },
    "id": "M6tGN0lJXbjO",
    "outputId": "68c3a3cf-97e7-435e-9f72-753ba2303f53"
   },
   "outputs": [
    {
     "data": {
      "text/html": [
       "\n",
       "  <div id=\"df-0bfc19a4-bfce-4205-89eb-36ea534ebbf1\">\n",
       "    <div class=\"colab-df-container\">\n",
       "      <div>\n",
       "<style scoped>\n",
       "    .dataframe tbody tr th:only-of-type {\n",
       "        vertical-align: middle;\n",
       "    }\n",
       "\n",
       "    .dataframe tbody tr th {\n",
       "        vertical-align: top;\n",
       "    }\n",
       "\n",
       "    .dataframe thead th {\n",
       "        text-align: right;\n",
       "    }\n",
       "</style>\n",
       "<table border=\"1\" class=\"dataframe\">\n",
       "  <thead>\n",
       "    <tr style=\"text-align: right;\">\n",
       "      <th></th>\n",
       "      <th>sepal length (cm)</th>\n",
       "      <th>sepal width (cm)</th>\n",
       "      <th>petal length (cm)</th>\n",
       "      <th>petal width (cm)</th>\n",
       "      <th>target</th>\n",
       "    </tr>\n",
       "  </thead>\n",
       "  <tbody>\n",
       "    <tr>\n",
       "      <th>0</th>\n",
       "      <td>5.1</td>\n",
       "      <td>3.5</td>\n",
       "      <td>1.4</td>\n",
       "      <td>0.2</td>\n",
       "      <td>0.0</td>\n",
       "    </tr>\n",
       "    <tr>\n",
       "      <th>1</th>\n",
       "      <td>4.9</td>\n",
       "      <td>3.0</td>\n",
       "      <td>1.4</td>\n",
       "      <td>0.2</td>\n",
       "      <td>0.0</td>\n",
       "    </tr>\n",
       "    <tr>\n",
       "      <th>2</th>\n",
       "      <td>4.7</td>\n",
       "      <td>3.2</td>\n",
       "      <td>1.3</td>\n",
       "      <td>0.2</td>\n",
       "      <td>0.0</td>\n",
       "    </tr>\n",
       "    <tr>\n",
       "      <th>3</th>\n",
       "      <td>4.6</td>\n",
       "      <td>3.1</td>\n",
       "      <td>1.5</td>\n",
       "      <td>0.2</td>\n",
       "      <td>0.0</td>\n",
       "    </tr>\n",
       "    <tr>\n",
       "      <th>4</th>\n",
       "      <td>5.0</td>\n",
       "      <td>3.6</td>\n",
       "      <td>1.4</td>\n",
       "      <td>0.2</td>\n",
       "      <td>0.0</td>\n",
       "    </tr>\n",
       "  </tbody>\n",
       "</table>\n",
       "</div>\n",
       "      <button class=\"colab-df-convert\" onclick=\"convertToInteractive('df-0bfc19a4-bfce-4205-89eb-36ea534ebbf1')\"\n",
       "              title=\"Convert this dataframe to an interactive table.\"\n",
       "              style=\"display:none;\">\n",
       "        \n",
       "  <svg xmlns=\"http://www.w3.org/2000/svg\" height=\"24px\"viewBox=\"0 0 24 24\"\n",
       "       width=\"24px\">\n",
       "    <path d=\"M0 0h24v24H0V0z\" fill=\"none\"/>\n",
       "    <path d=\"M18.56 5.44l.94 2.06.94-2.06 2.06-.94-2.06-.94-.94-2.06-.94 2.06-2.06.94zm-11 1L8.5 8.5l.94-2.06 2.06-.94-2.06-.94L8.5 2.5l-.94 2.06-2.06.94zm10 10l.94 2.06.94-2.06 2.06-.94-2.06-.94-.94-2.06-.94 2.06-2.06.94z\"/><path d=\"M17.41 7.96l-1.37-1.37c-.4-.4-.92-.59-1.43-.59-.52 0-1.04.2-1.43.59L10.3 9.45l-7.72 7.72c-.78.78-.78 2.05 0 2.83L4 21.41c.39.39.9.59 1.41.59.51 0 1.02-.2 1.41-.59l7.78-7.78 2.81-2.81c.8-.78.8-2.07 0-2.86zM5.41 20L4 18.59l7.72-7.72 1.47 1.35L5.41 20z\"/>\n",
       "  </svg>\n",
       "      </button>\n",
       "      \n",
       "  <style>\n",
       "    .colab-df-container {\n",
       "      display:flex;\n",
       "      flex-wrap:wrap;\n",
       "      gap: 12px;\n",
       "    }\n",
       "\n",
       "    .colab-df-convert {\n",
       "      background-color: #E8F0FE;\n",
       "      border: none;\n",
       "      border-radius: 50%;\n",
       "      cursor: pointer;\n",
       "      display: none;\n",
       "      fill: #1967D2;\n",
       "      height: 32px;\n",
       "      padding: 0 0 0 0;\n",
       "      width: 32px;\n",
       "    }\n",
       "\n",
       "    .colab-df-convert:hover {\n",
       "      background-color: #E2EBFA;\n",
       "      box-shadow: 0px 1px 2px rgba(60, 64, 67, 0.3), 0px 1px 3px 1px rgba(60, 64, 67, 0.15);\n",
       "      fill: #174EA6;\n",
       "    }\n",
       "\n",
       "    [theme=dark] .colab-df-convert {\n",
       "      background-color: #3B4455;\n",
       "      fill: #D2E3FC;\n",
       "    }\n",
       "\n",
       "    [theme=dark] .colab-df-convert:hover {\n",
       "      background-color: #434B5C;\n",
       "      box-shadow: 0px 1px 3px 1px rgba(0, 0, 0, 0.15);\n",
       "      filter: drop-shadow(0px 1px 2px rgba(0, 0, 0, 0.3));\n",
       "      fill: #FFFFFF;\n",
       "    }\n",
       "  </style>\n",
       "\n",
       "      <script>\n",
       "        const buttonEl =\n",
       "          document.querySelector('#df-0bfc19a4-bfce-4205-89eb-36ea534ebbf1 button.colab-df-convert');\n",
       "        buttonEl.style.display =\n",
       "          google.colab.kernel.accessAllowed ? 'block' : 'none';\n",
       "\n",
       "        async function convertToInteractive(key) {\n",
       "          const element = document.querySelector('#df-0bfc19a4-bfce-4205-89eb-36ea534ebbf1');\n",
       "          const dataTable =\n",
       "            await google.colab.kernel.invokeFunction('convertToInteractive',\n",
       "                                                     [key], {});\n",
       "          if (!dataTable) return;\n",
       "\n",
       "          const docLinkHtml = 'Like what you see? Visit the ' +\n",
       "            '<a target=\"_blank\" href=https://colab.research.google.com/notebooks/data_table.ipynb>data table notebook</a>'\n",
       "            + ' to learn more about interactive tables.';\n",
       "          element.innerHTML = '';\n",
       "          dataTable['output_type'] = 'display_data';\n",
       "          await google.colab.output.renderOutput(dataTable, element);\n",
       "          const docLink = document.createElement('div');\n",
       "          docLink.innerHTML = docLinkHtml;\n",
       "          element.appendChild(docLink);\n",
       "        }\n",
       "      </script>\n",
       "    </div>\n",
       "  </div>\n",
       "  "
      ],
      "text/plain": [
       "   sepal length (cm)  sepal width (cm)  petal length (cm)  petal width (cm)  \\\n",
       "0                5.1               3.5                1.4               0.2   \n",
       "1                4.9               3.0                1.4               0.2   \n",
       "2                4.7               3.2                1.3               0.2   \n",
       "3                4.6               3.1                1.5               0.2   \n",
       "4                5.0               3.6                1.4               0.2   \n",
       "\n",
       "   target  \n",
       "0     0.0  \n",
       "1     0.0  \n",
       "2     0.0  \n",
       "3     0.0  \n",
       "4     0.0  "
      ]
     },
     "execution_count": 4,
     "metadata": {},
     "output_type": "execute_result"
    }
   ],
   "source": [
    "iris = pd.DataFrame(\n",
    "    data= np.c_[iris['data'], iris['target']],\n",
    "    columns= iris['feature_names'] + ['target']\n",
    "    )\n",
    "\n",
    "iris.head(5)  # first 5 instances (rows)"
   ]
  },
  {
   "cell_type": "markdown",
   "metadata": {
    "id": "jNrFDbONX3F1"
   },
   "source": [
    "Como podemos observar, o ``DataFrame``gerado contém o comprimento (``length``) e largura (``width``) em centímetors das sépala (``sepal``) e pétala (``petal``), respectivamente. Também há uma coluna ``target`` indicando a codificação numérica de cada espécie (classe): Setosa(0), Versicolor(1) e Virginica(2)."
   ]
  },
  {
   "cell_type": "markdown",
   "metadata": {
    "id": "-QXEg8CYYLm3"
   },
   "source": [
    "Vamos adicionar o nome da classe (espécie) para fins de visualizaçãp/"
   ]
  },
  {
   "cell_type": "code",
   "execution_count": null,
   "metadata": {
    "id": "LgTR9_TXX4TP"
   },
   "outputs": [],
   "source": [
    "species = []\n",
    "\n",
    "for i in range(len(iris['target'])):\n",
    "    if iris['target'][i] == 0:\n",
    "        species.append(\"setosa\")\n",
    "    elif iris['target'][i] == 1:\n",
    "        species.append('versicolor')\n",
    "    else:\n",
    "        species.append('virginica')\n",
    "\n",
    "\n",
    "iris['species'] = species"
   ]
  },
  {
   "cell_type": "markdown",
   "metadata": {
    "id": "3conu0HGpIvU"
   },
   "source": [
    "Exibindo novamente 5 linhas."
   ]
  },
  {
   "cell_type": "code",
   "execution_count": null,
   "metadata": {
    "colab": {
     "base_uri": "https://localhost:8080/",
     "height": 206
    },
    "executionInfo": {
     "elapsed": 253,
     "status": "ok",
     "timestamp": 1682992529020,
     "user": {
      "displayName": "Fabio Alexandre Spanhol",
      "userId": "09187412498449397569"
     },
     "user_tz": 180
    },
    "id": "LBCcAKEgYT-j",
    "outputId": "2af4d500-e5b2-42e5-ba3a-c2f883eb9acc"
   },
   "outputs": [
    {
     "data": {
      "text/html": [
       "\n",
       "  <div id=\"df-1a0a443d-a133-484b-9c08-03a4e2908630\">\n",
       "    <div class=\"colab-df-container\">\n",
       "      <div>\n",
       "<style scoped>\n",
       "    .dataframe tbody tr th:only-of-type {\n",
       "        vertical-align: middle;\n",
       "    }\n",
       "\n",
       "    .dataframe tbody tr th {\n",
       "        vertical-align: top;\n",
       "    }\n",
       "\n",
       "    .dataframe thead th {\n",
       "        text-align: right;\n",
       "    }\n",
       "</style>\n",
       "<table border=\"1\" class=\"dataframe\">\n",
       "  <thead>\n",
       "    <tr style=\"text-align: right;\">\n",
       "      <th></th>\n",
       "      <th>sepal length (cm)</th>\n",
       "      <th>sepal width (cm)</th>\n",
       "      <th>petal length (cm)</th>\n",
       "      <th>petal width (cm)</th>\n",
       "      <th>target</th>\n",
       "      <th>species</th>\n",
       "    </tr>\n",
       "  </thead>\n",
       "  <tbody>\n",
       "    <tr>\n",
       "      <th>0</th>\n",
       "      <td>5.1</td>\n",
       "      <td>3.5</td>\n",
       "      <td>1.4</td>\n",
       "      <td>0.2</td>\n",
       "      <td>0.0</td>\n",
       "      <td>setosa</td>\n",
       "    </tr>\n",
       "    <tr>\n",
       "      <th>1</th>\n",
       "      <td>4.9</td>\n",
       "      <td>3.0</td>\n",
       "      <td>1.4</td>\n",
       "      <td>0.2</td>\n",
       "      <td>0.0</td>\n",
       "      <td>setosa</td>\n",
       "    </tr>\n",
       "    <tr>\n",
       "      <th>2</th>\n",
       "      <td>4.7</td>\n",
       "      <td>3.2</td>\n",
       "      <td>1.3</td>\n",
       "      <td>0.2</td>\n",
       "      <td>0.0</td>\n",
       "      <td>setosa</td>\n",
       "    </tr>\n",
       "    <tr>\n",
       "      <th>3</th>\n",
       "      <td>4.6</td>\n",
       "      <td>3.1</td>\n",
       "      <td>1.5</td>\n",
       "      <td>0.2</td>\n",
       "      <td>0.0</td>\n",
       "      <td>setosa</td>\n",
       "    </tr>\n",
       "    <tr>\n",
       "      <th>4</th>\n",
       "      <td>5.0</td>\n",
       "      <td>3.6</td>\n",
       "      <td>1.4</td>\n",
       "      <td>0.2</td>\n",
       "      <td>0.0</td>\n",
       "      <td>setosa</td>\n",
       "    </tr>\n",
       "  </tbody>\n",
       "</table>\n",
       "</div>\n",
       "      <button class=\"colab-df-convert\" onclick=\"convertToInteractive('df-1a0a443d-a133-484b-9c08-03a4e2908630')\"\n",
       "              title=\"Convert this dataframe to an interactive table.\"\n",
       "              style=\"display:none;\">\n",
       "        \n",
       "  <svg xmlns=\"http://www.w3.org/2000/svg\" height=\"24px\"viewBox=\"0 0 24 24\"\n",
       "       width=\"24px\">\n",
       "    <path d=\"M0 0h24v24H0V0z\" fill=\"none\"/>\n",
       "    <path d=\"M18.56 5.44l.94 2.06.94-2.06 2.06-.94-2.06-.94-.94-2.06-.94 2.06-2.06.94zm-11 1L8.5 8.5l.94-2.06 2.06-.94-2.06-.94L8.5 2.5l-.94 2.06-2.06.94zm10 10l.94 2.06.94-2.06 2.06-.94-2.06-.94-.94-2.06-.94 2.06-2.06.94z\"/><path d=\"M17.41 7.96l-1.37-1.37c-.4-.4-.92-.59-1.43-.59-.52 0-1.04.2-1.43.59L10.3 9.45l-7.72 7.72c-.78.78-.78 2.05 0 2.83L4 21.41c.39.39.9.59 1.41.59.51 0 1.02-.2 1.41-.59l7.78-7.78 2.81-2.81c.8-.78.8-2.07 0-2.86zM5.41 20L4 18.59l7.72-7.72 1.47 1.35L5.41 20z\"/>\n",
       "  </svg>\n",
       "      </button>\n",
       "      \n",
       "  <style>\n",
       "    .colab-df-container {\n",
       "      display:flex;\n",
       "      flex-wrap:wrap;\n",
       "      gap: 12px;\n",
       "    }\n",
       "\n",
       "    .colab-df-convert {\n",
       "      background-color: #E8F0FE;\n",
       "      border: none;\n",
       "      border-radius: 50%;\n",
       "      cursor: pointer;\n",
       "      display: none;\n",
       "      fill: #1967D2;\n",
       "      height: 32px;\n",
       "      padding: 0 0 0 0;\n",
       "      width: 32px;\n",
       "    }\n",
       "\n",
       "    .colab-df-convert:hover {\n",
       "      background-color: #E2EBFA;\n",
       "      box-shadow: 0px 1px 2px rgba(60, 64, 67, 0.3), 0px 1px 3px 1px rgba(60, 64, 67, 0.15);\n",
       "      fill: #174EA6;\n",
       "    }\n",
       "\n",
       "    [theme=dark] .colab-df-convert {\n",
       "      background-color: #3B4455;\n",
       "      fill: #D2E3FC;\n",
       "    }\n",
       "\n",
       "    [theme=dark] .colab-df-convert:hover {\n",
       "      background-color: #434B5C;\n",
       "      box-shadow: 0px 1px 3px 1px rgba(0, 0, 0, 0.15);\n",
       "      filter: drop-shadow(0px 1px 2px rgba(0, 0, 0, 0.3));\n",
       "      fill: #FFFFFF;\n",
       "    }\n",
       "  </style>\n",
       "\n",
       "      <script>\n",
       "        const buttonEl =\n",
       "          document.querySelector('#df-1a0a443d-a133-484b-9c08-03a4e2908630 button.colab-df-convert');\n",
       "        buttonEl.style.display =\n",
       "          google.colab.kernel.accessAllowed ? 'block' : 'none';\n",
       "\n",
       "        async function convertToInteractive(key) {\n",
       "          const element = document.querySelector('#df-1a0a443d-a133-484b-9c08-03a4e2908630');\n",
       "          const dataTable =\n",
       "            await google.colab.kernel.invokeFunction('convertToInteractive',\n",
       "                                                     [key], {});\n",
       "          if (!dataTable) return;\n",
       "\n",
       "          const docLinkHtml = 'Like what you see? Visit the ' +\n",
       "            '<a target=\"_blank\" href=https://colab.research.google.com/notebooks/data_table.ipynb>data table notebook</a>'\n",
       "            + ' to learn more about interactive tables.';\n",
       "          element.innerHTML = '';\n",
       "          dataTable['output_type'] = 'display_data';\n",
       "          await google.colab.output.renderOutput(dataTable, element);\n",
       "          const docLink = document.createElement('div');\n",
       "          docLink.innerHTML = docLinkHtml;\n",
       "          element.appendChild(docLink);\n",
       "        }\n",
       "      </script>\n",
       "    </div>\n",
       "  </div>\n",
       "  "
      ],
      "text/plain": [
       "   sepal length (cm)  sepal width (cm)  petal length (cm)  petal width (cm)  \\\n",
       "0                5.1               3.5                1.4               0.2   \n",
       "1                4.9               3.0                1.4               0.2   \n",
       "2                4.7               3.2                1.3               0.2   \n",
       "3                4.6               3.1                1.5               0.2   \n",
       "4                5.0               3.6                1.4               0.2   \n",
       "\n",
       "   target species  \n",
       "0     0.0  setosa  \n",
       "1     0.0  setosa  \n",
       "2     0.0  setosa  \n",
       "3     0.0  setosa  \n",
       "4     0.0  setosa  "
      ]
     },
     "execution_count": 6,
     "metadata": {},
     "output_type": "execute_result"
    }
   ],
   "source": [
    "iris.head(5)"
   ]
  },
  {
   "cell_type": "markdown",
   "metadata": {
    "id": "V5bq2Q82pQBh"
   },
   "source": [
    "Obtendo um sumário da distribuição das instâncias."
   ]
  },
  {
   "cell_type": "code",
   "execution_count": null,
   "metadata": {
    "colab": {
     "base_uri": "https://localhost:8080/"
    },
    "executionInfo": {
     "elapsed": 265,
     "status": "ok",
     "timestamp": 1682992539564,
     "user": {
      "displayName": "Fabio Alexandre Spanhol",
      "userId": "09187412498449397569"
     },
     "user_tz": 180
    },
    "id": "GRjxhEh5YBnU",
    "outputId": "ab3acf14-e876-4a2f-fbf1-9622d62aebf6"
   },
   "outputs": [
    {
     "data": {
      "text/plain": [
       "species\n",
       "setosa        50\n",
       "versicolor    50\n",
       "virginica     50\n",
       "dtype: int64"
      ]
     },
     "execution_count": 7,
     "metadata": {},
     "output_type": "execute_result"
    }
   ],
   "source": [
    "iris.groupby('species').size()\n"
   ]
  },
  {
   "cell_type": "code",
   "execution_count": null,
   "metadata": {
    "colab": {
     "base_uri": "https://localhost:8080/",
     "height": 394
    },
    "executionInfo": {
     "elapsed": 265,
     "status": "ok",
     "timestamp": 1682992545406,
     "user": {
      "displayName": "Fabio Alexandre Spanhol",
      "userId": "09187412498449397569"
     },
     "user_tz": 180
    },
    "id": "MnKPn7IK23It",
    "outputId": "77c74943-fe59-4069-b721-293568f88884"
   },
   "outputs": [
    {
     "data": {
      "text/html": [
       "\n",
       "  <div id=\"df-c84425bd-30f1-4593-b9d9-09aeecf8f017\">\n",
       "    <div class=\"colab-df-container\">\n",
       "      <div>\n",
       "<style scoped>\n",
       "    .dataframe tbody tr th:only-of-type {\n",
       "        vertical-align: middle;\n",
       "    }\n",
       "\n",
       "    .dataframe tbody tr th {\n",
       "        vertical-align: top;\n",
       "    }\n",
       "\n",
       "    .dataframe thead th {\n",
       "        text-align: right;\n",
       "    }\n",
       "</style>\n",
       "<table border=\"1\" class=\"dataframe\">\n",
       "  <thead>\n",
       "    <tr style=\"text-align: right;\">\n",
       "      <th></th>\n",
       "      <th>sepal length (cm)</th>\n",
       "      <th>sepal width (cm)</th>\n",
       "      <th>petal length (cm)</th>\n",
       "      <th>petal width (cm)</th>\n",
       "      <th>target</th>\n",
       "      <th>species</th>\n",
       "    </tr>\n",
       "  </thead>\n",
       "  <tbody>\n",
       "    <tr>\n",
       "      <th>count</th>\n",
       "      <td>150.000000</td>\n",
       "      <td>150.000000</td>\n",
       "      <td>150.000000</td>\n",
       "      <td>150.000000</td>\n",
       "      <td>150.000000</td>\n",
       "      <td>150</td>\n",
       "    </tr>\n",
       "    <tr>\n",
       "      <th>unique</th>\n",
       "      <td>NaN</td>\n",
       "      <td>NaN</td>\n",
       "      <td>NaN</td>\n",
       "      <td>NaN</td>\n",
       "      <td>NaN</td>\n",
       "      <td>3</td>\n",
       "    </tr>\n",
       "    <tr>\n",
       "      <th>top</th>\n",
       "      <td>NaN</td>\n",
       "      <td>NaN</td>\n",
       "      <td>NaN</td>\n",
       "      <td>NaN</td>\n",
       "      <td>NaN</td>\n",
       "      <td>setosa</td>\n",
       "    </tr>\n",
       "    <tr>\n",
       "      <th>freq</th>\n",
       "      <td>NaN</td>\n",
       "      <td>NaN</td>\n",
       "      <td>NaN</td>\n",
       "      <td>NaN</td>\n",
       "      <td>NaN</td>\n",
       "      <td>50</td>\n",
       "    </tr>\n",
       "    <tr>\n",
       "      <th>mean</th>\n",
       "      <td>5.843333</td>\n",
       "      <td>3.057333</td>\n",
       "      <td>3.758000</td>\n",
       "      <td>1.199333</td>\n",
       "      <td>1.000000</td>\n",
       "      <td>NaN</td>\n",
       "    </tr>\n",
       "    <tr>\n",
       "      <th>std</th>\n",
       "      <td>0.828066</td>\n",
       "      <td>0.435866</td>\n",
       "      <td>1.765298</td>\n",
       "      <td>0.762238</td>\n",
       "      <td>0.819232</td>\n",
       "      <td>NaN</td>\n",
       "    </tr>\n",
       "    <tr>\n",
       "      <th>min</th>\n",
       "      <td>4.300000</td>\n",
       "      <td>2.000000</td>\n",
       "      <td>1.000000</td>\n",
       "      <td>0.100000</td>\n",
       "      <td>0.000000</td>\n",
       "      <td>NaN</td>\n",
       "    </tr>\n",
       "    <tr>\n",
       "      <th>25%</th>\n",
       "      <td>5.100000</td>\n",
       "      <td>2.800000</td>\n",
       "      <td>1.600000</td>\n",
       "      <td>0.300000</td>\n",
       "      <td>0.000000</td>\n",
       "      <td>NaN</td>\n",
       "    </tr>\n",
       "    <tr>\n",
       "      <th>50%</th>\n",
       "      <td>5.800000</td>\n",
       "      <td>3.000000</td>\n",
       "      <td>4.350000</td>\n",
       "      <td>1.300000</td>\n",
       "      <td>1.000000</td>\n",
       "      <td>NaN</td>\n",
       "    </tr>\n",
       "    <tr>\n",
       "      <th>75%</th>\n",
       "      <td>6.400000</td>\n",
       "      <td>3.300000</td>\n",
       "      <td>5.100000</td>\n",
       "      <td>1.800000</td>\n",
       "      <td>2.000000</td>\n",
       "      <td>NaN</td>\n",
       "    </tr>\n",
       "    <tr>\n",
       "      <th>max</th>\n",
       "      <td>7.900000</td>\n",
       "      <td>4.400000</td>\n",
       "      <td>6.900000</td>\n",
       "      <td>2.500000</td>\n",
       "      <td>2.000000</td>\n",
       "      <td>NaN</td>\n",
       "    </tr>\n",
       "  </tbody>\n",
       "</table>\n",
       "</div>\n",
       "      <button class=\"colab-df-convert\" onclick=\"convertToInteractive('df-c84425bd-30f1-4593-b9d9-09aeecf8f017')\"\n",
       "              title=\"Convert this dataframe to an interactive table.\"\n",
       "              style=\"display:none;\">\n",
       "        \n",
       "  <svg xmlns=\"http://www.w3.org/2000/svg\" height=\"24px\"viewBox=\"0 0 24 24\"\n",
       "       width=\"24px\">\n",
       "    <path d=\"M0 0h24v24H0V0z\" fill=\"none\"/>\n",
       "    <path d=\"M18.56 5.44l.94 2.06.94-2.06 2.06-.94-2.06-.94-.94-2.06-.94 2.06-2.06.94zm-11 1L8.5 8.5l.94-2.06 2.06-.94-2.06-.94L8.5 2.5l-.94 2.06-2.06.94zm10 10l.94 2.06.94-2.06 2.06-.94-2.06-.94-.94-2.06-.94 2.06-2.06.94z\"/><path d=\"M17.41 7.96l-1.37-1.37c-.4-.4-.92-.59-1.43-.59-.52 0-1.04.2-1.43.59L10.3 9.45l-7.72 7.72c-.78.78-.78 2.05 0 2.83L4 21.41c.39.39.9.59 1.41.59.51 0 1.02-.2 1.41-.59l7.78-7.78 2.81-2.81c.8-.78.8-2.07 0-2.86zM5.41 20L4 18.59l7.72-7.72 1.47 1.35L5.41 20z\"/>\n",
       "  </svg>\n",
       "      </button>\n",
       "      \n",
       "  <style>\n",
       "    .colab-df-container {\n",
       "      display:flex;\n",
       "      flex-wrap:wrap;\n",
       "      gap: 12px;\n",
       "    }\n",
       "\n",
       "    .colab-df-convert {\n",
       "      background-color: #E8F0FE;\n",
       "      border: none;\n",
       "      border-radius: 50%;\n",
       "      cursor: pointer;\n",
       "      display: none;\n",
       "      fill: #1967D2;\n",
       "      height: 32px;\n",
       "      padding: 0 0 0 0;\n",
       "      width: 32px;\n",
       "    }\n",
       "\n",
       "    .colab-df-convert:hover {\n",
       "      background-color: #E2EBFA;\n",
       "      box-shadow: 0px 1px 2px rgba(60, 64, 67, 0.3), 0px 1px 3px 1px rgba(60, 64, 67, 0.15);\n",
       "      fill: #174EA6;\n",
       "    }\n",
       "\n",
       "    [theme=dark] .colab-df-convert {\n",
       "      background-color: #3B4455;\n",
       "      fill: #D2E3FC;\n",
       "    }\n",
       "\n",
       "    [theme=dark] .colab-df-convert:hover {\n",
       "      background-color: #434B5C;\n",
       "      box-shadow: 0px 1px 3px 1px rgba(0, 0, 0, 0.15);\n",
       "      filter: drop-shadow(0px 1px 2px rgba(0, 0, 0, 0.3));\n",
       "      fill: #FFFFFF;\n",
       "    }\n",
       "  </style>\n",
       "\n",
       "      <script>\n",
       "        const buttonEl =\n",
       "          document.querySelector('#df-c84425bd-30f1-4593-b9d9-09aeecf8f017 button.colab-df-convert');\n",
       "        buttonEl.style.display =\n",
       "          google.colab.kernel.accessAllowed ? 'block' : 'none';\n",
       "\n",
       "        async function convertToInteractive(key) {\n",
       "          const element = document.querySelector('#df-c84425bd-30f1-4593-b9d9-09aeecf8f017');\n",
       "          const dataTable =\n",
       "            await google.colab.kernel.invokeFunction('convertToInteractive',\n",
       "                                                     [key], {});\n",
       "          if (!dataTable) return;\n",
       "\n",
       "          const docLinkHtml = 'Like what you see? Visit the ' +\n",
       "            '<a target=\"_blank\" href=https://colab.research.google.com/notebooks/data_table.ipynb>data table notebook</a>'\n",
       "            + ' to learn more about interactive tables.';\n",
       "          element.innerHTML = '';\n",
       "          dataTable['output_type'] = 'display_data';\n",
       "          await google.colab.output.renderOutput(dataTable, element);\n",
       "          const docLink = document.createElement('div');\n",
       "          docLink.innerHTML = docLinkHtml;\n",
       "          element.appendChild(docLink);\n",
       "        }\n",
       "      </script>\n",
       "    </div>\n",
       "  </div>\n",
       "  "
      ],
      "text/plain": [
       "        sepal length (cm)  sepal width (cm)  petal length (cm)  \\\n",
       "count          150.000000        150.000000         150.000000   \n",
       "unique                NaN               NaN                NaN   \n",
       "top                   NaN               NaN                NaN   \n",
       "freq                  NaN               NaN                NaN   \n",
       "mean             5.843333          3.057333           3.758000   \n",
       "std              0.828066          0.435866           1.765298   \n",
       "min              4.300000          2.000000           1.000000   \n",
       "25%              5.100000          2.800000           1.600000   \n",
       "50%              5.800000          3.000000           4.350000   \n",
       "75%              6.400000          3.300000           5.100000   \n",
       "max              7.900000          4.400000           6.900000   \n",
       "\n",
       "        petal width (cm)      target species  \n",
       "count         150.000000  150.000000     150  \n",
       "unique               NaN         NaN       3  \n",
       "top                  NaN         NaN  setosa  \n",
       "freq                 NaN         NaN      50  \n",
       "mean            1.199333    1.000000     NaN  \n",
       "std             0.762238    0.819232     NaN  \n",
       "min             0.100000    0.000000     NaN  \n",
       "25%             0.300000    0.000000     NaN  \n",
       "50%             1.300000    1.000000     NaN  \n",
       "75%             1.800000    2.000000     NaN  \n",
       "max             2.500000    2.000000     NaN  "
      ]
     },
     "execution_count": 8,
     "metadata": {},
     "output_type": "execute_result"
    }
   ],
   "source": [
    "iris.describe(include = 'all')"
   ]
  },
  {
   "cell_type": "markdown",
   "metadata": {
    "id": "8nR3cw4VYvXw"
   },
   "source": [
    "Finalmente vamos plotar o *dataset* para inspecionar visualmente a distribuição das classes. \n",
    "\n",
    "Primeiramente configurar o pyplot para apresentar nossas imagens."
   ]
  },
  {
   "cell_type": "code",
   "execution_count": null,
   "metadata": {
    "id": "4PG9tq8xTqH2"
   },
   "outputs": [],
   "source": [
    "plt.style.use('dark_background')  # \"dark\" theme\n",
    "plt.rcParams[\"font.size\"] = 12\n",
    "\n",
    "plt.rcParams[\"figure.figsize\"] = (10, 4)"
   ]
  },
  {
   "cell_type": "markdown",
   "metadata": {
    "id": "ABsWZFeEsC7L"
   },
   "source": [
    "Iniciando com a característica das pétalas (``petal``)."
   ]
  },
  {
   "cell_type": "code",
   "execution_count": null,
   "metadata": {
    "colab": {
     "base_uri": "https://localhost:8080/",
     "height": 419
    },
    "executionInfo": {
     "elapsed": 918,
     "status": "ok",
     "timestamp": 1682992555118,
     "user": {
      "displayName": "Fabio Alexandre Spanhol",
      "userId": "09187412498449397569"
     },
     "user_tz": 180
    },
    "id": "uzpgAFMGYxKf",
    "outputId": "5b86170b-9c05-4195-c688-1c0579f50745"
   },
   "outputs": [
    {
     "data": {
      "image/png": "[encoded data removed]",
      "text/plain": [
       "<Figure size 1000x400 with 1 Axes>"
      ]
     },
     "metadata": {},
     "output_type": "display_data"
    }
   ],
   "source": [
    "setosa = iris[iris.species == \"setosa\"]\n",
    "versicolor = iris[iris.species=='versicolor']\n",
    "virginica = iris[iris.species=='virginica']\n",
    "\n",
    "fig, ax = plt.subplots()\n",
    "\n",
    "# labels and scatter points\n",
    "ax.scatter(setosa['petal length (cm)'], setosa['petal width (cm)'], label=\"Setosa\", facecolor=\"blue\")\n",
    "ax.scatter(versicolor['petal length (cm)'], versicolor['petal width (cm)'], label=\"Versicolor\", facecolor=\"green\")\n",
    "ax.scatter(virginica['petal length (cm)'], virginica['petal width (cm)'], label=\"Virginica\", facecolor=\"red\")\n",
    "\n",
    "\n",
    "ax.set_xlabel(\"petal length (cm)\")\n",
    "ax.set_ylabel(\"petal width (cm)\")\n",
    "ax.grid()\n",
    "ax.set_title(\"Iris petals\")\n",
    "ax.legend()\n",
    "\n",
    "plt.show();"
   ]
  },
  {
   "cell_type": "markdown",
   "metadata": {
    "id": "iZnS6ASDsRPg"
   },
   "source": [
    "Parece promissor. Há diferença clara entre as espécies. Vejamos as sépalas (``sepal``)."
   ]
  },
  {
   "cell_type": "code",
   "execution_count": null,
   "metadata": {
    "colab": {
     "base_uri": "https://localhost:8080/",
     "height": 419
    },
    "executionInfo": {
     "elapsed": 946,
     "status": "ok",
     "timestamp": 1682992577747,
     "user": {
      "displayName": "Fabio Alexandre Spanhol",
      "userId": "09187412498449397569"
     },
     "user_tz": 180
    },
    "id": "L0kpT2OHre1O",
    "outputId": "a2f60c9f-8393-40c3-b5fe-fee0ff979f61"
   },
   "outputs": [
    {
     "data": {
      "image/png": "[encoded data removed]",
      "text/plain": [
       "<Figure size 1000x400 with 1 Axes>"
      ]
     },
     "metadata": {},
     "output_type": "display_data"
    }
   ],
   "source": [
    "fig, ax = plt.subplots()\n",
    "\n",
    "# labels and scatter points\n",
    "ax.scatter(setosa['sepal length (cm)'], setosa['sepal width (cm)'], label=\"Setosa\", facecolor=\"blue\")\n",
    "ax.scatter(versicolor['sepal length (cm)'], versicolor['sepal width (cm)'], label=\"Versicolor\", facecolor=\"green\")\n",
    "ax.scatter(virginica['sepal length (cm)'], virginica['sepal width (cm)'], label=\"Virginica\", facecolor=\"red\")\n",
    "\n",
    "\n",
    "ax.set_xlabel(\"sepal length (cm)\")\n",
    "ax.set_ylabel(\"sepal width (cm)\")\n",
    "ax.grid()\n",
    "ax.set_title(\"Iris sepals\")\n",
    "ax.legend()\n",
    "\n",
    "plt.show();"
   ]
  },
  {
   "cell_type": "markdown",
   "metadata": {
    "id": "3LnTCR4zshI8"
   },
   "source": [
    "Não tão animador, certo? 🤔 \n",
    "\n",
    "Ficaremos com as pétalas como nosso descritor de classe.👍🏻"
   ]
  },
  {
   "cell_type": "markdown",
   "metadata": {
    "id": "N-h3aofjt9Ky"
   },
   "source": [
    "Preparação do Dataset\n",
    "--\n",
    "\n",
    "Como vamos considerar apenas ``petal length`` e ``petal width`` precisamos descartar ``sepal``. \n",
    "\n",
    "\n"
   ]
  },
  {
   "cell_type": "code",
   "execution_count": null,
   "metadata": {
    "colab": {
     "base_uri": "https://localhost:8080/",
     "height": 300
    },
    "executionInfo": {
     "elapsed": 280,
     "status": "ok",
     "timestamp": 1682992593666,
     "user": {
      "displayName": "Fabio Alexandre Spanhol",
      "userId": "09187412498449397569"
     },
     "user_tz": 180
    },
    "id": "pRg4I6Qo5ETZ",
    "outputId": "91d3288f-a882-4c1c-ad08-1ebb9ea4d64f"
   },
   "outputs": [
    {
     "data": {
      "text/html": [
       "\n",
       "  <div id=\"df-358ca58b-e3cb-4410-a0c8-53815b5cdb4e\">\n",
       "    <div class=\"colab-df-container\">\n",
       "      <div>\n",
       "<style scoped>\n",
       "    .dataframe tbody tr th:only-of-type {\n",
       "        vertical-align: middle;\n",
       "    }\n",
       "\n",
       "    .dataframe tbody tr th {\n",
       "        vertical-align: top;\n",
       "    }\n",
       "\n",
       "    .dataframe thead th {\n",
       "        text-align: right;\n",
       "    }\n",
       "</style>\n",
       "<table border=\"1\" class=\"dataframe\">\n",
       "  <thead>\n",
       "    <tr style=\"text-align: right;\">\n",
       "      <th></th>\n",
       "      <th>sepal length (cm)</th>\n",
       "      <th>sepal width (cm)</th>\n",
       "      <th>petal length (cm)</th>\n",
       "      <th>petal width (cm)</th>\n",
       "    </tr>\n",
       "  </thead>\n",
       "  <tbody>\n",
       "    <tr>\n",
       "      <th>count</th>\n",
       "      <td>150.000000</td>\n",
       "      <td>150.000000</td>\n",
       "      <td>150.000000</td>\n",
       "      <td>150.000000</td>\n",
       "    </tr>\n",
       "    <tr>\n",
       "      <th>mean</th>\n",
       "      <td>5.843333</td>\n",
       "      <td>3.057333</td>\n",
       "      <td>3.758000</td>\n",
       "      <td>1.199333</td>\n",
       "    </tr>\n",
       "    <tr>\n",
       "      <th>std</th>\n",
       "      <td>0.828066</td>\n",
       "      <td>0.435866</td>\n",
       "      <td>1.765298</td>\n",
       "      <td>0.762238</td>\n",
       "    </tr>\n",
       "    <tr>\n",
       "      <th>min</th>\n",
       "      <td>4.300000</td>\n",
       "      <td>2.000000</td>\n",
       "      <td>1.000000</td>\n",
       "      <td>0.100000</td>\n",
       "    </tr>\n",
       "    <tr>\n",
       "      <th>25%</th>\n",
       "      <td>5.100000</td>\n",
       "      <td>2.800000</td>\n",
       "      <td>1.600000</td>\n",
       "      <td>0.300000</td>\n",
       "    </tr>\n",
       "    <tr>\n",
       "      <th>50%</th>\n",
       "      <td>5.800000</td>\n",
       "      <td>3.000000</td>\n",
       "      <td>4.350000</td>\n",
       "      <td>1.300000</td>\n",
       "    </tr>\n",
       "    <tr>\n",
       "      <th>75%</th>\n",
       "      <td>6.400000</td>\n",
       "      <td>3.300000</td>\n",
       "      <td>5.100000</td>\n",
       "      <td>1.800000</td>\n",
       "    </tr>\n",
       "    <tr>\n",
       "      <th>max</th>\n",
       "      <td>7.900000</td>\n",
       "      <td>4.400000</td>\n",
       "      <td>6.900000</td>\n",
       "      <td>2.500000</td>\n",
       "    </tr>\n",
       "  </tbody>\n",
       "</table>\n",
       "</div>\n",
       "      <button class=\"colab-df-convert\" onclick=\"convertToInteractive('df-358ca58b-e3cb-4410-a0c8-53815b5cdb4e')\"\n",
       "              title=\"Convert this dataframe to an interactive table.\"\n",
       "              style=\"display:none;\">\n",
       "        \n",
       "  <svg xmlns=\"http://www.w3.org/2000/svg\" height=\"24px\"viewBox=\"0 0 24 24\"\n",
       "       width=\"24px\">\n",
       "    <path d=\"M0 0h24v24H0V0z\" fill=\"none\"/>\n",
       "    <path d=\"M18.56 5.44l.94 2.06.94-2.06 2.06-.94-2.06-.94-.94-2.06-.94 2.06-2.06.94zm-11 1L8.5 8.5l.94-2.06 2.06-.94-2.06-.94L8.5 2.5l-.94 2.06-2.06.94zm10 10l.94 2.06.94-2.06 2.06-.94-2.06-.94-.94-2.06-.94 2.06-2.06.94z\"/><path d=\"M17.41 7.96l-1.37-1.37c-.4-.4-.92-.59-1.43-.59-.52 0-1.04.2-1.43.59L10.3 9.45l-7.72 7.72c-.78.78-.78 2.05 0 2.83L4 21.41c.39.39.9.59 1.41.59.51 0 1.02-.2 1.41-.59l7.78-7.78 2.81-2.81c.8-.78.8-2.07 0-2.86zM5.41 20L4 18.59l7.72-7.72 1.47 1.35L5.41 20z\"/>\n",
       "  </svg>\n",
       "      </button>\n",
       "      \n",
       "  <style>\n",
       "    .colab-df-container {\n",
       "      display:flex;\n",
       "      flex-wrap:wrap;\n",
       "      gap: 12px;\n",
       "    }\n",
       "\n",
       "    .colab-df-convert {\n",
       "      background-color: #E8F0FE;\n",
       "      border: none;\n",
       "      border-radius: 50%;\n",
       "      cursor: pointer;\n",
       "      display: none;\n",
       "      fill: #1967D2;\n",
       "      height: 32px;\n",
       "      padding: 0 0 0 0;\n",
       "      width: 32px;\n",
       "    }\n",
       "\n",
       "    .colab-df-convert:hover {\n",
       "      background-color: #E2EBFA;\n",
       "      box-shadow: 0px 1px 2px rgba(60, 64, 67, 0.3), 0px 1px 3px 1px rgba(60, 64, 67, 0.15);\n",
       "      fill: #174EA6;\n",
       "    }\n",
       "\n",
       "    [theme=dark] .colab-df-convert {\n",
       "      background-color: #3B4455;\n",
       "      fill: #D2E3FC;\n",
       "    }\n",
       "\n",
       "    [theme=dark] .colab-df-convert:hover {\n",
       "      background-color: #434B5C;\n",
       "      box-shadow: 0px 1px 3px 1px rgba(0, 0, 0, 0.15);\n",
       "      filter: drop-shadow(0px 1px 2px rgba(0, 0, 0, 0.3));\n",
       "      fill: #FFFFFF;\n",
       "    }\n",
       "  </style>\n",
       "\n",
       "      <script>\n",
       "        const buttonEl =\n",
       "          document.querySelector('#df-358ca58b-e3cb-4410-a0c8-53815b5cdb4e button.colab-df-convert');\n",
       "        buttonEl.style.display =\n",
       "          google.colab.kernel.accessAllowed ? 'block' : 'none';\n",
       "\n",
       "        async function convertToInteractive(key) {\n",
       "          const element = document.querySelector('#df-358ca58b-e3cb-4410-a0c8-53815b5cdb4e');\n",
       "          const dataTable =\n",
       "            await google.colab.kernel.invokeFunction('convertToInteractive',\n",
       "                                                     [key], {});\n",
       "          if (!dataTable) return;\n",
       "\n",
       "          const docLinkHtml = 'Like what you see? Visit the ' +\n",
       "            '<a target=\"_blank\" href=https://colab.research.google.com/notebooks/data_table.ipynb>data table notebook</a>'\n",
       "            + ' to learn more about interactive tables.';\n",
       "          element.innerHTML = '';\n",
       "          dataTable['output_type'] = 'display_data';\n",
       "          await google.colab.output.renderOutput(dataTable, element);\n",
       "          const docLink = document.createElement('div');\n",
       "          docLink.innerHTML = docLinkHtml;\n",
       "          element.appendChild(docLink);\n",
       "        }\n",
       "      </script>\n",
       "    </div>\n",
       "  </div>\n",
       "  "
      ],
      "text/plain": [
       "       sepal length (cm)  sepal width (cm)  petal length (cm)  \\\n",
       "count         150.000000        150.000000         150.000000   \n",
       "mean            5.843333          3.057333           3.758000   \n",
       "std             0.828066          0.435866           1.765298   \n",
       "min             4.300000          2.000000           1.000000   \n",
       "25%             5.100000          2.800000           1.600000   \n",
       "50%             5.800000          3.000000           4.350000   \n",
       "75%             6.400000          3.300000           5.100000   \n",
       "max             7.900000          4.400000           6.900000   \n",
       "\n",
       "       petal width (cm)  \n",
       "count        150.000000  \n",
       "mean           1.199333  \n",
       "std            0.762238  \n",
       "min            0.100000  \n",
       "25%            0.300000  \n",
       "50%            1.300000  \n",
       "75%            1.800000  \n",
       "max            2.500000  "
      ]
     },
     "execution_count": 12,
     "metadata": {},
     "output_type": "execute_result"
    }
   ],
   "source": [
    "# Droping the target and species since we only need the measurements\n",
    "X = iris.drop(columns = ['target', 'species'], axis=1)\n",
    "X.describe(include = 'all')"
   ]
  },
  {
   "cell_type": "markdown",
   "metadata": {
    "id": "86CWEwefH1NA"
   },
   "source": [
    "Vamos tentar separar a espécie Setosa das outras duas espécies. Assim vamos converter "
   ]
  },
  {
   "cell_type": "code",
   "execution_count": null,
   "metadata": {
    "id": "b0RLlQZL8ZIg"
   },
   "outputs": [],
   "source": [
    "# converting into numpy array and assigning petal length and petal width\n",
    "X = X.to_numpy()[:, (2, 3)]  # 3rd and 4th columns\n",
    "y = iris['target'].to_numpy().astype(int)"
   ]
  },
  {
   "cell_type": "markdown",
   "metadata": {
    "id": "Y9IbuM6s6Y7L"
   },
   "source": [
    "E depois separar o dataset nos conjuntos de treinamento ($70\\%$) e teste ($30\\%$). Novamente a ``Scikit-learn`` nos auxilia com a função ``train_test_split``."
   ]
  },
  {
   "cell_type": "code",
   "execution_count": null,
   "metadata": {
    "colab": {
     "base_uri": "https://localhost:8080/"
    },
    "executionInfo": {
     "elapsed": 642,
     "status": "ok",
     "timestamp": 1682992626697,
     "user": {
      "displayName": "Fabio Alexandre Spanhol",
      "userId": "09187412498449397569"
     },
     "user_tz": 180
    },
    "id": "TFRvkl7Euwd9",
    "outputId": "490b4483-9e31-4dba-8e34-ee310d5ba58d"
   },
   "outputs": [
    {
     "name": "stdout",
     "output_type": "stream",
     "text": [
      "Training: 105 instances \n",
      "Test: 45 instances\n",
      "\n",
      "Training shape:(105, 2) \n",
      "First row:[3.7 1. ]\n",
      "\n",
      "Test shape:(45, 2) \n",
      "First row:[4.7 1.2]\n",
      "\n",
      "Labels \n",
      "\ttraining: 105 instances \n",
      "\ttest: 45 instances\n",
      "\n",
      "Labels training shape:(105,) \n",
      "set:[1 2 2 1 2 1 2 1 0 2 1 0 0 0 1 2 0 0 0 1 0 1 2 0 1 2 0 2 2 1 1 2 1 0 1 2 0\n",
      " 0 1 1 0 2 0 0 1 1 2 1 2 2 1 0 0 2 2 0 0 0 1 2 0 2 2 0 1 1 2 1 2 0 2 1 2 1\n",
      " 1 1 0 1 1 0 1 2 2 0 1 2 2 0 2 0 1 2 2 1 2 1 1 2 2 0 1 2 0 1 2]\n",
      "\n",
      "Labels test shape:(45,) \n",
      "set:[1 0 2 1 1 0 1 2 1 1 2 0 0 0 0 1 2 1 1 2 0 2 0 2 2 2 2 2 0 0 0 0 1 0 0 2 1\n",
      " 0 0 0 2 1 1 0 0]\n"
     ]
    }
   ],
   "source": [
    "from sklearn.model_selection import train_test_split\n",
    "\n",
    "X_train, X_test, y_train, y_test = train_test_split(X, y, test_size=0.3, random_state=42)\n",
    "\n",
    "print(f'Training: {len(X_train)} instances \\nTest: {len(X_test)} instances')\n",
    "\n",
    "print(f'\\nTraining shape:{X_train.shape} \\nFirst row:{X_train[0]}')\n",
    "print(f'\\nTest shape:{X_test.shape} \\nFirst row:{X_test[0]}')\n",
    "\n",
    "print(f'\\nLabels \\n\\ttraining: {len(y_train)} instances \\n\\ttest: {len(y_test)} instances')\n",
    "print(f'\\nLabels training shape:{y_train.shape} \\nset:{y_train}')\n",
    "print(f'\\nLabels test shape:{y_test.shape} \\nset:{y_test}')\n"
   ]
  },
  {
   "cell_type": "markdown",
   "metadata": {
    "id": "k_GM8XdPynID"
   },
   "source": [
    "Treinamento do Perceptron\n",
    "--\n"
   ]
  },
  {
   "cell_type": "code",
   "execution_count": null,
   "metadata": {
    "colab": {
     "base_uri": "https://localhost:8080/"
    },
    "executionInfo": {
     "elapsed": 506,
     "status": "ok",
     "timestamp": 1682992649346,
     "user": {
      "displayName": "Fabio Alexandre Spanhol",
      "userId": "09187412498449397569"
     },
     "user_tz": 180
    },
    "id": "w00DX4F3y3L8",
    "outputId": "fc8358c3-687d-4c5b-8c66-543f91960b81"
   },
   "outputs": [
    {
     "data": {
      "text/plain": [
       "(array([15.9837,  6.651 ]), 0.6010000000000004)"
      ]
     },
     "execution_count": 15,
     "metadata": {},
     "output_type": "execute_result"
    }
   ],
   "source": [
    "perceptron = Perceptron(0.001, 100)\n",
    "\n",
    "perceptron.fit(X_train, y_train)\n"
   ]
  },
  {
   "cell_type": "markdown",
   "metadata": {
    "id": "xmiOo9ZPy7lz"
   },
   "source": [
    "Predição e Avaliação\n",
    "--\n"
   ]
  },
  {
   "cell_type": "code",
   "execution_count": null,
   "metadata": {
    "id": "eiPNlnF_y_yN"
   },
   "outputs": [],
   "source": [
    "pred = perceptron.predict(X_test)"
   ]
  },
  {
   "cell_type": "markdown",
   "metadata": {
    "id": "BzYE_14xzIv7"
   },
   "source": [
    "Qual foi a acurácia?"
   ]
  },
  {
   "cell_type": "code",
   "execution_count": null,
   "metadata": {
    "colab": {
     "base_uri": "https://localhost:8080/"
    },
    "executionInfo": {
     "elapsed": 243,
     "status": "ok",
     "timestamp": 1682992735369,
     "user": {
      "displayName": "Fabio Alexandre Spanhol",
      "userId": "09187412498449397569"
     },
     "user_tz": 180
    },
    "id": "b-lsSz_PzPvI",
    "outputId": "3c140021-2bd4-4b15-f30f-c27c447a3d33"
   },
   "outputs": [
    {
     "name": "stdout",
     "output_type": "stream",
     "text": [
      "Accuracy:0.29\n",
      "[[ 0 19  0]\n",
      " [ 0 13  0]\n",
      " [ 0 13  0]]\n"
     ]
    }
   ],
   "source": [
    "from sklearn import metrics\n",
    "from sklearn.metrics import accuracy_score\n",
    "\n",
    "# Accuracy\n",
    "acc = accuracy_score(pred, y_test)\n",
    "print(f'Accuracy:{acc:.2f}')\n",
    "\n",
    "# Confusion matrix\n",
    "print(metrics.confusion_matrix(y_test, pred))"
   ]
  },
  {
   "cell_type": "markdown",
   "metadata": {
    "id": "oHysa636zvQj"
   },
   "source": [
    "WTF! Apenas $29\\%$! 😱 \n",
    "\n",
    "Ruim para esse *dataset*. \n",
    "\n",
    "Bem, podemos usar a estratégia de tentar ajustar os hiperparâmetros (**hyperparameter tuning**). Por exemplo, aumentar a taxa de aprendizado (*learning rating* ou *epochs*) para digamos 1000."
   ]
  },
  {
   "cell_type": "code",
   "execution_count": null,
   "metadata": {
    "colab": {
     "base_uri": "https://localhost:8080/"
    },
    "executionInfo": {
     "elapsed": 3621,
     "status": "ok",
     "timestamp": 1682992872324,
     "user": {
      "displayName": "Fabio Alexandre Spanhol",
      "userId": "09187412498449397569"
     },
     "user_tz": 180
    },
    "id": "JIBSNJXrz-g0",
    "outputId": "244d0e8e-3eb6-427d-8765-efcab990cb1e"
   },
   "outputs": [
    {
     "name": "stdout",
     "output_type": "stream",
     "text": [
      "Accuracy:0.29\n",
      "[[ 0 19  0]\n",
      " [ 0 13  0]\n",
      " [ 0 13  0]]\n"
     ]
    }
   ],
   "source": [
    "perceptron = Perceptron(0.001, 1000)\n",
    "\n",
    "perceptron.fit(X_train, y_train)\n",
    "\n",
    "pred = perceptron.predict(X_test)\n",
    "\n",
    "# Accuracy\n",
    "acc = accuracy_score(pred, y_test)\n",
    "print(f'Accuracy:{acc:.2f}')\n",
    "\n",
    "# Confusion matrix\n",
    "print(metrics.confusion_matrix(y_test, pred))"
   ]
  },
  {
   "cell_type": "markdown",
   "metadata": {
    "id": "YzszDvWM0Ouk"
   },
   "source": [
    "Continua ruim! Outra estratégia é normalizar as entradas.\n"
   ]
  },
  {
   "cell_type": "code",
   "execution_count": null,
   "metadata": {
    "colab": {
     "base_uri": "https://localhost:8080/"
    },
    "executionInfo": {
     "elapsed": 241,
     "status": "ok",
     "timestamp": 1682992903422,
     "user": {
      "displayName": "Fabio Alexandre Spanhol",
      "userId": "09187412498449397569"
     },
     "user_tz": 180
    },
    "id": "6AdlVBr4U5Nm",
    "outputId": "1c1c4908-7bde-4a9f-96e6-bef95e9d177a"
   },
   "outputs": [
    {
     "name": "stdout",
     "output_type": "stream",
     "text": [
      "Training: 105 instances \n",
      "Test: 45 instances\n",
      "\n",
      "Training shape:(105, 2) \n",
      "First row:[-0.09951105 -0.32339776]\n",
      "\n",
      "Test shape:(45, 2) \n",
      "First row:[ 0.484213   -0.05282593]\n",
      "\n",
      "Labels \n",
      "\ttraining: 105 instances \n",
      "\ttest: 45 instances\n",
      "\n",
      "Labels training shape:(105,) \n",
      "set:[1 2 2 1 2 1 2 1 0 2 1 0 0 0 1 2 0 0 0 1 0 1 2 0 1 2 0 2 2 1 1 2 1 0 1 2 0\n",
      " 0 1 1 0 2 0 0 1 1 2 1 2 2 1 0 0 2 2 0 0 0 1 2 0 2 2 0 1 1 2 1 2 0 2 1 2 1\n",
      " 1 1 0 1 1 0 1 2 2 0 1 2 2 0 2 0 1 2 2 1 2 1 1 2 2 0 1 2 0 1 2]\n",
      "\n",
      "Labels test shape:(45,) \n",
      "set:[1 0 2 1 1 0 1 2 1 1 2 0 0 0 0 1 2 1 1 2 0 2 0 2 2 2 2 2 0 0 0 0 1 0 0 2 1\n",
      " 0 0 0 2 1 1 0 0]\n"
     ]
    }
   ],
   "source": [
    "from sklearn.preprocessing import StandardScaler\n",
    "\n",
    "# Normalize the data\n",
    "scaler = StandardScaler()\n",
    "X_train = scaler.fit_transform(X_train)\n",
    "X_test = scaler.transform(X_test)\n",
    "\n",
    "print(f'Training: {len(X_train)} instances \\nTest: {len(X_test)} instances')\n",
    "\n",
    "print(f'\\nTraining shape:{X_train.shape} \\nFirst row:{X_train[0]}')\n",
    "print(f'\\nTest shape:{X_test.shape} \\nFirst row:{X_test[0]}')\n",
    "\n",
    "print(f'\\nLabels \\n\\ttraining: {len(y_train)} instances \\n\\ttest: {len(y_test)} instances')\n",
    "print(f'\\nLabels training shape:{y_train.shape} \\nset:{y_train}')\n",
    "print(f'\\nLabels test shape:{y_test.shape} \\nset:{y_test}')"
   ]
  },
  {
   "cell_type": "code",
   "execution_count": null,
   "metadata": {
    "colab": {
     "base_uri": "https://localhost:8080/"
    },
    "executionInfo": {
     "elapsed": 239,
     "status": "ok",
     "timestamp": 1682992935972,
     "user": {
      "displayName": "Fabio Alexandre Spanhol",
      "userId": "09187412498449397569"
     },
     "user_tz": 180
    },
    "id": "SNV-mrUFWPw2",
    "outputId": "d89743de-d6bb-4eea-f206-1ce30745c2a2"
   },
   "outputs": [
    {
     "name": "stdout",
     "output_type": "stream",
     "text": [
      "Accuracy:0.71\n",
      "[[19  0  0]\n",
      " [ 0 13  0]\n",
      " [ 0 13  0]]\n"
     ]
    }
   ],
   "source": [
    "perceptron = Perceptron(0.001, 100)\n",
    "\n",
    "perceptron.fit(X_train, y_train)\n",
    "\n",
    "pred = perceptron.predict(X_test)\n",
    "\n",
    "# Accuracy\n",
    "acc = accuracy_score(pred, y_test)\n",
    "print(f'Accuracy:{acc:.2f}')\n",
    "\n",
    "# Confusion matrix\n",
    "print(metrics.confusion_matrix(y_test, pred))"
   ]
  },
  {
   "cell_type": "markdown",
   "metadata": {
    "id": "9xK_fseyW9Pd"
   },
   "source": [
    "C'est bon! 🥳\n",
    "Uma taxa de $71\\%$ já é aceitável. Mas errou todas as instâncias de uma classe. 😭"
   ]
  },
  {
   "cell_type": "code",
   "execution_count": null,
   "metadata": {
    "id": "Cy87V61h1V8g"
   },
   "outputs": [],
   "source": [
    "from sklearn import metrics\n",
    "\n",
    "#print(\"Precision, Recall, Confusion matrix, in testing\\n\")\n",
    "\n",
    "# Precision Recall scores\n",
    "#print(metrics.classification_report(y_test, pred, digits=2))\n",
    "\n",
    "# Confusion matrix\n",
    "#print(metrics.confusion_matrix(y_test, pred))"
   ]
  },
  {
   "cell_type": "markdown",
   "metadata": {
    "id": "j2CZaWl1bgfi"
   },
   "source": [
    "Vamos tentar entender como a decisão foi tomada."
   ]
  },
  {
   "cell_type": "code",
   "execution_count": null,
   "metadata": {
    "colab": {
     "base_uri": "https://localhost:8080/",
     "height": 391
    },
    "executionInfo": {
     "elapsed": 660,
     "status": "ok",
     "timestamp": 1682996771691,
     "user": {
      "displayName": "Fabio Alexandre Spanhol",
      "userId": "09187412498449397569"
     },
     "user_tz": 180
    },
    "id": "7Ib5_6z9Tz71",
    "outputId": "61df866d-cf8b-4fb7-9593-d47c36b72947"
   },
   "outputs": [
    {
     "data": {
      "image/png": "[encoded data removed]",
      "text/plain": [
       "<Figure size 1000x400 with 1 Axes>"
      ]
     },
     "metadata": {},
     "output_type": "display_data"
    }
   ],
   "source": [
    "def make_meshgrid(x, y, h=.02):\n",
    "    \"\"\"\n",
    "    Generate a meshgrid of points based on input data x, y.\n",
    "\n",
    "    Parameters\n",
    "    ----------\n",
    "    x : array-like\n",
    "        Input data for x-axis.\n",
    "    y : array-like\n",
    "        Input data for y-axis.\n",
    "    h : float, optional\n",
    "        Step size for the meshgrid. Default is 0.02.\n",
    "\n",
    "    Returns\n",
    "    -------\n",
    "    xx : ndarray\n",
    "         Meshgrid array for x-axis.\n",
    "    yy : ndarray\n",
    "         Meshgrid array for y-axis.\n",
    "    \"\"\"       \n",
    "    x_min, x_max = x.min() - 1, x.max() + 1\n",
    "    y_min, y_max = y.min() - 1, y.max() + 1\n",
    "    \n",
    "    xx, yy = np.meshgrid(np.arange(x_min, x_max, h), np.arange(y_min, y_max, h))\n",
    "\n",
    "    return xx, yy\n",
    "\n",
    "def plot_contours(ax, clf, xx, yy, **params):\n",
    "    \"\"\"\n",
    "    Plot the decision boundaries of a classifier as contours on a 2D plot.\n",
    "\n",
    "    Parameters\n",
    "    ----------\n",
    "    ax : matplotlib.axes.Axes\n",
    "        The axes on which to draw the contours.\n",
    "    clf : sklearn.base.ClassifierMixin\n",
    "        The classifier to use for predicting the class labels.\n",
    "    xx : numpy.ndarray\n",
    "        The x-coordinates of the points on the plot.\n",
    "    yy : numpy.ndarray\n",
    "        The y-coordinates of the points on the plot.\n",
    "    **params : dict\n",
    "        Additional parameters to pass to the `contourf()` function of the\n",
    "        `matplotlib.axes.Axes` object.\n",
    "\n",
    "    Returns\n",
    "    -------\n",
    "    out : matplotlib.contour.QuadContourSet\n",
    "        The `QuadContourSet` object returned by the `contourf()` function.\n",
    "    \"\"\"    \n",
    "    Z = clf.predict(np.c_[xx.ravel(), yy.ravel()])\n",
    "    Z = Z.reshape(xx.shape)\n",
    "    \n",
    "    out = ax.contourf(xx, yy, Z, **params)\n",
    "\n",
    "    return out\n",
    "\n",
    "fig, ax = plt.subplots()\n",
    "\n",
    "title = 'Decision surface of Perceptron'\n",
    "\n",
    "# Set-up grid for plotting\n",
    "\n",
    "X0, X1 = X_test[:, 0], X_test[:, 1]\n",
    "xx, yy = make_meshgrid(X0, X1)\n",
    "\n",
    "plot_contours(ax, perceptron, xx, yy, cmap=plt.cm.coolwarm, alpha=0.7)\n",
    "\n",
    "scatter = ax.scatter(X0, X1, c=y_test, cmap=plt.cm.coolwarm, s=20, edgecolors='k', alpha = 0.5)\n",
    "\n",
    "ax.set_ylabel('y')\n",
    "ax.set_xlabel('x')\n",
    "\n",
    "ax.set_xticks(())\n",
    "ax.set_yticks(())\n",
    "ax.set_title(title)\n",
    "\n",
    "# produce a legend with the unique colors from the scatter\n",
    "legend1 = ax.legend(*scatter.legend_elements(),\n",
    "                    loc=\"lower left\", title=\"Classes\")\n",
    "ax.add_artist(legend1)\n",
    "\n",
    "\n",
    "plt.show()"
   ]
  },
  {
   "cell_type": "markdown",
   "metadata": {
    "id": "ctak6SaxR3bR"
   },
   "source": [
    "E como se comporta a implementação da ``Scikit-learn``? "
   ]
  },
  {
   "cell_type": "code",
   "execution_count": null,
   "metadata": {
    "colab": {
     "base_uri": "https://localhost:8080/"
    },
    "executionInfo": {
     "elapsed": 549,
     "status": "ok",
     "timestamp": 1682993084274,
     "user": {
      "displayName": "Fabio Alexandre Spanhol",
      "userId": "09187412498449397569"
     },
     "user_tz": 180
    },
    "id": "yUpzRQ1u-4bZ",
    "outputId": "f4bb80b7-e604-4a78-b948-18985927dfb4"
   },
   "outputs": [
    {
     "name": "stdout",
     "output_type": "stream",
     "text": [
      "Accuracy:0.76\n",
      "[[11  8  0]\n",
      " [ 1 10  2]\n",
      " [ 0  0 13]]\n"
     ]
    }
   ],
   "source": [
    "from sklearn.linear_model import Perceptron\n",
    "\n",
    "sk_perceptron = Perceptron()\n",
    "sk_perceptron.fit(X_train, y_train)\n",
    "sk_perceptron_pred = sk_perceptron.predict(X_test)\n",
    "\n",
    "# Accuracy\n",
    "acc = accuracy_score(sk_perceptron_pred, y_test)\n",
    "print(f'Accuracy:{acc:.2f}')\n",
    "\n",
    "# Confusion matrix\n",
    "print(metrics.confusion_matrix(y_test, sk_perceptron_pred))"
   ]
  },
  {
   "cell_type": "code",
   "execution_count": null,
   "metadata": {
    "colab": {
     "base_uri": "https://localhost:8080/",
     "height": 391
    },
    "executionInfo": {
     "elapsed": 423,
     "status": "ok",
     "timestamp": 1682997091381,
     "user": {
      "displayName": "Fabio Alexandre Spanhol",
      "userId": "09187412498449397569"
     },
     "user_tz": 180
    },
    "id": "54hddspjSj2D",
    "outputId": "b02216f4-2c9c-4929-edb3-706dacef3549"
   },
   "outputs": [
    {
     "data": {
      "image/png": "[encoded data removed]",
      "text/plain": [
       "<Figure size 1000x400 with 1 Axes>"
      ]
     },
     "metadata": {},
     "output_type": "display_data"
    }
   ],
   "source": [
    "fig, ax = plt.subplots()\n",
    "\n",
    "title = 'Decision surface of Perceptron (sklearn)'\n",
    "\n",
    "# Set-up grid for plotting\n",
    "\n",
    "X0, X1 = X_test[:, 0], X_test[:, 1]\n",
    "xx, yy = make_meshgrid(X0, X1)\n",
    "\n",
    "plot_contours(ax, sk_perceptron, xx, yy, cmap=plt.cm.coolwarm, alpha=0.7)\n",
    "\n",
    "scatter = ax.scatter(X0, X1, c=y_test, cmap=plt.cm.coolwarm, s=20, edgecolors='k', alpha=0.5)\n",
    "\n",
    "ax.set_ylabel('y')\n",
    "ax.set_xlabel('x')\n",
    "\n",
    "ax.set_xticks(())\n",
    "ax.set_yticks(())\n",
    "ax.set_title(title)\n",
    "\n",
    "# produce a legend with the unique colors from the scatter\n",
    "legend1 = ax.legend(*scatter.legend_elements(),\n",
    "                    loc=\"lower left\", title=\"Classes\")\n",
    "ax.add_artist(legend1)\n",
    "\n",
    "plt.show()"
   ]
  },
  {
   "cell_type": "markdown",
   "metadata": {
    "id": "DYr2U8ODS-Pf"
   },
   "source": [
    "Conseguiu $76\\%$! E melhor desempenho entre as interclasse!\n",
    "\n",
    "E, só para finalizar, vejamos o desempenho de outro modelo mais complexo, como um **SVM**."
   ]
  },
  {
   "cell_type": "code",
   "execution_count": null,
   "metadata": {
    "colab": {
     "base_uri": "https://localhost:8080/"
    },
    "executionInfo": {
     "elapsed": 253,
     "status": "ok",
     "timestamp": 1682993236309,
     "user": {
      "displayName": "Fabio Alexandre Spanhol",
      "userId": "09187412498449397569"
     },
     "user_tz": 180
    },
    "id": "apVq2nKNTCih",
    "outputId": "7aea13d5-86cc-47f7-e8ae-bb52d4b0c514"
   },
   "outputs": [
    {
     "name": "stdout",
     "output_type": "stream",
     "text": [
      "Accuracy using SVM, RBF kernel: 1.00\n",
      "[[19  0  0]\n",
      " [ 0 13  0]\n",
      " [ 0  0 13]]\n"
     ]
    }
   ],
   "source": [
    "from sklearn.svm import SVC\n",
    "\n",
    "model = SVC(kernel='rbf')\n",
    "model.fit(X_train, y_train)\n",
    "\n",
    "pred = model.predict(X_test)\n",
    "\n",
    "# Accuracy\n",
    "acc = accuracy_score(pred, y_test)\n",
    "print(f'Accuracy using SVM, RBF kernel: {acc:.2f}')\n",
    "\n",
    "# Confusion matrix\n",
    "print(metrics.confusion_matrix(y_test, pred))"
   ]
  },
  {
   "cell_type": "code",
   "execution_count": null,
   "metadata": {
    "colab": {
     "base_uri": "https://localhost:8080/",
     "height": 391
    },
    "executionInfo": {
     "elapsed": 1213,
     "status": "ok",
     "timestamp": 1682997034158,
     "user": {
      "displayName": "Fabio Alexandre Spanhol",
      "userId": "09187412498449397569"
     },
     "user_tz": 180
    },
    "id": "0f_6IQ1VOi-o",
    "outputId": "1c798b6b-e20e-4fff-ca5f-846d45eac122"
   },
   "outputs": [
    {
     "data": {
      "image/png": "[encoded data removed]",
      "text/plain": [
       "<Figure size 1000x400 with 1 Axes>"
      ]
     },
     "metadata": {},
     "output_type": "display_data"
    }
   ],
   "source": [
    "fig, ax = plt.subplots()\n",
    "\n",
    "\n",
    "title = 'Decision surface of SVC, RBF kernel'\n",
    "\n",
    "# Set-up grid for plotting\n",
    "\n",
    "X0, X1 = X_test[:, 0], X_test[:, 1]\n",
    "xx, yy = make_meshgrid(X0, X1)\n",
    "\n",
    "plot_contours(ax, model, xx, yy, cmap=plt.cm.coolwarm, alpha=0.7)\n",
    "\n",
    "ax.scatter(X0, X1, c=y_test, cmap=plt.cm.coolwarm, s=20, edgecolors='k', alpha=0.5)\n",
    "\n",
    "ax.set_ylabel('y')\n",
    "ax.set_xlabel('x')\n",
    "\n",
    "ax.set_xticks(())\n",
    "ax.set_yticks(())\n",
    "ax.set_title(title)\n",
    "\n",
    "# produce a legend with the unique colors from the scatter\n",
    "legend1 = ax.legend(*scatter.legend_elements(),\n",
    "                    loc=\"lower left\", title=\"Classes\")\n",
    "ax.add_artist(legend1)\n",
    "\n",
    "plt.show()"
   ]
  },
  {
   "cell_type": "markdown",
   "metadata": {
    "id": "19XRuD4nU_9N"
   },
   "source": [
    "---\n",
    "<font color=\"#ffb31a\">Fabio Alexandre **SPANHOL**</font> <faspanhol@gmail.com>\n",
    "\n",
    "<font color=\"#cccccc\">*Updated: May 3rd 2023*</font>"
   ]
  }
 ],
 "metadata": {
  "colab": {
   "provenance": [
    {
     "file_id": "1QkJf5qEsvYLlrdNlfS0rOm2e9Va9hPpU",
     "timestamp": 1682946536145
    },
    {
     "file_id": "1ITzaCZf5Td30iOUvtAuCweHqmPcRrzNI",
     "timestamp": 1660786880335
    }
   ]
  },
  "kernelspec": {
   "display_name": "Python 3",
   "language": "python",
   "name": "python3"
  },
  "language_info": {
   "codemirror_mode": {
    "name": "ipython",
    "version": 3
   },
   "file_extension": ".py",
   "mimetype": "text/x-python",
   "name": "python",
   "nbconvert_exporter": "python",
   "pygments_lexer": "ipython3",
   "version": "3.7.3"
  }
 },
 "nbformat": 4,
 "nbformat_minor": 0
}
